{
 "cells": [
  {
   "cell_type": "code",
   "execution_count": null,
   "metadata": {},
   "outputs": [],
   "source": [
    "import matplotlib.pyplot as plt\n",
    "import seaborn as sns\n",
    "import gc\n",
    "import re\n",
    "import pandas as pd\n",
    "import catboost as cb\n",
    "import numpy as np\n",
    "from sklearn.metrics import roc_auc_score, precision_recall_curve, roc_curve, average_precision_score\n",
    "from sklearn.model_selection import KFold\n",
    "# from lightgbm import LGBMClassifier\n",
    "from xgboost import XGBClassifier\n",
    "import matplotlib.pyplot as plt\n",
    "import seaborn as sns\n",
    "import gc\n",
    "from sklearn.model_selection import StratifiedKFold\n",
    "from dateutil.relativedelta import relativedelta"
   ]
  },
  {
   "cell_type": "code",
   "execution_count": 8,
   "metadata": {},
   "outputs": [
    {
     "data": {
      "text/plain": [
       "'1.0.6'"
      ]
     },
     "execution_count": 8,
     "metadata": {},
     "output_type": "execute_result"
    }
   ],
   "source": [
    "cb.__version__"
   ]
  },
  {
   "cell_type": "code",
   "execution_count": 5,
   "metadata": {},
   "outputs": [
    {
     "data": {
      "text/plain": [
       "'1.5.0'"
      ]
     },
     "execution_count": 5,
     "metadata": {},
     "output_type": "execute_result"
    }
   ],
   "source": [
    "import xgboost;xgboost.__version__"
   ]
  },
  {
   "cell_type": "code",
   "execution_count": 9,
   "metadata": {},
   "outputs": [
    {
     "data": {
      "text/plain": [
       "'1.1.1'"
      ]
     },
     "execution_count": 9,
     "metadata": {},
     "output_type": "execute_result"
    }
   ],
   "source": [
    "# Mine\n",
    "\n",
    "import sklearn\n",
    "sklearn.__version__"
   ]
  },
  {
   "cell_type": "markdown",
   "metadata": {},
   "source": [
    "## 设置与读取"
   ]
  },
  {
   "cell_type": "code",
   "execution_count": 14,
   "metadata": {},
   "outputs": [],
   "source": [
    "import warnings\n",
    "warnings.filterwarnings('ignore')\n",
    "\n",
    "# 显示单元格的所有输出\n",
    "\n",
    "from IPython.core.interactiveshell import InteractiveShell \n",
    "InteractiveShell.ast_node_interactivity = \"all\""
   ]
  },
  {
   "cell_type": "markdown",
   "metadata": {},
   "source": [
    "## 设置与读取"
   ]
  },
  {
   "cell_type": "code",
   "execution_count": 4,
   "metadata": {},
   "outputs": [],
   "source": [
    "train_data = pd.read_csv('../raw_data/train_public.csv')\n",
    "submit_example = pd.read_csv('../raw_data/submit_example.csv')\n",
    "test_public = pd.read_csv('../raw_data/test_public.csv')\n",
    "train_inte = pd.read_csv('../raw_data/train_internet.csv')\n",
    "\n",
    "pd.options.display.max_columns = None\n",
    "pd.options.display.max_rows = 200\n",
    "pd.options.display.float_format = lambda x: '%.3f' % x"
   ]
  },
  {
   "cell_type": "code",
   "execution_count": 14,
   "metadata": {},
   "outputs": [
    {
     "name": "stdout",
     "output_type": "stream",
     "text": [
      "<class 'pandas.core.frame.DataFrame'>\n",
      "RangeIndex: 750000 entries, 0 to 749999\n",
      "Data columns (total 42 columns):\n",
      " #   Column                    Non-Null Count   Dtype  \n",
      "---  ------                    --------------   -----  \n",
      " 0   loan_id                   750000 non-null  int64  \n",
      " 1   user_id                   750000 non-null  int64  \n",
      " 2   total_loan                750000 non-null  float64\n",
      " 3   year_of_loan              750000 non-null  int64  \n",
      " 4   interest                  750000 non-null  float64\n",
      " 5   monthly_payment           750000 non-null  float64\n",
      " 6   class                     750000 non-null  object \n",
      " 7   sub_class                 750000 non-null  object \n",
      " 8   work_type                 750000 non-null  object \n",
      " 9   employer_type             750000 non-null  object \n",
      " 10  industry                  750000 non-null  object \n",
      " 11  work_year                 706153 non-null  object \n",
      " 12  house_exist               750000 non-null  int64  \n",
      " 13  house_loan_status         750000 non-null  int64  \n",
      " 14  censor_status             750000 non-null  int64  \n",
      " 15  marriage                  750000 non-null  int64  \n",
      " 16  offsprings                750000 non-null  int64  \n",
      " 17  issue_date                750000 non-null  object \n",
      " 18  use                       750000 non-null  int64  \n",
      " 19  post_code                 749999 non-null  float64\n",
      " 20  region                    750000 non-null  int64  \n",
      " 21  debt_loan_ratio           749770 non-null  float64\n",
      " 22  del_in_18month            750000 non-null  float64\n",
      " 23  scoring_low               750000 non-null  float64\n",
      " 24  scoring_high              750000 non-null  float64\n",
      " 25  pub_dero_bankrup          749625 non-null  float64\n",
      " 26  early_return              750000 non-null  int64  \n",
      " 27  early_return_amount       750000 non-null  int64  \n",
      " 28  early_return_amount_3mon  750000 non-null  float64\n",
      " 29  recircle_b                750000 non-null  float64\n",
      " 30  recircle_u                749511 non-null  float64\n",
      " 31  initial_list_status       750000 non-null  int64  \n",
      " 32  earlies_credit_mon        750000 non-null  object \n",
      " 33  title                     749999 non-null  float64\n",
      " 34  policy_code               750000 non-null  float64\n",
      " 35  f0                        712202 non-null  float64\n",
      " 36  f1                        684589 non-null  float64\n",
      " 37  f2                        712202 non-null  float64\n",
      " 38  f3                        712201 non-null  float64\n",
      " 39  f4                        712202 non-null  float64\n",
      " 40  f5                        712202 non-null  float64\n",
      " 41  is_default                750000 non-null  int64  \n",
      "dtypes: float64(20), int64(14), object(8)\n",
      "memory usage: 240.3+ MB\n"
     ]
    }
   ],
   "source": [
    "train_inte.info()"
   ]
  },
  {
   "cell_type": "code",
   "execution_count": 15,
   "metadata": {},
   "outputs": [
    {
     "name": "stdout",
     "output_type": "stream",
     "text": [
      "<class 'pandas.core.frame.DataFrame'>\n",
      "RangeIndex: 10000 entries, 0 to 9999\n",
      "Data columns (total 39 columns):\n",
      " #   Column                    Non-Null Count  Dtype  \n",
      "---  ------                    --------------  -----  \n",
      " 0   loan_id                   10000 non-null  int64  \n",
      " 1   user_id                   10000 non-null  int64  \n",
      " 2   total_loan                10000 non-null  float64\n",
      " 3   year_of_loan              10000 non-null  int64  \n",
      " 4   interest                  10000 non-null  float64\n",
      " 5   monthly_payment           10000 non-null  float64\n",
      " 6   class                     10000 non-null  object \n",
      " 7   employer_type             10000 non-null  object \n",
      " 8   industry                  10000 non-null  object \n",
      " 9   work_year                 9378 non-null   object \n",
      " 10  house_exist               10000 non-null  int64  \n",
      " 11  censor_status             10000 non-null  int64  \n",
      " 12  issue_date                10000 non-null  object \n",
      " 13  use                       10000 non-null  int64  \n",
      " 14  post_code                 10000 non-null  int64  \n",
      " 15  region                    10000 non-null  int64  \n",
      " 16  debt_loan_ratio           10000 non-null  float64\n",
      " 17  del_in_18month            10000 non-null  int64  \n",
      " 18  scoring_low               10000 non-null  float64\n",
      " 19  scoring_high              10000 non-null  float64\n",
      " 20  known_outstanding_loan    10000 non-null  int64  \n",
      " 21  known_dero                10000 non-null  int64  \n",
      " 22  pub_dero_bankrup          9993 non-null   float64\n",
      " 23  recircle_b                10000 non-null  float64\n",
      " 24  recircle_u                10000 non-null  float64\n",
      " 25  initial_list_status       10000 non-null  int64  \n",
      " 26  app_type                  10000 non-null  int64  \n",
      " 27  earlies_credit_mon        10000 non-null  object \n",
      " 28  title                     10000 non-null  int64  \n",
      " 29  policy_code               10000 non-null  int64  \n",
      " 30  f0                        9502 non-null   float64\n",
      " 31  f1                        9142 non-null   float64\n",
      " 32  f2                        9502 non-null   float64\n",
      " 33  f3                        9502 non-null   float64\n",
      " 34  f4                        9502 non-null   float64\n",
      " 35  early_return              10000 non-null  int64  \n",
      " 36  early_return_amount       10000 non-null  int64  \n",
      " 37  early_return_amount_3mon  10000 non-null  float64\n",
      " 38  isDefault                 10000 non-null  int64  \n",
      "dtypes: float64(15), int64(18), object(6)\n",
      "memory usage: 3.0+ MB\n"
     ]
    }
   ],
   "source": [
    "train_data.info()"
   ]
  },
  {
   "cell_type": "markdown",
   "metadata": {},
   "source": [
    "### 探索性分析"
   ]
  },
  {
   "cell_type": "code",
   "execution_count": 19,
   "metadata": {},
   "outputs": [
    {
     "data": {
      "text/html": [
       "<div>\n",
       "<style scoped>\n",
       "    .dataframe tbody tr th:only-of-type {\n",
       "        vertical-align: middle;\n",
       "    }\n",
       "\n",
       "    .dataframe tbody tr th {\n",
       "        vertical-align: top;\n",
       "    }\n",
       "\n",
       "    .dataframe thead th {\n",
       "        text-align: right;\n",
       "    }\n",
       "</style>\n",
       "<table border=\"1\" class=\"dataframe\">\n",
       "  <thead>\n",
       "    <tr style=\"text-align: right;\">\n",
       "      <th></th>\n",
       "      <th>earlies_credit_mon</th>\n",
       "    </tr>\n",
       "  </thead>\n",
       "  <tbody>\n",
       "    <tr>\n",
       "      <th>0</th>\n",
       "      <td>1-Dec</td>\n",
       "    </tr>\n",
       "    <tr>\n",
       "      <th>1</th>\n",
       "      <td>Apr-90</td>\n",
       "    </tr>\n",
       "    <tr>\n",
       "      <th>2</th>\n",
       "      <td>Oct-91</td>\n",
       "    </tr>\n",
       "    <tr>\n",
       "      <th>3</th>\n",
       "      <td>1-Jun</td>\n",
       "    </tr>\n",
       "    <tr>\n",
       "      <th>4</th>\n",
       "      <td>2-May</td>\n",
       "    </tr>\n",
       "    <tr>\n",
       "      <th>...</th>\n",
       "      <td>...</td>\n",
       "    </tr>\n",
       "    <tr>\n",
       "      <th>9995</th>\n",
       "      <td>6-Feb</td>\n",
       "    </tr>\n",
       "    <tr>\n",
       "      <th>9996</th>\n",
       "      <td>May-97</td>\n",
       "    </tr>\n",
       "    <tr>\n",
       "      <th>9997</th>\n",
       "      <td>Feb-87</td>\n",
       "    </tr>\n",
       "    <tr>\n",
       "      <th>9998</th>\n",
       "      <td>Oct-92</td>\n",
       "    </tr>\n",
       "    <tr>\n",
       "      <th>9999</th>\n",
       "      <td>9-Feb</td>\n",
       "    </tr>\n",
       "  </tbody>\n",
       "</table>\n",
       "<p>10000 rows × 1 columns</p>\n",
       "</div>"
      ],
      "text/plain": [
       "     earlies_credit_mon\n",
       "0                 1-Dec\n",
       "1                Apr-90\n",
       "2                Oct-91\n",
       "3                 1-Jun\n",
       "4                 2-May\n",
       "...                 ...\n",
       "9995              6-Feb\n",
       "9996             May-97\n",
       "9997             Feb-87\n",
       "9998             Oct-92\n",
       "9999              9-Feb\n",
       "\n",
       "[10000 rows x 1 columns]"
      ]
     },
     "execution_count": 19,
     "metadata": {},
     "output_type": "execute_result"
    }
   ],
   "source": [
    "train_data[['earlies_credit_mon']]"
   ]
  },
  {
   "cell_type": "code",
   "execution_count": 21,
   "metadata": {},
   "outputs": [
    {
     "data": {
      "text/html": [
       "<div>\n",
       "<style scoped>\n",
       "    .dataframe tbody tr th:only-of-type {\n",
       "        vertical-align: middle;\n",
       "    }\n",
       "\n",
       "    .dataframe tbody tr th {\n",
       "        vertical-align: top;\n",
       "    }\n",
       "\n",
       "    .dataframe thead th {\n",
       "        text-align: right;\n",
       "    }\n",
       "</style>\n",
       "<table border=\"1\" class=\"dataframe\">\n",
       "  <thead>\n",
       "    <tr style=\"text-align: right;\">\n",
       "      <th></th>\n",
       "      <th>earlies_credit_mon</th>\n",
       "    </tr>\n",
       "  </thead>\n",
       "  <tbody>\n",
       "    <tr>\n",
       "      <th>0</th>\n",
       "      <td>3-Mar</td>\n",
       "    </tr>\n",
       "    <tr>\n",
       "      <th>1</th>\n",
       "      <td>Dec-99</td>\n",
       "    </tr>\n",
       "    <tr>\n",
       "      <th>2</th>\n",
       "      <td>Apr-99</td>\n",
       "    </tr>\n",
       "    <tr>\n",
       "      <th>3</th>\n",
       "      <td>Jul-00</td>\n",
       "    </tr>\n",
       "    <tr>\n",
       "      <th>4</th>\n",
       "      <td>7-May</td>\n",
       "    </tr>\n",
       "    <tr>\n",
       "      <th>...</th>\n",
       "      <td>...</td>\n",
       "    </tr>\n",
       "    <tr>\n",
       "      <th>4995</th>\n",
       "      <td>5-Jul</td>\n",
       "    </tr>\n",
       "    <tr>\n",
       "      <th>4996</th>\n",
       "      <td>12-Apr</td>\n",
       "    </tr>\n",
       "    <tr>\n",
       "      <th>4997</th>\n",
       "      <td>Oct-86</td>\n",
       "    </tr>\n",
       "    <tr>\n",
       "      <th>4998</th>\n",
       "      <td>Mar-99</td>\n",
       "    </tr>\n",
       "    <tr>\n",
       "      <th>4999</th>\n",
       "      <td>5-Jul</td>\n",
       "    </tr>\n",
       "  </tbody>\n",
       "</table>\n",
       "<p>5000 rows × 1 columns</p>\n",
       "</div>"
      ],
      "text/plain": [
       "     earlies_credit_mon\n",
       "0                 3-Mar\n",
       "1                Dec-99\n",
       "2                Apr-99\n",
       "3                Jul-00\n",
       "4                 7-May\n",
       "...                 ...\n",
       "4995              5-Jul\n",
       "4996             12-Apr\n",
       "4997             Oct-86\n",
       "4998             Mar-99\n",
       "4999              5-Jul\n",
       "\n",
       "[5000 rows x 1 columns]"
      ]
     },
     "execution_count": 21,
     "metadata": {},
     "output_type": "execute_result"
    }
   ],
   "source": [
    "test_public[['earlies_credit_mon']]"
   ]
  },
  {
   "cell_type": "code",
   "execution_count": null,
   "metadata": {},
   "outputs": [
    {
     "data": {
      "text/plain": [
       " 10    246226\n",
       " 2      67987\n",
       " 0      60198\n",
       " 3      60128\n",
       " 1      49204\n",
       " 5      47027\n",
       " 4      45037\n",
       "-1      43847\n",
       " 6      34910\n",
       " 8      33857\n",
       " 7      33200\n",
       " 9      28379\n",
       "Name: work_year, dtype: int64"
      ]
     },
     "metadata": {},
     "output_type": "display_data"
    }
   ],
   "source": [
    "train_inte['work_year'].value_counts()\n",
    "\n",
    "# train_inte['work_year'].nunique(dropna=False)\n",
    "\n",
    "# train_inte[train_inte['work_year'].isnull()]"
   ]
  },
  {
   "cell_type": "code",
   "execution_count": 9,
   "metadata": {},
   "outputs": [
    {
     "data": {
      "text/plain": [
       "0    600327\n",
       "1    149673\n",
       "Name: is_default, dtype: int64"
      ]
     },
     "execution_count": 9,
     "metadata": {},
     "output_type": "execute_result"
    }
   ],
   "source": [
    "train_inte['is_default'].value_counts()"
   ]
  },
  {
   "cell_type": "code",
   "execution_count": 6,
   "metadata": {},
   "outputs": [
    {
     "data": {
      "text/plain": [
       "0    8317\n",
       "1    1683\n",
       "Name: isDefault, dtype: int64"
      ]
     },
     "execution_count": 6,
     "metadata": {},
     "output_type": "execute_result"
    }
   ],
   "source": [
    "train_data['isDefault'].value_counts()"
   ]
  },
  {
   "cell_type": "markdown",
   "metadata": {},
   "source": [
    "### 获取缺失值情况"
   ]
  },
  {
   "cell_type": "code",
   "execution_count": 19,
   "metadata": {},
   "outputs": [],
   "source": [
    "def missing_values_table(df):\n",
    "    mis_val = df.isnull().sum()\n",
    "    mis_val_percent = 100 * df.isnull().sum() / len(df)\n",
    "    mis_val_table = pd.concat([mis_val, mis_val_percent], axis=1)\n",
    "    mis_val_table_ren_columns = mis_val_table.rename(\n",
    "        columns={0: 'Missing Values', 1: '% of Total Values'})\n",
    "    mis_val_table_ren_columns = mis_val_table_ren_columns[          # 找出含缺失值的列并按缺失值的多少由大到小排序\n",
    "        mis_val_table_ren_columns.iloc[:, 1] != 0].sort_values(\n",
    "        '% of Total Values', ascending=False).round(1)\n",
    "    print(\"Your selected dataframe has \" + str(df.shape[1]) + \" columns.\\n\"\n",
    "                                                              \"There are \" + str(mis_val_table_ren_columns.shape[0]) +\n",
    "          \" columns that have missing values.\")\n",
    "    return mis_val_table_ren_columns"
   ]
  },
  {
   "cell_type": "code",
   "execution_count": 38,
   "metadata": {},
   "outputs": [
    {
     "name": "stdout",
     "output_type": "stream",
     "text": [
      "Your selected dataframe has 44 columns.\n",
      "There are 6 columns that have missing values.\n"
     ]
    },
    {
     "data": {
      "text/html": [
       "<div>\n",
       "<style scoped>\n",
       "    .dataframe tbody tr th:only-of-type {\n",
       "        vertical-align: middle;\n",
       "    }\n",
       "\n",
       "    .dataframe tbody tr th {\n",
       "        vertical-align: top;\n",
       "    }\n",
       "\n",
       "    .dataframe thead th {\n",
       "        text-align: right;\n",
       "    }\n",
       "</style>\n",
       "<table border=\"1\" class=\"dataframe\">\n",
       "  <thead>\n",
       "    <tr style=\"text-align: right;\">\n",
       "      <th></th>\n",
       "      <th>Missing Values</th>\n",
       "      <th>% of Total Values</th>\n",
       "    </tr>\n",
       "  </thead>\n",
       "  <tbody>\n",
       "    <tr>\n",
       "      <th>f1</th>\n",
       "      <td>858</td>\n",
       "      <td>8.600</td>\n",
       "    </tr>\n",
       "    <tr>\n",
       "      <th>f0</th>\n",
       "      <td>498</td>\n",
       "      <td>5.000</td>\n",
       "    </tr>\n",
       "    <tr>\n",
       "      <th>f2</th>\n",
       "      <td>498</td>\n",
       "      <td>5.000</td>\n",
       "    </tr>\n",
       "    <tr>\n",
       "      <th>f3</th>\n",
       "      <td>498</td>\n",
       "      <td>5.000</td>\n",
       "    </tr>\n",
       "    <tr>\n",
       "      <th>f4</th>\n",
       "      <td>498</td>\n",
       "      <td>5.000</td>\n",
       "    </tr>\n",
       "    <tr>\n",
       "      <th>pub_dero_bankrup</th>\n",
       "      <td>7</td>\n",
       "      <td>0.100</td>\n",
       "    </tr>\n",
       "  </tbody>\n",
       "</table>\n",
       "</div>"
      ],
      "text/plain": [
       "                  Missing Values  % of Total Values\n",
       "f1                           858              8.600\n",
       "f0                           498              5.000\n",
       "f2                           498              5.000\n",
       "f3                           498              5.000\n",
       "f4                           498              5.000\n",
       "pub_dero_bankrup               7              0.100"
      ]
     },
     "execution_count": 38,
     "metadata": {},
     "output_type": "execute_result"
    }
   ],
   "source": [
    "missing_values_table(train_data)"
   ]
  },
  {
   "cell_type": "code",
   "execution_count": 45,
   "metadata": {},
   "outputs": [
    {
     "data": {
      "text/plain": [
       "<AxesSubplot:>"
      ]
     },
     "execution_count": 45,
     "metadata": {},
     "output_type": "execute_result"
    },
    {
     "data": {
      "text/plain": [
       "<AxesSubplot:xlabel='f1', ylabel='Density'>"
      ]
     },
     "execution_count": 45,
     "metadata": {},
     "output_type": "execute_result"
    },
    {
     "data": {
      "text/plain": [
       "<AxesSubplot:>"
      ]
     },
     "execution_count": 45,
     "metadata": {},
     "output_type": "execute_result"
    },
    {
     "data": {
      "text/plain": [
       "<AxesSubplot:xlabel='f0', ylabel='Density'>"
      ]
     },
     "execution_count": 45,
     "metadata": {},
     "output_type": "execute_result"
    },
    {
     "data": {
      "text/plain": [
       "<AxesSubplot:>"
      ]
     },
     "execution_count": 45,
     "metadata": {},
     "output_type": "execute_result"
    },
    {
     "data": {
      "text/plain": [
       "<AxesSubplot:xlabel='f2', ylabel='Density'>"
      ]
     },
     "execution_count": 45,
     "metadata": {},
     "output_type": "execute_result"
    },
    {
     "data": {
      "text/plain": [
       "<AxesSubplot:>"
      ]
     },
     "execution_count": 45,
     "metadata": {},
     "output_type": "execute_result"
    },
    {
     "data": {
      "text/plain": [
       "<AxesSubplot:xlabel='f3', ylabel='Density'>"
      ]
     },
     "execution_count": 45,
     "metadata": {},
     "output_type": "execute_result"
    },
    {
     "data": {
      "text/plain": [
       "<AxesSubplot:>"
      ]
     },
     "execution_count": 45,
     "metadata": {},
     "output_type": "execute_result"
    },
    {
     "data": {
      "text/plain": [
       "<AxesSubplot:xlabel='f4', ylabel='Density'>"
      ]
     },
     "execution_count": 45,
     "metadata": {},
     "output_type": "execute_result"
    },
    {
     "data": {
      "image/png": "[encoded data removed]",
      "text/plain": [
       "<Figure size 432x288 with 5 Axes>"
      ]
     },
     "metadata": {
      "needs_background": "light"
     },
     "output_type": "display_data"
    }
   ],
   "source": [
    "# 查看数据分布\n",
    "\n",
    "import seaborn as sns\n",
    "from seaborn import kdeplot       \n",
    "\n",
    "plt.subplot(3,2,1)\n",
    "kdeplot(data=train_data,x=\"f1\")\n",
    "plt.subplot(3,2,2)\n",
    "kdeplot(data=train_data,x=\"f0\")\n",
    "plt.subplot(3,2,3)\n",
    "kdeplot(data=train_data,x=\"f2\")\n",
    "plt.subplot(3,2,4)\n",
    "kdeplot(data=train_data,x=\"f3\")\n",
    "plt.subplot(3,2,5)\n",
    "kdeplot(data=train_data,x=\"f4\")"
   ]
  },
  {
   "cell_type": "code",
   "execution_count": 42,
   "metadata": {},
   "outputs": [
    {
     "data": {
      "text/plain": [
       "0.0"
      ]
     },
     "execution_count": 42,
     "metadata": {},
     "output_type": "execute_result"
    },
    {
     "data": {
      "text/plain": [
       "0   0.000\n",
       "Name: f1, dtype: float64"
      ]
     },
     "execution_count": 42,
     "metadata": {},
     "output_type": "execute_result"
    },
    {
     "data": {
      "text/plain": [
       "0.0014220083132793699"
      ]
     },
     "execution_count": 42,
     "metadata": {},
     "output_type": "execute_result"
    }
   ],
   "source": [
    "train_data[\"f1\"].median()\n",
    "train_data[\"f1\"].mode()\n",
    "train_data[\"f1\"].mean()"
   ]
  },
  {
   "cell_type": "code",
   "execution_count": null,
   "metadata": {},
   "outputs": [
    {
     "name": "stdout",
     "output_type": "stream",
     "text": [
      "Your selected dataframe has 43 columns.\n",
      "There are 6 columns that have missing values.\n"
     ]
    },
    {
     "data": {
      "text/html": [
       "<div>\n",
       "<style scoped>\n",
       "    .dataframe tbody tr th:only-of-type {\n",
       "        vertical-align: middle;\n",
       "    }\n",
       "\n",
       "    .dataframe tbody tr th {\n",
       "        vertical-align: top;\n",
       "    }\n",
       "\n",
       "    .dataframe thead th {\n",
       "        text-align: right;\n",
       "    }\n",
       "</style>\n",
       "<table border=\"1\" class=\"dataframe\">\n",
       "  <thead>\n",
       "    <tr style=\"text-align: right;\">\n",
       "      <th></th>\n",
       "      <th>Missing Values</th>\n",
       "      <th>% of Total Values</th>\n",
       "    </tr>\n",
       "  </thead>\n",
       "  <tbody>\n",
       "    <tr>\n",
       "      <th>f1</th>\n",
       "      <td>454</td>\n",
       "      <td>9.100</td>\n",
       "    </tr>\n",
       "    <tr>\n",
       "      <th>f0</th>\n",
       "      <td>259</td>\n",
       "      <td>5.200</td>\n",
       "    </tr>\n",
       "    <tr>\n",
       "      <th>f2</th>\n",
       "      <td>259</td>\n",
       "      <td>5.200</td>\n",
       "    </tr>\n",
       "    <tr>\n",
       "      <th>f3</th>\n",
       "      <td>259</td>\n",
       "      <td>5.200</td>\n",
       "    </tr>\n",
       "    <tr>\n",
       "      <th>f4</th>\n",
       "      <td>259</td>\n",
       "      <td>5.200</td>\n",
       "    </tr>\n",
       "    <tr>\n",
       "      <th>pub_dero_bankrup</th>\n",
       "      <td>4</td>\n",
       "      <td>0.100</td>\n",
       "    </tr>\n",
       "  </tbody>\n",
       "</table>\n",
       "</div>"
      ],
      "text/plain": [
       "                  Missing Values  % of Total Values\n",
       "f1                           454              9.100\n",
       "f0                           259              5.200\n",
       "f2                           259              5.200\n",
       "f3                           259              5.200\n",
       "f4                           259              5.200\n",
       "pub_dero_bankrup               4              0.100"
      ]
     },
     "metadata": {},
     "output_type": "display_data"
    },
    {
     "name": "stdout",
     "output_type": "stream",
     "text": [
      "Your selected dataframe has 47 columns.\n",
      "There are 11 columns that have missing values.\n"
     ]
    },
    {
     "data": {
      "text/html": [
       "<div>\n",
       "<style scoped>\n",
       "    .dataframe tbody tr th:only-of-type {\n",
       "        vertical-align: middle;\n",
       "    }\n",
       "\n",
       "    .dataframe tbody tr th {\n",
       "        vertical-align: top;\n",
       "    }\n",
       "\n",
       "    .dataframe thead th {\n",
       "        text-align: right;\n",
       "    }\n",
       "</style>\n",
       "<table border=\"1\" class=\"dataframe\">\n",
       "  <thead>\n",
       "    <tr style=\"text-align: right;\">\n",
       "      <th></th>\n",
       "      <th>Missing Values</th>\n",
       "      <th>% of Total Values</th>\n",
       "    </tr>\n",
       "  </thead>\n",
       "  <tbody>\n",
       "    <tr>\n",
       "      <th>f1</th>\n",
       "      <td>65411</td>\n",
       "      <td>8.700</td>\n",
       "    </tr>\n",
       "    <tr>\n",
       "      <th>f3</th>\n",
       "      <td>37799</td>\n",
       "      <td>5.000</td>\n",
       "    </tr>\n",
       "    <tr>\n",
       "      <th>f0</th>\n",
       "      <td>37798</td>\n",
       "      <td>5.000</td>\n",
       "    </tr>\n",
       "    <tr>\n",
       "      <th>f2</th>\n",
       "      <td>37798</td>\n",
       "      <td>5.000</td>\n",
       "    </tr>\n",
       "    <tr>\n",
       "      <th>f4</th>\n",
       "      <td>37798</td>\n",
       "      <td>5.000</td>\n",
       "    </tr>\n",
       "    <tr>\n",
       "      <th>f5</th>\n",
       "      <td>37798</td>\n",
       "      <td>5.000</td>\n",
       "    </tr>\n",
       "    <tr>\n",
       "      <th>recircle_u</th>\n",
       "      <td>489</td>\n",
       "      <td>0.100</td>\n",
       "    </tr>\n",
       "    <tr>\n",
       "      <th>pub_dero_bankrup</th>\n",
       "      <td>375</td>\n",
       "      <td>0.000</td>\n",
       "    </tr>\n",
       "    <tr>\n",
       "      <th>debt_loan_ratio</th>\n",
       "      <td>230</td>\n",
       "      <td>0.000</td>\n",
       "    </tr>\n",
       "    <tr>\n",
       "      <th>post_code</th>\n",
       "      <td>1</td>\n",
       "      <td>0.000</td>\n",
       "    </tr>\n",
       "    <tr>\n",
       "      <th>title</th>\n",
       "      <td>1</td>\n",
       "      <td>0.000</td>\n",
       "    </tr>\n",
       "  </tbody>\n",
       "</table>\n",
       "</div>"
      ],
      "text/plain": [
       "                  Missing Values  % of Total Values\n",
       "f1                         65411              8.700\n",
       "f3                         37799              5.000\n",
       "f0                         37798              5.000\n",
       "f2                         37798              5.000\n",
       "f4                         37798              5.000\n",
       "f5                         37798              5.000\n",
       "recircle_u                   489              0.100\n",
       "pub_dero_bankrup             375              0.000\n",
       "debt_loan_ratio              230              0.000\n",
       "post_code                      1              0.000\n",
       "title                          1              0.000"
      ]
     },
     "metadata": {},
     "output_type": "display_data"
    }
   ],
   "source": [
    "missing_values_table(test_public)\n",
    "missing_values_table(train_inte)"
   ]
  },
  {
   "cell_type": "code",
   "execution_count": 46,
   "metadata": {},
   "outputs": [
    {
     "data": {
      "text/plain": [
       "<AxesSubplot:>"
      ]
     },
     "execution_count": 46,
     "metadata": {},
     "output_type": "execute_result"
    },
    {
     "data": {
      "text/plain": [
       "<AxesSubplot:xlabel='f1', ylabel='Density'>"
      ]
     },
     "execution_count": 46,
     "metadata": {},
     "output_type": "execute_result"
    },
    {
     "data": {
      "text/plain": [
       "<AxesSubplot:>"
      ]
     },
     "execution_count": 46,
     "metadata": {},
     "output_type": "execute_result"
    },
    {
     "data": {
      "text/plain": [
       "<AxesSubplot:xlabel='f0', ylabel='Density'>"
      ]
     },
     "execution_count": 46,
     "metadata": {},
     "output_type": "execute_result"
    },
    {
     "data": {
      "text/plain": [
       "<AxesSubplot:>"
      ]
     },
     "execution_count": 46,
     "metadata": {},
     "output_type": "execute_result"
    },
    {
     "data": {
      "text/plain": [
       "<AxesSubplot:xlabel='f2', ylabel='Density'>"
      ]
     },
     "execution_count": 46,
     "metadata": {},
     "output_type": "execute_result"
    },
    {
     "data": {
      "text/plain": [
       "<AxesSubplot:>"
      ]
     },
     "execution_count": 46,
     "metadata": {},
     "output_type": "execute_result"
    },
    {
     "data": {
      "text/plain": [
       "<AxesSubplot:xlabel='f3', ylabel='Density'>"
      ]
     },
     "execution_count": 46,
     "metadata": {},
     "output_type": "execute_result"
    },
    {
     "data": {
      "text/plain": [
       "<AxesSubplot:>"
      ]
     },
     "execution_count": 46,
     "metadata": {},
     "output_type": "execute_result"
    },
    {
     "data": {
      "text/plain": [
       "<AxesSubplot:xlabel='f4', ylabel='Density'>"
      ]
     },
     "execution_count": 46,
     "metadata": {},
     "output_type": "execute_result"
    },
    {
     "data": {
      "image/png": "[encoded data removed]",
      "text/plain": [
       "<Figure size 432x288 with 5 Axes>"
      ]
     },
     "metadata": {
      "needs_background": "light"
     },
     "output_type": "display_data"
    }
   ],
   "source": [
    "# 查看数据分布\n",
    "\n",
    "import seaborn as sns\n",
    "from seaborn import kdeplot       \n",
    "\n",
    "plt.subplot(3,2,1)\n",
    "kdeplot(data=test_public,x=\"f1\")\n",
    "plt.subplot(3,2,2)\n",
    "kdeplot(data=test_public,x=\"f0\")\n",
    "plt.subplot(3,2,3)\n",
    "kdeplot(data=test_public,x=\"f2\")\n",
    "plt.subplot(3,2,4)\n",
    "kdeplot(data=test_public,x=\"f3\")\n",
    "plt.subplot(3,2,5)\n",
    "kdeplot(data=test_public,x=\"f4\")"
   ]
  },
  {
   "cell_type": "code",
   "execution_count": 47,
   "metadata": {},
   "outputs": [
    {
     "data": {
      "text/plain": [
       "<AxesSubplot:>"
      ]
     },
     "execution_count": 47,
     "metadata": {},
     "output_type": "execute_result"
    },
    {
     "data": {
      "text/plain": [
       "<AxesSubplot:xlabel='f1', ylabel='Density'>"
      ]
     },
     "execution_count": 47,
     "metadata": {},
     "output_type": "execute_result"
    },
    {
     "data": {
      "text/plain": [
       "<AxesSubplot:>"
      ]
     },
     "execution_count": 47,
     "metadata": {},
     "output_type": "execute_result"
    },
    {
     "data": {
      "text/plain": [
       "<AxesSubplot:xlabel='f0', ylabel='Density'>"
      ]
     },
     "execution_count": 47,
     "metadata": {},
     "output_type": "execute_result"
    },
    {
     "data": {
      "text/plain": [
       "<AxesSubplot:>"
      ]
     },
     "execution_count": 47,
     "metadata": {},
     "output_type": "execute_result"
    },
    {
     "data": {
      "text/plain": [
       "<AxesSubplot:xlabel='f2', ylabel='Density'>"
      ]
     },
     "execution_count": 47,
     "metadata": {},
     "output_type": "execute_result"
    },
    {
     "data": {
      "text/plain": [
       "<AxesSubplot:>"
      ]
     },
     "execution_count": 47,
     "metadata": {},
     "output_type": "execute_result"
    },
    {
     "data": {
      "text/plain": [
       "<AxesSubplot:xlabel='f3', ylabel='Density'>"
      ]
     },
     "execution_count": 47,
     "metadata": {},
     "output_type": "execute_result"
    },
    {
     "data": {
      "text/plain": [
       "<AxesSubplot:>"
      ]
     },
     "execution_count": 47,
     "metadata": {},
     "output_type": "execute_result"
    },
    {
     "data": {
      "text/plain": [
       "<AxesSubplot:xlabel='f4', ylabel='Density'>"
      ]
     },
     "execution_count": 47,
     "metadata": {},
     "output_type": "execute_result"
    },
    {
     "data": {
      "text/plain": [
       "<AxesSubplot:>"
      ]
     },
     "execution_count": 47,
     "metadata": {},
     "output_type": "execute_result"
    },
    {
     "data": {
      "text/plain": [
       "<AxesSubplot:xlabel='f5', ylabel='Density'>"
      ]
     },
     "execution_count": 47,
     "metadata": {},
     "output_type": "execute_result"
    },
    {
     "data": {
      "image/png": "[encoded data removed]",
      "text/plain": [
       "<Figure size 432x288 with 6 Axes>"
      ]
     },
     "metadata": {
      "needs_background": "light"
     },
     "output_type": "display_data"
    }
   ],
   "source": [
    "# 查看数据分布\n",
    "\n",
    "import seaborn as sns\n",
    "from seaborn import kdeplot       \n",
    "\n",
    "plt.subplot(3,2,1)\n",
    "kdeplot(data=train_inte,x=\"f1\")\n",
    "plt.subplot(3,2,2)\n",
    "kdeplot(data=train_inte,x=\"f0\")\n",
    "plt.subplot(3,2,3)\n",
    "kdeplot(data=train_inte,x=\"f2\")\n",
    "plt.subplot(3,2,4)\n",
    "kdeplot(data=train_inte,x=\"f3\")\n",
    "plt.subplot(3,2,5)\n",
    "kdeplot(data=train_inte,x=\"f4\")\n",
    "plt.subplot(3,2,6)\n",
    "kdeplot(data=train_inte,x=\"f5\")"
   ]
  },
  {
   "cell_type": "markdown",
   "metadata": {},
   "source": [
    "## 模型模块"
   ]
  },
  {
   "cell_type": "code",
   "execution_count": 3,
   "metadata": {},
   "outputs": [],
   "source": [
    "def train_model(data_, test_, y_, folds_,col_to_excl_from_feats=[]):\n",
    "    '''\n",
    "    用catboost模型进行训练\n",
    "    '''\n",
    "    oof_preds = np.zeros(data_.shape[0])\n",
    "    sub_preds = np.zeros(test_.shape[0])\n",
    "    feature_importance_df = pd.DataFrame()\n",
    "    feats = [f for f in data_.columns if f not in ['loan_id', 'user_id', 'isDefault'] + col_to_excl_from_feats]\n",
    "    # for n_fold, (trn_idx, val_idx) in enumerate(folds_.split(data_)):\n",
    "    for n_fold, (trn_idx, val_idx) in enumerate(folds_.split(data_,y)):\n",
    "        # 划分训练集和验证集\n",
    "        trn_x, trn_y = data_[feats].iloc[trn_idx], y_.iloc[trn_idx] \n",
    "        val_x, val_y = data_[feats].iloc[val_idx], y_.iloc[val_idx]\n",
    "\n",
    "        cat_model = cb.CatBoostClassifier(iterations=3000, \n",
    "                              depth=7, \n",
    "                              learning_rate=0.001, \n",
    "                              loss_function='Logloss',\n",
    "                              eval_metric='AUC',\n",
    "                              logging_level='Verbose', \n",
    "                              metric_period=50)\n",
    "\n",
    "        cat_model.fit(trn_x, trn_y, eval_set=[(trn_x, trn_y), (val_x, val_y)])\n",
    "\n",
    "        oof_preds[val_idx] = cat_model.predict_proba(val_x)[:, 1] # 更新验证集预测结果\n",
    "        sub_preds += cat_model.predict_proba(test_[feats])[:, 1] / folds_.n_splits # 更新测试集预测结果\n",
    "        \n",
    "        # 更新特征重要性表\n",
    "        fold_importance_df = pd.DataFrame()\n",
    "        fold_importance_df[\"feature\"] = feats\n",
    "        fold_importance_df[\"importance\"] = cat_model.feature_importances_\n",
    "        fold_importance_df[\"fold\"] = n_fold + 1\n",
    "        feature_importance_df = pd.concat([feature_importance_df, fold_importance_df], axis=0)\n",
    "        \n",
    "        print('Fold %2d AUC : %.6f' % (n_fold + 1, roc_auc_score(val_y, oof_preds[val_idx])))\n",
    "        del cat_model, trn_x, trn_y, val_x, val_y\n",
    "        gc.collect()\n",
    "        \n",
    "    print('Full AUC score %.6f' % roc_auc_score(y, oof_preds)) \n",
    "    \n",
    "    test_['isDefault'] = sub_preds\n",
    "\n",
    "    return oof_preds, test_[['loan_id', 'isDefault']], feature_importance_df\n",
    "\n",
    "def train_model_lgbm(data_, test_, y_, folds_,col_to_excl_from_feats=[]):\n",
    "    '''\n",
    "    用lightgbm模型训练\n",
    "    '''\n",
    "    oof_preds = np.zeros(data_.shape[0])\n",
    "    sub_preds = np.zeros(test_.shape[0])\n",
    "    feature_importance_df = pd.DataFrame()\n",
    "    feats = [f for f in data_.columns if f not in ['loan_id', 'user_id', 'isDefault'] + col_to_excl_from_feats]\n",
    "    # for n_fold, (trn_idx, val_idx) in enumerate(folds_.split(data_)):\n",
    "    for n_fold, (trn_idx, val_idx) in enumerate(folds_.split(data_,y)):\n",
    "        trn_x, trn_y = data_[feats].iloc[trn_idx], y_.iloc[trn_idx]\n",
    "        val_x, val_y = data_[feats].iloc[val_idx], y_.iloc[val_idx]\n",
    "        clf = LGBMClassifier(\n",
    "            # n_estimators=4000,\n",
    "            n_estimators=200,\n",
    "            learning_rate=0.08,\n",
    "            num_leaves=2**5,\n",
    "            colsample_bytree=.65,\n",
    "            subsample=.9,\n",
    "            max_depth=5,\n",
    "#             max_bin=250,\n",
    "            reg_alpha=.3,\n",
    "            reg_lambda=.3,\n",
    "            min_split_gain=.01,\n",
    "            min_child_weight=2,\n",
    "            silent=-1,\n",
    "            verbose=-1,\n",
    "        )\n",
    "        \n",
    "        clf.fit(trn_x, trn_y, \n",
    "                eval_set= [(trn_x, trn_y), (val_x, val_y)], \n",
    "                eval_metric='auc', verbose=100, early_stopping_rounds=40  #30\n",
    "               )\n",
    "\n",
    "        oof_preds[val_idx] = clf.predict_proba(val_x, num_iteration=clf.best_iteration_)[:, 1]\n",
    "        sub_preds += clf.predict_proba(test_[feats], num_iteration=clf.best_iteration_)[:, 1] / folds_.n_splits\n",
    "        \n",
    "        fold_importance_df = pd.DataFrame()\n",
    "        fold_importance_df[\"feature\"] = feats\n",
    "        fold_importance_df[\"importance\"] = clf.feature_importances_\n",
    "        fold_importance_df[\"fold\"] = n_fold + 1\n",
    "        feature_importance_df = pd.concat([feature_importance_df, fold_importance_df], axis=0)\n",
    "        \n",
    "        print('Fold %2d AUC : %.6f' % (n_fold + 1, roc_auc_score(val_y, oof_preds[val_idx])))\n",
    "        del clf, trn_x, trn_y, val_x, val_y\n",
    "        gc.collect()\n",
    "        \n",
    "    print('Full AUC score %.6f' % roc_auc_score(y, oof_preds)) \n",
    "    \n",
    "    test_['isDefault'] = sub_preds\n",
    "\n",
    "    return oof_preds, test_[['loan_id', 'isDefault']], feature_importance_df\n",
    "        \n",
    "    print('Full AUC score %.6f' % roc_auc_score(y, oof_preds)) \n",
    "    \n",
    "    test_['isDefault'] = sub_preds\n",
    "\n",
    "    return oof_preds, test_[['loan_id', 'isDefault']], feature_importance_df\n",
    "\n",
    "def train_model_xgb(data_, test_, y_, folds_, train_model_loc=None, trained_model_name=\"xgboost\"):\n",
    "    import pickle\n",
    "    oof_preds = np.zeros(data_.shape[0])\n",
    "    sub_preds = np.zeros(test_.shape[0])\n",
    "    feats = [f for f in data_.columns if f not in ['loan_id', 'user_id', 'isDefault']]\n",
    "    for n_fold, (trn_idx, val_idx) in enumerate(folds_.split(data_)):\n",
    "        trn_x, trn_y = data_[feats].iloc[trn_idx], y_.iloc[trn_idx] # 划分训练集和验证集\n",
    "        val_x, val_y = data_[feats].iloc[val_idx], y_.iloc[val_idx]\n",
    "        if(train_model_loc is None):\n",
    "            clf = XGBClassifier(eval_metric='auc', max_depth=5, alpha=0.3, reg_lambda=0.3, subsample=0.8,\n",
    "                            colsample_bylevel=0.867, objective='binary:logistic', use_label_encoder=False,\n",
    "                            learning_rate=0.08, n_estimators=4000, min_child_weight=2, tree_method='hist',\n",
    "                            n_jobs=-1) \n",
    "                            # reg_lambda: Defines the degree of L2 regularization \n",
    "                            # alpha: Defines the degree of L1 reg on weights\n",
    "                            # n_estimators: Number of base learners (grad boosted trees)\n",
    "                            # subsample: Subsample ratio of the training instance\n",
    "            clf.fit(trn_x, trn_y,\n",
    "                eval_set=[(trn_x, trn_y), (val_x, val_y)],\n",
    "                eval_metric='auc', verbose=100, early_stopping_rounds=40  # 40\n",
    "                )\n",
    "            pickle.dump(clf, open(f\"../trained_models/{trained_model_name}.pkl\",\"wb\"))\n",
    "        else: # 加载经过预训练的模型\n",
    "            print(\"The trained model has been loaded!\")\n",
    "            clf = pickle.load(train_model_loc,\"rb\")\n",
    "        oof_preds[val_idx] = clf.predict_proba(val_x, ntree_limit=clf.best_ntree_limit)[:, 1] # Update prediction of the labels in the validation set\n",
    "        sub_preds += clf.predict_proba(test_[feats], ntree_limit=clf.best_ntree_limit)[:, 1] / folds_.n_splits # Updare prediction of labels in the test set\n",
    "        print('Fold %2d AUC : %.6f' % (n_fold + 1, roc_auc_score(val_y, oof_preds[val_idx]))) # Compare the prediction with the obs in the validation set\n",
    "        del clf, trn_x, trn_y, val_x, val_y\n",
    "        gc.collect()\n",
    "\n",
    "    print('Full AUC score %.6f' % roc_auc_score(y_, oof_preds))\n",
    "\n",
    "    test_['isDefault'] = sub_preds\n",
    "    return test_[['loan_id', 'isDefault']]\n",
    "\n",
    "    \n",
    "def display_importances(feature_importance_df_, fname='lgbm_importances.png'):\n",
    "    '''\n",
    "    绘制特征重要性图\n",
    "    '''\n",
    "    sns.set(style='whitegrid')\n",
    "    \n",
    "    # Plot feature importances\n",
    "    cols = feature_importance_df_[[\"feature\", \"importance\"]].groupby(\"feature\").mean().sort_values( # Calculate avg over folds\n",
    "        by=\"importance\", ascending=False)[:50].index\n",
    "    \n",
    "    best_features = feature_importance_df_.loc[feature_importance_df_.feature.isin(cols)]\n",
    "    \n",
    "    plt.figure(figsize=(8,10))\n",
    "    sns.barplot(x=\"importance\", y=\"feature\", \n",
    "                data=best_features.sort_values(by=\"importance\", ascending=False))\n",
    "    plt.title(f'{fname.split(\"_\")[0]} Features (avg over folds)')\n",
    "\n",
    "    # ax = plt.gca()\n",
    "\n",
    "    ### todo: Set the color of ticks on x and y axes to white\n",
    "    \n",
    "    # ax.set_xticklabels(col='white')\n",
    "    # ax.set_yticklabels(col='white')\n",
    "    plt.tight_layout()\n",
    "    plt.savefig(fname)"
   ]
  },
  {
   "cell_type": "markdown",
   "metadata": {},
   "source": [
    "## 数据预处理"
   ]
  },
  {
   "cell_type": "markdown",
   "metadata": {},
   "source": [
    "### 特征处理函数"
   ]
  },
  {
   "cell_type": "code",
   "execution_count": 17,
   "metadata": {},
   "outputs": [],
   "source": [
    "def workYearDIc(x):\n",
    "    if str(x)=='nan': # Check the ratio of 'nan' entries\n",
    "        return -1\n",
    "    x = x.replace('< 1','0')\n",
    "    return int(re.search('(\\d+)', x).group())\n",
    "\n",
    "def findDig(val):\n",
    "    fd = re.search('(\\d+-)', val)\n",
    "    if fd is None:\n",
    "        return '1-'+val\n",
    "    return val + '-01'\n",
    "\n",
    "\n",
    "class_dict = {\n",
    "    'A': 1,\n",
    "    'B': 2,\n",
    "    'C': 3,\n",
    "    'D': 4,\n",
    "    'E': 5,\n",
    "    'F': 6,\n",
    "    'G': 7,\n",
    "}\n",
    "timeMax = pd.to_datetime('1-Dec-21')"
   ]
  },
  {
   "cell_type": "code",
   "execution_count": 21,
   "metadata": {},
   "outputs": [],
   "source": [
    "#train_test, train_public数据处理\n",
    "train_data['work_year'] = train_data['work_year'].map(workYearDIc)\n",
    "test_public['work_year'] = test_public['work_year'].map(workYearDIc)\n",
    "\n",
    "train_data['class'] = train_data['class'].map(class_dict)\n",
    "test_public['class'] = test_public['class'].map(class_dict)\n",
    "\n",
    "train_data['earlies_credit_mon'] = pd.to_datetime(train_data['earlies_credit_mon'].map(findDig))\n",
    "test_public['earlies_credit_mon'] = pd.to_datetime(test_public['earlies_credit_mon'].map(findDig))\n",
    "\n",
    "train_data.loc[ train_data['earlies_credit_mon']>timeMax,'earlies_credit_mon' ] = train_data.loc[ train_data['earlies_credit_mon']>timeMax,'earlies_credit_mon' ]+  pd.offsets.DateOffset(years=-100)  \n",
    "test_public.loc[ test_public['earlies_credit_mon']>timeMax,'earlies_credit_mon' ] = test_public.loc[ test_public['earlies_credit_mon']>timeMax,'earlies_credit_mon' ]+ pd.offsets.DateOffset(years=-100)\n",
    "\n",
    "train_data['issue_date'] = pd.to_datetime(train_data['issue_date'])\n",
    "test_public['issue_date'] = pd.to_datetime(test_public['issue_date'])\n",
    "\n",
    "\n",
    "\n",
    "#Internet数据处理\n",
    "train_inte['work_year'] = train_inte['work_year'].map(workYearDIc)\n",
    "train_inte['class'] = train_inte['class'].map(class_dict)\n",
    "train_inte['earlies_credit_mon'] = pd.to_datetime(train_inte['earlies_credit_mon'])\n",
    "train_inte['issue_date'] = pd.to_datetime(train_inte['issue_date'])\n",
    "\n",
    "\n"
   ]
  },
  {
   "cell_type": "markdown",
   "metadata": {},
   "source": [
    "### 缺失值填充"
   ]
  },
  {
   "cell_type": "code",
   "execution_count": null,
   "metadata": {},
   "outputs": [
    {
     "data": {
      "text/plain": [
       "{'f0', 'f1', 'f2', 'f3', 'f4', 'pub_dero_bankrup'}"
      ]
     },
     "metadata": {},
     "output_type": "display_data"
    }
   ],
   "source": [
    "# Columns containing missing values\n",
    "set(train_data.columns).difference(train_data.dropna(axis='columns').columns)"
   ]
  },
  {
   "cell_type": "code",
   "execution_count": 22,
   "metadata": {},
   "outputs": [
    {
     "name": "stdout",
     "output_type": "stream",
     "text": [
      "Your selected dataframe has 39 columns.\n",
      "There are 6 columns that have missing values.\n",
      "Your selected dataframe has 38 columns.\n",
      "There are 6 columns that have missing values.\n",
      "Your selected dataframe has 42 columns.\n",
      "There are 11 columns that have missing values.\n",
      "['pub_dero_bankrup']\n",
      "['pub_dero_bankrup']\n",
      "['f5', 'post_code', 'debt_loan_ratio', 'pub_dero_bankrup', 'title', 'recircle_u']\n"
     ]
    }
   ],
   "source": [
    "f_feas = ['f0', 'f1', 'f2', 'f3', 'f4'] # f5只在Internet数据中出现，不用于模型训练，不包含\n",
    "\n",
    "missing_numerical_feas_train_data = list(set(missing_values_table(train_data).reset_index().iloc[:,0]).difference(set(f_feas)))\n",
    "\n",
    "missing_numerical_feas_test_pub = list(set(missing_values_table(test_public).reset_index().iloc[:,0]).difference(set(f_feas)))\n",
    "\n",
    "missing_numerical_feas_train_inte = list(set(missing_values_table(train_inte).reset_index().iloc[:,0]).difference(set(f_feas)))\n",
    "\n",
    "print(missing_numerical_feas_train_data)\n",
    "print(missing_numerical_feas_test_pub)\n",
    "print(missing_numerical_feas_train_inte)\n",
    "\n"
   ]
  },
  {
   "cell_type": "code",
   "execution_count": 23,
   "metadata": {},
   "outputs": [],
   "source": [
    "for col in missing_numerical_feas_train_data:\n",
    "    train_data[col] = train_data[col].fillna(train_data[col].median())\n",
    "\n",
    "for col in missing_numerical_feas_test_pub:\n",
    "    test_public[col] = test_public[col].fillna(test_public[col].median())\n",
    "\n",
    "train_data.loc[train_data['debt_loan_ratio'] <= 0, 'debt_loan_ratio'] = 0\n",
    "test_public.loc[test_public['debt_loan_ratio'] <= 0, 'debt_loan_ratio'] = 0"
   ]
  },
  {
   "cell_type": "code",
   "execution_count": 24,
   "metadata": {},
   "outputs": [],
   "source": [
    "for col in missing_numerical_feas_train_inte:\n",
    "    if train_inte[col].dtype == \"int64\" or train_inte[col].dtype == \"float64\":\n",
    "        if col == \"post_code\":\n",
    "            train_inte[\"post_code\"] = train_inte[\"post_code\"].fillna(train_inte[\"post_code\"].mode()[0])\n",
    "        else:\n",
    "            train_inte[col] = train_inte[col].fillna(train_inte[col].median())\n",
    "train_inte['debt_loan_ratio'] = train_inte['debt_loan_ratio'].apply(lambda x: 0 if x < 0 else x)"
   ]
  },
  {
   "cell_type": "code",
   "execution_count": 25,
   "metadata": {},
   "outputs": [],
   "source": [
    "train_data[f_feas] = train_data[f_feas].fillna(train_data[f_feas].median())\n",
    "test_public[f_feas] = test_public[f_feas].fillna(test_public[f_feas].median())\n",
    "train_inte[f_feas] = train_inte[f_feas].fillna(train_inte[f_feas].median())"
   ]
  },
  {
   "cell_type": "code",
   "execution_count": 90,
   "metadata": {},
   "outputs": [
    {
     "name": "stdout",
     "output_type": "stream",
     "text": [
      "Your selected dataframe has 44 columns.\n",
      "There are 1 columns that have missing values.\n"
     ]
    },
    {
     "data": {
      "text/html": [
       "<div>\n",
       "<style scoped>\n",
       "    .dataframe tbody tr th:only-of-type {\n",
       "        vertical-align: middle;\n",
       "    }\n",
       "\n",
       "    .dataframe tbody tr th {\n",
       "        vertical-align: top;\n",
       "    }\n",
       "\n",
       "    .dataframe thead th {\n",
       "        text-align: right;\n",
       "    }\n",
       "</style>\n",
       "<table border=\"1\" class=\"dataframe\">\n",
       "  <thead>\n",
       "    <tr style=\"text-align: right;\">\n",
       "      <th></th>\n",
       "      <th>Missing Values</th>\n",
       "      <th>% of Total Values</th>\n",
       "    </tr>\n",
       "  </thead>\n",
       "  <tbody>\n",
       "    <tr>\n",
       "      <th>work_year</th>\n",
       "      <td>622</td>\n",
       "      <td>6.200</td>\n",
       "    </tr>\n",
       "  </tbody>\n",
       "</table>\n",
       "</div>"
      ],
      "text/plain": [
       "           Missing Values  % of Total Values\n",
       "work_year             622              6.200"
      ]
     },
     "execution_count": 90,
     "metadata": {},
     "output_type": "execute_result"
    },
    {
     "name": "stdout",
     "output_type": "stream",
     "text": [
      "Your selected dataframe has 43 columns.\n",
      "There are 1 columns that have missing values.\n"
     ]
    },
    {
     "data": {
      "text/html": [
       "<div>\n",
       "<style scoped>\n",
       "    .dataframe tbody tr th:only-of-type {\n",
       "        vertical-align: middle;\n",
       "    }\n",
       "\n",
       "    .dataframe tbody tr th {\n",
       "        vertical-align: top;\n",
       "    }\n",
       "\n",
       "    .dataframe thead th {\n",
       "        text-align: right;\n",
       "    }\n",
       "</style>\n",
       "<table border=\"1\" class=\"dataframe\">\n",
       "  <thead>\n",
       "    <tr style=\"text-align: right;\">\n",
       "      <th></th>\n",
       "      <th>Missing Values</th>\n",
       "      <th>% of Total Values</th>\n",
       "    </tr>\n",
       "  </thead>\n",
       "  <tbody>\n",
       "    <tr>\n",
       "      <th>work_year</th>\n",
       "      <td>278</td>\n",
       "      <td>5.600</td>\n",
       "    </tr>\n",
       "  </tbody>\n",
       "</table>\n",
       "</div>"
      ],
      "text/plain": [
       "           Missing Values  % of Total Values\n",
       "work_year             278              5.600"
      ]
     },
     "execution_count": 90,
     "metadata": {},
     "output_type": "execute_result"
    },
    {
     "name": "stdout",
     "output_type": "stream",
     "text": [
      "Your selected dataframe has 47 columns.\n",
      "There are 1 columns that have missing values.\n"
     ]
    },
    {
     "data": {
      "text/html": [
       "<div>\n",
       "<style scoped>\n",
       "    .dataframe tbody tr th:only-of-type {\n",
       "        vertical-align: middle;\n",
       "    }\n",
       "\n",
       "    .dataframe tbody tr th {\n",
       "        vertical-align: top;\n",
       "    }\n",
       "\n",
       "    .dataframe thead th {\n",
       "        text-align: right;\n",
       "    }\n",
       "</style>\n",
       "<table border=\"1\" class=\"dataframe\">\n",
       "  <thead>\n",
       "    <tr style=\"text-align: right;\">\n",
       "      <th></th>\n",
       "      <th>Missing Values</th>\n",
       "      <th>% of Total Values</th>\n",
       "    </tr>\n",
       "  </thead>\n",
       "  <tbody>\n",
       "    <tr>\n",
       "      <th>work_year</th>\n",
       "      <td>43847</td>\n",
       "      <td>5.800</td>\n",
       "    </tr>\n",
       "  </tbody>\n",
       "</table>\n",
       "</div>"
      ],
      "text/plain": [
       "           Missing Values  % of Total Values\n",
       "work_year           43847              5.800"
      ]
     },
     "execution_count": 90,
     "metadata": {},
     "output_type": "execute_result"
    }
   ],
   "source": [
    "missing_values_table(train_data)\n",
    "missing_values_table(test_public)\n",
    "missing_values_table(train_inte)"
   ]
  },
  {
   "cell_type": "code",
   "execution_count": 26,
   "metadata": {},
   "outputs": [
    {
     "name": "stdout",
     "output_type": "stream",
     "text": [
      "Your selected dataframe has 39 columns.\n",
      "There are 0 columns that have missing values.\n"
     ]
    },
    {
     "data": {
      "text/html": [
       "<div>\n",
       "<style scoped>\n",
       "    .dataframe tbody tr th:only-of-type {\n",
       "        vertical-align: middle;\n",
       "    }\n",
       "\n",
       "    .dataframe tbody tr th {\n",
       "        vertical-align: top;\n",
       "    }\n",
       "\n",
       "    .dataframe thead th {\n",
       "        text-align: right;\n",
       "    }\n",
       "</style>\n",
       "<table border=\"1\" class=\"dataframe\">\n",
       "  <thead>\n",
       "    <tr style=\"text-align: right;\">\n",
       "      <th></th>\n",
       "      <th>Missing Values</th>\n",
       "      <th>% of Total Values</th>\n",
       "    </tr>\n",
       "  </thead>\n",
       "  <tbody>\n",
       "  </tbody>\n",
       "</table>\n",
       "</div>"
      ],
      "text/plain": [
       "Empty DataFrame\n",
       "Columns: [Missing Values, % of Total Values]\n",
       "Index: []"
      ]
     },
     "execution_count": 26,
     "metadata": {},
     "output_type": "execute_result"
    },
    {
     "name": "stdout",
     "output_type": "stream",
     "text": [
      "Your selected dataframe has 38 columns.\n",
      "There are 0 columns that have missing values.\n"
     ]
    },
    {
     "data": {
      "text/html": [
       "<div>\n",
       "<style scoped>\n",
       "    .dataframe tbody tr th:only-of-type {\n",
       "        vertical-align: middle;\n",
       "    }\n",
       "\n",
       "    .dataframe tbody tr th {\n",
       "        vertical-align: top;\n",
       "    }\n",
       "\n",
       "    .dataframe thead th {\n",
       "        text-align: right;\n",
       "    }\n",
       "</style>\n",
       "<table border=\"1\" class=\"dataframe\">\n",
       "  <thead>\n",
       "    <tr style=\"text-align: right;\">\n",
       "      <th></th>\n",
       "      <th>Missing Values</th>\n",
       "      <th>% of Total Values</th>\n",
       "    </tr>\n",
       "  </thead>\n",
       "  <tbody>\n",
       "  </tbody>\n",
       "</table>\n",
       "</div>"
      ],
      "text/plain": [
       "Empty DataFrame\n",
       "Columns: [Missing Values, % of Total Values]\n",
       "Index: []"
      ]
     },
     "execution_count": 26,
     "metadata": {},
     "output_type": "execute_result"
    },
    {
     "name": "stdout",
     "output_type": "stream",
     "text": [
      "Your selected dataframe has 42 columns.\n",
      "There are 0 columns that have missing values.\n"
     ]
    },
    {
     "data": {
      "text/html": [
       "<div>\n",
       "<style scoped>\n",
       "    .dataframe tbody tr th:only-of-type {\n",
       "        vertical-align: middle;\n",
       "    }\n",
       "\n",
       "    .dataframe tbody tr th {\n",
       "        vertical-align: top;\n",
       "    }\n",
       "\n",
       "    .dataframe thead th {\n",
       "        text-align: right;\n",
       "    }\n",
       "</style>\n",
       "<table border=\"1\" class=\"dataframe\">\n",
       "  <thead>\n",
       "    <tr style=\"text-align: right;\">\n",
       "      <th></th>\n",
       "      <th>Missing Values</th>\n",
       "      <th>% of Total Values</th>\n",
       "    </tr>\n",
       "  </thead>\n",
       "  <tbody>\n",
       "  </tbody>\n",
       "</table>\n",
       "</div>"
      ],
      "text/plain": [
       "Empty DataFrame\n",
       "Columns: [Missing Values, % of Total Values]\n",
       "Index: []"
      ]
     },
     "execution_count": 26,
     "metadata": {},
     "output_type": "execute_result"
    }
   ],
   "source": [
    "missing_values_table(train_data)\n",
    "missing_values_table(test_public)\n",
    "missing_values_table(train_inte)"
   ]
  },
  {
   "cell_type": "code",
   "execution_count": 9,
   "metadata": {},
   "outputs": [
    {
     "data": {
      "text/plain": [
       "0   2001-12-01\n",
       "1   1990-04-01\n",
       "2   1991-10-01\n",
       "3   2001-06-01\n",
       "4   2001-05-02\n",
       "5   1983-01-01\n",
       "6   2001-10-02\n",
       "7   2001-10-08\n",
       "8   1971-11-01\n",
       "9   2001-12-01\n",
       "Name: earlies_credit_mon, dtype: datetime64[ns]"
      ]
     },
     "execution_count": 9,
     "metadata": {},
     "output_type": "execute_result"
    }
   ],
   "source": [
    "import copy\n",
    "\n",
    "df = copy.deepcopy(train_data['earlies_credit_mon'].iloc[:10])\n",
    "\n",
    "pd.to_datetime(df.map(findDig))"
   ]
  },
  {
   "cell_type": "markdown",
   "metadata": {},
   "source": [
    "### 对抗过拟合-特征粒度处理"
   ]
  },
  {
   "cell_type": "markdown",
   "metadata": {},
   "source": [
    "### 时间特征"
   ]
  },
  {
   "cell_type": "code",
   "execution_count": 27,
   "metadata": {},
   "outputs": [],
   "source": [
    "train_data['issue_date_month'] = train_data['issue_date'].dt.month\n",
    "test_public['issue_date_month'] = test_public['issue_date'].dt.month\n",
    "train_data['issue_date_dayofweek'] = train_data['issue_date'].dt.dayofweek\n",
    "test_public['issue_date_dayofweek'] = test_public['issue_date'].dt.dayofweek\n",
    "\n",
    "train_data['earliesCreditMon'] = train_data['earlies_credit_mon'].dt.month\n",
    "test_public['earliesCreditMon'] = test_public['earlies_credit_mon'].dt.month\n",
    "train_data['earliesCreditYear'] = train_data['earlies_credit_mon'].dt.year\n",
    "test_public['earliesCreditYear'] = test_public['earlies_credit_mon'].dt.year\n",
    "\n",
    "\n",
    "###internet数据\n",
    "\n",
    "train_inte['issue_date_month'] = train_inte['issue_date'].dt.month\n",
    "train_inte['issue_date_dayofweek'] = train_inte['issue_date'].dt.dayofweek\n",
    "train_inte['earliesCreditMon'] = train_inte['earlies_credit_mon'].dt.month\n",
    "train_inte['earliesCreditYear'] = train_inte['earlies_credit_mon'].dt.year\n"
   ]
  },
  {
   "cell_type": "markdown",
   "metadata": {},
   "source": [
    "## Pcode 特征"
   ]
  },
  {
   "cell_type": "code",
   "execution_count": 8,
   "metadata": {},
   "outputs": [
    {
     "data": {
      "text/plain": [
       "0    193\n",
       "1    491\n",
       "2    459\n",
       "3    157\n",
       "4     38\n",
       "Name: post_code, dtype: int64"
      ]
     },
     "execution_count": 8,
     "metadata": {},
     "output_type": "execute_result"
    }
   ],
   "source": [
    "train_data['post_code'].head()"
   ]
  },
  {
   "cell_type": "code",
   "execution_count": null,
   "metadata": {},
   "outputs": [
    {
     "data": {
      "text/plain": [
       "0"
      ]
     },
     "metadata": {},
     "output_type": "display_data"
    },
    {
     "data": {
      "text/plain": [
       "901"
      ]
     },
     "metadata": {},
     "output_type": "display_data"
    }
   ],
   "source": [
    "train_data['post_code'].min()\n",
    "train_data['post_code'].max()"
   ]
  },
  {
   "cell_type": "markdown",
   "metadata": {},
   "source": [
    "## 精度处理，没有提升，不代表不对"
   ]
  },
  {
   "cell_type": "code",
   "execution_count": 28,
   "metadata": {},
   "outputs": [],
   "source": [
    "def set_precision(num, n_digits = 3):\n",
    "\n",
    "    # num = float(num)\n",
    "\n",
    "    fmt_str = f'.{n_digits}f'\n",
    "    # print(fmt_str)\n",
    "    return float(f'{num:{fmt_str}}')"
   ]
  },
  {
   "cell_type": "code",
   "execution_count": null,
   "metadata": {},
   "outputs": [
    {
     "data": {
      "text/plain": [
       "'float64'"
      ]
     },
     "metadata": {},
     "output_type": "display_data"
    }
   ],
   "source": [
    "str(train_inte['total_loan'].dtype)"
   ]
  },
  {
   "cell_type": "code",
   "execution_count": 57,
   "metadata": {},
   "outputs": [],
   "source": [
    "def process(df, func=set_precision, **kwargs) -> pd.DataFrame:\n",
    "    for col in df:\n",
    "        if str(df[col].dtype) == 'float64':\n",
    "            new_col = df[col].apply(set_precision, **kwargs)\n",
    "            new_col.name = col\n",
    "            df = df.drop(col, axis=1)\n",
    "            df[col] = new_col\n",
    "    return df"
   ]
  },
  {
   "cell_type": "code",
   "execution_count": 30,
   "metadata": {},
   "outputs": [
    {
     "data": {
      "text/html": [
       "<div>\n",
       "<style scoped>\n",
       "    .dataframe tbody tr th:only-of-type {\n",
       "        vertical-align: middle;\n",
       "    }\n",
       "\n",
       "    .dataframe tbody tr th {\n",
       "        vertical-align: top;\n",
       "    }\n",
       "\n",
       "    .dataframe thead th {\n",
       "        text-align: right;\n",
       "    }\n",
       "</style>\n",
       "<table border=\"1\" class=\"dataframe\">\n",
       "  <thead>\n",
       "    <tr style=\"text-align: right;\">\n",
       "      <th></th>\n",
       "      <th>loan_id</th>\n",
       "      <th>user_id</th>\n",
       "      <th>year_of_loan</th>\n",
       "      <th>class</th>\n",
       "      <th>employer_type</th>\n",
       "      <th>industry</th>\n",
       "      <th>work_year</th>\n",
       "      <th>house_exist</th>\n",
       "      <th>censor_status</th>\n",
       "      <th>issue_date</th>\n",
       "      <th>use</th>\n",
       "      <th>post_code</th>\n",
       "      <th>region</th>\n",
       "      <th>del_in_18month</th>\n",
       "      <th>known_outstanding_loan</th>\n",
       "      <th>known_dero</th>\n",
       "      <th>initial_list_status</th>\n",
       "      <th>app_type</th>\n",
       "      <th>earlies_credit_mon</th>\n",
       "      <th>title</th>\n",
       "      <th>policy_code</th>\n",
       "      <th>early_return</th>\n",
       "      <th>early_return_amount</th>\n",
       "      <th>isDefault</th>\n",
       "      <th>issue_date_month</th>\n",
       "      <th>issue_date_dayofweek</th>\n",
       "      <th>earliesCreditMon</th>\n",
       "      <th>earliesCreditYear</th>\n",
       "      <th>total_loan</th>\n",
       "      <th>interest</th>\n",
       "      <th>monthly_payment</th>\n",
       "      <th>debt_loan_ratio</th>\n",
       "      <th>scoring_low</th>\n",
       "      <th>scoring_high</th>\n",
       "      <th>pub_dero_bankrup</th>\n",
       "      <th>recircle_b</th>\n",
       "      <th>recircle_u</th>\n",
       "      <th>f0</th>\n",
       "      <th>f1</th>\n",
       "      <th>f2</th>\n",
       "      <th>f3</th>\n",
       "      <th>f4</th>\n",
       "      <th>early_return_amount_3mon</th>\n",
       "    </tr>\n",
       "  </thead>\n",
       "  <tbody>\n",
       "    <tr>\n",
       "      <th>0</th>\n",
       "      <td>1040418</td>\n",
       "      <td>240418</td>\n",
       "      <td>3</td>\n",
       "      <td>3</td>\n",
       "      <td>政府机构</td>\n",
       "      <td>金融业</td>\n",
       "      <td>3</td>\n",
       "      <td>0</td>\n",
       "      <td>1</td>\n",
       "      <td>2016-10-01</td>\n",
       "      <td>2</td>\n",
       "      <td>193</td>\n",
       "      <td>13</td>\n",
       "      <td>0</td>\n",
       "      <td>3</td>\n",
       "      <td>0</td>\n",
       "      <td>0</td>\n",
       "      <td>0</td>\n",
       "      <td>2001-12-01</td>\n",
       "      <td>5</td>\n",
       "      <td>1</td>\n",
       "      <td>3</td>\n",
       "      <td>9927</td>\n",
       "      <td>0</td>\n",
       "      <td>10</td>\n",
       "      <td>5</td>\n",
       "      <td>12</td>\n",
       "      <td>2001</td>\n",
       "      <td>31818.182</td>\n",
       "      <td>11.466</td>\n",
       "      <td>1174.910</td>\n",
       "      <td>2.430</td>\n",
       "      <td>556.364</td>\n",
       "      <td>649.091</td>\n",
       "      <td>0.000</td>\n",
       "      <td>7734.231</td>\n",
       "      <td>91.800</td>\n",
       "      <td>1.000</td>\n",
       "      <td>0.000</td>\n",
       "      <td>4.000</td>\n",
       "      <td>5.000</td>\n",
       "      <td>4.000</td>\n",
       "      <td>0.000</td>\n",
       "    </tr>\n",
       "    <tr>\n",
       "      <th>1</th>\n",
       "      <td>1025197</td>\n",
       "      <td>225197</td>\n",
       "      <td>5</td>\n",
       "      <td>3</td>\n",
       "      <td>政府机构</td>\n",
       "      <td>金融业</td>\n",
       "      <td>10</td>\n",
       "      <td>0</td>\n",
       "      <td>2</td>\n",
       "      <td>2013-06-01</td>\n",
       "      <td>0</td>\n",
       "      <td>491</td>\n",
       "      <td>30</td>\n",
       "      <td>1</td>\n",
       "      <td>3</td>\n",
       "      <td>0</td>\n",
       "      <td>1</td>\n",
       "      <td>0</td>\n",
       "      <td>1990-04-01</td>\n",
       "      <td>40642</td>\n",
       "      <td>1</td>\n",
       "      <td>0</td>\n",
       "      <td>0</td>\n",
       "      <td>0</td>\n",
       "      <td>6</td>\n",
       "      <td>5</td>\n",
       "      <td>4</td>\n",
       "      <td>1990</td>\n",
       "      <td>28000.000</td>\n",
       "      <td>16.841</td>\n",
       "      <td>670.690</td>\n",
       "      <td>11.005</td>\n",
       "      <td>715.000</td>\n",
       "      <td>893.750</td>\n",
       "      <td>0.000</td>\n",
       "      <td>31329.000</td>\n",
       "      <td>54.800</td>\n",
       "      <td>7.000</td>\n",
       "      <td>0.000</td>\n",
       "      <td>4.000</td>\n",
       "      <td>45.000</td>\n",
       "      <td>22.000</td>\n",
       "      <td>0.000</td>\n",
       "    </tr>\n",
       "    <tr>\n",
       "      <th>2</th>\n",
       "      <td>1009360</td>\n",
       "      <td>209360</td>\n",
       "      <td>3</td>\n",
       "      <td>1</td>\n",
       "      <td>政府机构</td>\n",
       "      <td>公共服务、社会组织</td>\n",
       "      <td>10</td>\n",
       "      <td>1</td>\n",
       "      <td>0</td>\n",
       "      <td>2014-01-01</td>\n",
       "      <td>4</td>\n",
       "      <td>459</td>\n",
       "      <td>8</td>\n",
       "      <td>0</td>\n",
       "      <td>5</td>\n",
       "      <td>0</td>\n",
       "      <td>1</td>\n",
       "      <td>0</td>\n",
       "      <td>1991-10-01</td>\n",
       "      <td>154</td>\n",
       "      <td>1</td>\n",
       "      <td>0</td>\n",
       "      <td>0</td>\n",
       "      <td>0</td>\n",
       "      <td>1</td>\n",
       "      <td>2</td>\n",
       "      <td>10</td>\n",
       "      <td>1991</td>\n",
       "      <td>17272.727</td>\n",
       "      <td>8.900</td>\n",
       "      <td>603.320</td>\n",
       "      <td>6.409</td>\n",
       "      <td>774.545</td>\n",
       "      <td>903.636</td>\n",
       "      <td>0.000</td>\n",
       "      <td>18514.000</td>\n",
       "      <td>57.692</td>\n",
       "      <td>6.000</td>\n",
       "      <td>0.000</td>\n",
       "      <td>6.000</td>\n",
       "      <td>28.000</td>\n",
       "      <td>19.000</td>\n",
       "      <td>0.000</td>\n",
       "    </tr>\n",
       "    <tr>\n",
       "      <th>3</th>\n",
       "      <td>1039708</td>\n",
       "      <td>239708</td>\n",
       "      <td>3</td>\n",
       "      <td>1</td>\n",
       "      <td>世界五百强</td>\n",
       "      <td>文化和体育业</td>\n",
       "      <td>6</td>\n",
       "      <td>0</td>\n",
       "      <td>1</td>\n",
       "      <td>2015-07-01</td>\n",
       "      <td>0</td>\n",
       "      <td>157</td>\n",
       "      <td>8</td>\n",
       "      <td>0</td>\n",
       "      <td>3</td>\n",
       "      <td>0</td>\n",
       "      <td>0</td>\n",
       "      <td>0</td>\n",
       "      <td>2001-06-01</td>\n",
       "      <td>0</td>\n",
       "      <td>1</td>\n",
       "      <td>0</td>\n",
       "      <td>0</td>\n",
       "      <td>0</td>\n",
       "      <td>7</td>\n",
       "      <td>2</td>\n",
       "      <td>6</td>\n",
       "      <td>2001</td>\n",
       "      <td>20000.000</td>\n",
       "      <td>4.788</td>\n",
       "      <td>602.300</td>\n",
       "      <td>9.205</td>\n",
       "      <td>750.000</td>\n",
       "      <td>875.000</td>\n",
       "      <td>0.000</td>\n",
       "      <td>20707.000</td>\n",
       "      <td>42.600</td>\n",
       "      <td>5.000</td>\n",
       "      <td>0.000</td>\n",
       "      <td>10.000</td>\n",
       "      <td>15.000</td>\n",
       "      <td>9.000</td>\n",
       "      <td>0.000</td>\n",
       "    </tr>\n",
       "    <tr>\n",
       "      <th>4</th>\n",
       "      <td>1027483</td>\n",
       "      <td>227483</td>\n",
       "      <td>3</td>\n",
       "      <td>3</td>\n",
       "      <td>政府机构</td>\n",
       "      <td>信息传输、软件和信息技术服务业</td>\n",
       "      <td>0</td>\n",
       "      <td>2</td>\n",
       "      <td>1</td>\n",
       "      <td>2016-07-01</td>\n",
       "      <td>0</td>\n",
       "      <td>38</td>\n",
       "      <td>21</td>\n",
       "      <td>0</td>\n",
       "      <td>15</td>\n",
       "      <td>0</td>\n",
       "      <td>0</td>\n",
       "      <td>0</td>\n",
       "      <td>2001-05-02</td>\n",
       "      <td>0</td>\n",
       "      <td>1</td>\n",
       "      <td>0</td>\n",
       "      <td>0</td>\n",
       "      <td>0</td>\n",
       "      <td>7</td>\n",
       "      <td>4</td>\n",
       "      <td>5</td>\n",
       "      <td>2001</td>\n",
       "      <td>15272.727</td>\n",
       "      <td>12.790</td>\n",
       "      <td>470.310</td>\n",
       "      <td>15.578</td>\n",
       "      <td>609.091</td>\n",
       "      <td>710.606</td>\n",
       "      <td>0.000</td>\n",
       "      <td>14016.154</td>\n",
       "      <td>30.462</td>\n",
       "      <td>10.000</td>\n",
       "      <td>0.000</td>\n",
       "      <td>6.000</td>\n",
       "      <td>15.000</td>\n",
       "      <td>4.000</td>\n",
       "      <td>0.000</td>\n",
       "    </tr>\n",
       "  </tbody>\n",
       "</table>\n",
       "</div>"
      ],
      "text/plain": [
       "   loan_id  user_id  year_of_loan  class employer_type         industry  \\\n",
       "0  1040418   240418             3      3          政府机构              金融业   \n",
       "1  1025197   225197             5      3          政府机构              金融业   \n",
       "2  1009360   209360             3      1          政府机构        公共服务、社会组织   \n",
       "3  1039708   239708             3      1         世界五百强           文化和体育业   \n",
       "4  1027483   227483             3      3          政府机构  信息传输、软件和信息技术服务业   \n",
       "\n",
       "   work_year  house_exist  censor_status issue_date  use  post_code  region  \\\n",
       "0          3            0              1 2016-10-01    2        193      13   \n",
       "1         10            0              2 2013-06-01    0        491      30   \n",
       "2         10            1              0 2014-01-01    4        459       8   \n",
       "3          6            0              1 2015-07-01    0        157       8   \n",
       "4          0            2              1 2016-07-01    0         38      21   \n",
       "\n",
       "   del_in_18month  known_outstanding_loan  known_dero  initial_list_status  \\\n",
       "0               0                       3           0                    0   \n",
       "1               1                       3           0                    1   \n",
       "2               0                       5           0                    1   \n",
       "3               0                       3           0                    0   \n",
       "4               0                      15           0                    0   \n",
       "\n",
       "   app_type earlies_credit_mon  title  policy_code  early_return  \\\n",
       "0         0         2001-12-01      5            1             3   \n",
       "1         0         1990-04-01  40642            1             0   \n",
       "2         0         1991-10-01    154            1             0   \n",
       "3         0         2001-06-01      0            1             0   \n",
       "4         0         2001-05-02      0            1             0   \n",
       "\n",
       "   early_return_amount  isDefault  issue_date_month  issue_date_dayofweek  \\\n",
       "0                 9927          0                10                     5   \n",
       "1                    0          0                 6                     5   \n",
       "2                    0          0                 1                     2   \n",
       "3                    0          0                 7                     2   \n",
       "4                    0          0                 7                     4   \n",
       "\n",
       "   earliesCreditMon  earliesCreditYear  total_loan  interest  monthly_payment  \\\n",
       "0                12               2001   31818.182    11.466         1174.910   \n",
       "1                 4               1990   28000.000    16.841          670.690   \n",
       "2                10               1991   17272.727     8.900          603.320   \n",
       "3                 6               2001   20000.000     4.788          602.300   \n",
       "4                 5               2001   15272.727    12.790          470.310   \n",
       "\n",
       "   debt_loan_ratio  scoring_low  scoring_high  pub_dero_bankrup  recircle_b  \\\n",
       "0            2.430      556.364       649.091             0.000    7734.231   \n",
       "1           11.005      715.000       893.750             0.000   31329.000   \n",
       "2            6.409      774.545       903.636             0.000   18514.000   \n",
       "3            9.205      750.000       875.000             0.000   20707.000   \n",
       "4           15.578      609.091       710.606             0.000   14016.154   \n",
       "\n",
       "   recircle_u     f0    f1     f2     f3     f4  early_return_amount_3mon  \n",
       "0      91.800  1.000 0.000  4.000  5.000  4.000                     0.000  \n",
       "1      54.800  7.000 0.000  4.000 45.000 22.000                     0.000  \n",
       "2      57.692  6.000 0.000  6.000 28.000 19.000                     0.000  \n",
       "3      42.600  5.000 0.000 10.000 15.000  9.000                     0.000  \n",
       "4      30.462 10.000 0.000  6.000 15.000  4.000                     0.000  "
      ]
     },
     "execution_count": 30,
     "metadata": {},
     "output_type": "execute_result"
    }
   ],
   "source": [
    "train_data = process(train_data, n_digits = 3)\n",
    "train_data.head()"
   ]
  },
  {
   "cell_type": "code",
   "execution_count": 31,
   "metadata": {},
   "outputs": [],
   "source": [
    "test_public = process(test_public, n_digits=3)\n",
    "\n",
    "train_inte = process(train_inte, n_digits=3)"
   ]
  },
  {
   "cell_type": "code",
   "execution_count": 39,
   "metadata": {},
   "outputs": [
    {
     "data": {
      "text/plain": [
       "0    2890.910\n",
       "1    7272.730\n",
       "2   26295.450\n",
       "3   22690.910\n",
       "4   14545.450\n",
       "Name: total_loan, dtype: float64"
      ]
     },
     "execution_count": 39,
     "metadata": {},
     "output_type": "execute_result"
    }
   ],
   "source": [
    "### 查看效果\n",
    "train_inte['total_loan'].head()"
   ]
  },
  {
   "cell_type": "markdown",
   "metadata": {},
   "source": [
    "## 精度处理后添加特征"
   ]
  },
  {
   "cell_type": "markdown",
   "metadata": {},
   "source": [
    "### 分期付款与贷款总额比率"
   ]
  },
  {
   "cell_type": "code",
   "execution_count": 32,
   "metadata": {},
   "outputs": [],
   "source": [
    "\n",
    "instalment_loan_ratio = train_data['monthly_payment'] / train_data['total_loan']\n",
    "\n",
    "train_data['ratio_instalment_loan'] = instalment_loan_ratio\n",
    "\n",
    "\n",
    "instalment_loan_ratio = test_public['monthly_payment'] / test_public['total_loan']\n",
    "\n",
    "test_public['ratio_instalment_loan'] = instalment_loan_ratio\n",
    "\n",
    "\n",
    "instalment_loan_ratio = train_inte['monthly_payment'] / train_inte['total_loan']\n",
    "\n",
    "train_inte['ratio_instalment_loan'] = instalment_loan_ratio"
   ]
  },
  {
   "cell_type": "code",
   "execution_count": null,
   "metadata": {},
   "outputs": [
    {
     "data": {
      "text/plain": [
       "0      0.037\n",
       "1      0.024\n",
       "2      0.035\n",
       "3      0.030\n",
       "4      0.031\n",
       "        ... \n",
       "9995   0.029\n",
       "9996   0.034\n",
       "9997   0.029\n",
       "9998   0.036\n",
       "9999   0.034\n",
       "Name: ratio_instalment_loan, Length: 10000, dtype: float64"
      ]
     },
     "metadata": {},
     "output_type": "display_data"
    }
   ],
   "source": [
    "train_data['ratio_instalment_loan']"
   ]
  },
  {
   "cell_type": "markdown",
   "metadata": {},
   "source": [
    "## 自然编码"
   ]
  },
  {
   "cell_type": "code",
   "execution_count": 33,
   "metadata": {},
   "outputs": [
    {
     "data": {
      "text/html": [
       "<div>\n",
       "<style scoped>\n",
       "    .dataframe tbody tr th:only-of-type {\n",
       "        vertical-align: middle;\n",
       "    }\n",
       "\n",
       "    .dataframe tbody tr th {\n",
       "        vertical-align: top;\n",
       "    }\n",
       "\n",
       "    .dataframe thead th {\n",
       "        text-align: right;\n",
       "    }\n",
       "</style>\n",
       "<table border=\"1\" class=\"dataframe\">\n",
       "  <thead>\n",
       "    <tr style=\"text-align: right;\">\n",
       "      <th></th>\n",
       "      <th>employer_type</th>\n",
       "      <th>industry</th>\n",
       "    </tr>\n",
       "  </thead>\n",
       "  <tbody>\n",
       "    <tr>\n",
       "      <th>0</th>\n",
       "      <td>普通企业</td>\n",
       "      <td>采矿业</td>\n",
       "    </tr>\n",
       "    <tr>\n",
       "      <th>1</th>\n",
       "      <td>普通企业</td>\n",
       "      <td>国际组织</td>\n",
       "    </tr>\n",
       "    <tr>\n",
       "      <th>2</th>\n",
       "      <td>上市企业</td>\n",
       "      <td>信息传输、软件和信息技术服务业</td>\n",
       "    </tr>\n",
       "    <tr>\n",
       "      <th>3</th>\n",
       "      <td>普通企业</td>\n",
       "      <td>电力、热力生产供应业</td>\n",
       "    </tr>\n",
       "    <tr>\n",
       "      <th>4</th>\n",
       "      <td>政府机构</td>\n",
       "      <td>金融业</td>\n",
       "    </tr>\n",
       "  </tbody>\n",
       "</table>\n",
       "</div>"
      ],
      "text/plain": [
       "  employer_type         industry\n",
       "0          普通企业              采矿业\n",
       "1          普通企业             国际组织\n",
       "2          上市企业  信息传输、软件和信息技术服务业\n",
       "3          普通企业       电力、热力生产供应业\n",
       "4          政府机构              金融业"
      ]
     },
     "execution_count": 33,
     "metadata": {},
     "output_type": "execute_result"
    }
   ],
   "source": [
    "cat_cols = ['employer_type', 'industry']\n",
    "train_inte[cat_cols].head()"
   ]
  },
  {
   "cell_type": "code",
   "execution_count": 36,
   "metadata": {},
   "outputs": [],
   "source": [
    "cat_cols = ['employer_type', 'industry']\n",
    "\n",
    "for col in cat_cols:\n",
    "\n",
    "    dummies_train = pd.get_dummies(train_data[col])\n",
    "    # print(dummies_train.head())\n",
    "    dummies_test = pd.get_dummies(test_public[col])\n",
    "    dummies_inte = pd.get_dummies(train_inte[col])\n",
    "\n",
    "    # 合并虚拟变量和原数据\n",
    "    train_data = pd.concat([train_data,dummies_train],axis=1)\n",
    "    test_public = pd.concat([test_public, dummies_test], axis=1)\n",
    "    train_inte = pd.concat([train_inte, dummies_inte], axis=1)\n",
    "\n",
    "    # 删除编码前的数据\n",
    "    del train_data[col]\n",
    "    del test_public[col]\n",
    "    del train_inte[col]"
   ]
  },
  {
   "cell_type": "code",
   "execution_count": 37,
   "metadata": {},
   "outputs": [
    {
     "data": {
      "text/html": [
       "<div>\n",
       "<style scoped>\n",
       "    .dataframe tbody tr th:only-of-type {\n",
       "        vertical-align: middle;\n",
       "    }\n",
       "\n",
       "    .dataframe tbody tr th {\n",
       "        vertical-align: top;\n",
       "    }\n",
       "\n",
       "    .dataframe thead th {\n",
       "        text-align: right;\n",
       "    }\n",
       "</style>\n",
       "<table border=\"1\" class=\"dataframe\">\n",
       "  <thead>\n",
       "    <tr style=\"text-align: right;\">\n",
       "      <th></th>\n",
       "      <th>loan_id</th>\n",
       "      <th>user_id</th>\n",
       "      <th>year_of_loan</th>\n",
       "      <th>class</th>\n",
       "      <th>sub_class</th>\n",
       "      <th>work_type</th>\n",
       "      <th>work_year</th>\n",
       "      <th>house_exist</th>\n",
       "      <th>house_loan_status</th>\n",
       "      <th>censor_status</th>\n",
       "      <th>marriage</th>\n",
       "      <th>offsprings</th>\n",
       "      <th>issue_date</th>\n",
       "      <th>use</th>\n",
       "      <th>region</th>\n",
       "      <th>early_return</th>\n",
       "      <th>early_return_amount</th>\n",
       "      <th>initial_list_status</th>\n",
       "      <th>earlies_credit_mon</th>\n",
       "      <th>is_default</th>\n",
       "      <th>issue_date_month</th>\n",
       "      <th>issue_date_dayofweek</th>\n",
       "      <th>earliesCreditMon</th>\n",
       "      <th>earliesCreditYear</th>\n",
       "      <th>total_loan</th>\n",
       "      <th>interest</th>\n",
       "      <th>monthly_payment</th>\n",
       "      <th>post_code</th>\n",
       "      <th>debt_loan_ratio</th>\n",
       "      <th>del_in_18month</th>\n",
       "      <th>scoring_low</th>\n",
       "      <th>scoring_high</th>\n",
       "      <th>pub_dero_bankrup</th>\n",
       "      <th>early_return_amount_3mon</th>\n",
       "      <th>recircle_b</th>\n",
       "      <th>recircle_u</th>\n",
       "      <th>title</th>\n",
       "      <th>policy_code</th>\n",
       "      <th>f0</th>\n",
       "      <th>f1</th>\n",
       "      <th>f2</th>\n",
       "      <th>f3</th>\n",
       "      <th>f4</th>\n",
       "      <th>f5</th>\n",
       "      <th>ratio_instalment_loan</th>\n",
       "      <th>上市企业</th>\n",
       "      <th>世界五百强</th>\n",
       "      <th>幼教与中小学校</th>\n",
       "      <th>政府机构</th>\n",
       "      <th>普通企业</th>\n",
       "      <th>高等教育机构</th>\n",
       "      <th>交通运输、仓储和邮政业</th>\n",
       "      <th>住宿和餐饮业</th>\n",
       "      <th>信息传输、软件和信息技术服务业</th>\n",
       "      <th>公共服务、社会组织</th>\n",
       "      <th>农、林、牧、渔业</th>\n",
       "      <th>制造业</th>\n",
       "      <th>国际组织</th>\n",
       "      <th>建筑业</th>\n",
       "      <th>房地产业</th>\n",
       "      <th>批发和零售业</th>\n",
       "      <th>文化和体育业</th>\n",
       "      <th>电力、热力生产供应业</th>\n",
       "      <th>采矿业</th>\n",
       "      <th>金融业</th>\n",
       "    </tr>\n",
       "  </thead>\n",
       "  <tbody>\n",
       "    <tr>\n",
       "      <th>0</th>\n",
       "      <td>119262</td>\n",
       "      <td>0</td>\n",
       "      <td>5</td>\n",
       "      <td>2</td>\n",
       "      <td>B5</td>\n",
       "      <td>职员</td>\n",
       "      <td>-1</td>\n",
       "      <td>0</td>\n",
       "      <td>0</td>\n",
       "      <td>2</td>\n",
       "      <td>0</td>\n",
       "      <td>0</td>\n",
       "      <td>2015-06-01</td>\n",
       "      <td>0</td>\n",
       "      <td>4</td>\n",
       "      <td>0</td>\n",
       "      <td>0</td>\n",
       "      <td>0</td>\n",
       "      <td>1984-03-01</td>\n",
       "      <td>1</td>\n",
       "      <td>6</td>\n",
       "      <td>0</td>\n",
       "      <td>3</td>\n",
       "      <td>1984</td>\n",
       "      <td>12000.000</td>\n",
       "      <td>11.530</td>\n",
       "      <td>264.100</td>\n",
       "      <td>814.000</td>\n",
       "      <td>5.070</td>\n",
       "      <td>1.000</td>\n",
       "      <td>670.000</td>\n",
       "      <td>674.000</td>\n",
       "      <td>1.000</td>\n",
       "      <td>0.000</td>\n",
       "      <td>3855.000</td>\n",
       "      <td>23.100</td>\n",
       "      <td>0.000</td>\n",
       "      <td>1.000</td>\n",
       "      <td>1.000</td>\n",
       "      <td>0.000</td>\n",
       "      <td>8.000</td>\n",
       "      <td>17.000</td>\n",
       "      <td>8.000</td>\n",
       "      <td>1.000</td>\n",
       "      <td>0.022</td>\n",
       "      <td>0</td>\n",
       "      <td>0</td>\n",
       "      <td>0</td>\n",
       "      <td>0</td>\n",
       "      <td>1</td>\n",
       "      <td>0</td>\n",
       "      <td>0</td>\n",
       "      <td>0</td>\n",
       "      <td>0</td>\n",
       "      <td>0</td>\n",
       "      <td>0</td>\n",
       "      <td>0</td>\n",
       "      <td>0</td>\n",
       "      <td>0</td>\n",
       "      <td>0</td>\n",
       "      <td>0</td>\n",
       "      <td>0</td>\n",
       "      <td>0</td>\n",
       "      <td>1</td>\n",
       "      <td>0</td>\n",
       "    </tr>\n",
       "    <tr>\n",
       "      <th>1</th>\n",
       "      <td>369815</td>\n",
       "      <td>1</td>\n",
       "      <td>3</td>\n",
       "      <td>3</td>\n",
       "      <td>C3</td>\n",
       "      <td>其他</td>\n",
       "      <td>10</td>\n",
       "      <td>0</td>\n",
       "      <td>1</td>\n",
       "      <td>2</td>\n",
       "      <td>1</td>\n",
       "      <td>3</td>\n",
       "      <td>2010-10-01</td>\n",
       "      <td>2</td>\n",
       "      <td>21</td>\n",
       "      <td>0</td>\n",
       "      <td>0</td>\n",
       "      <td>1</td>\n",
       "      <td>1992-01-01</td>\n",
       "      <td>0</td>\n",
       "      <td>10</td>\n",
       "      <td>4</td>\n",
       "      <td>1</td>\n",
       "      <td>1992</td>\n",
       "      <td>8000.000</td>\n",
       "      <td>13.980</td>\n",
       "      <td>273.350</td>\n",
       "      <td>240.000</td>\n",
       "      <td>15.040</td>\n",
       "      <td>0.000</td>\n",
       "      <td>725.000</td>\n",
       "      <td>729.000</td>\n",
       "      <td>0.000</td>\n",
       "      <td>0.000</td>\n",
       "      <td>118632.000</td>\n",
       "      <td>99.900</td>\n",
       "      <td>94.000</td>\n",
       "      <td>1.000</td>\n",
       "      <td>5.000</td>\n",
       "      <td>0.000</td>\n",
       "      <td>7.000</td>\n",
       "      <td>13.000</td>\n",
       "      <td>7.000</td>\n",
       "      <td>0.000</td>\n",
       "      <td>0.034</td>\n",
       "      <td>0</td>\n",
       "      <td>0</td>\n",
       "      <td>0</td>\n",
       "      <td>0</td>\n",
       "      <td>1</td>\n",
       "      <td>0</td>\n",
       "      <td>0</td>\n",
       "      <td>0</td>\n",
       "      <td>0</td>\n",
       "      <td>0</td>\n",
       "      <td>0</td>\n",
       "      <td>0</td>\n",
       "      <td>1</td>\n",
       "      <td>0</td>\n",
       "      <td>0</td>\n",
       "      <td>0</td>\n",
       "      <td>0</td>\n",
       "      <td>0</td>\n",
       "      <td>0</td>\n",
       "      <td>0</td>\n",
       "    </tr>\n",
       "    <tr>\n",
       "      <th>2</th>\n",
       "      <td>787833</td>\n",
       "      <td>2</td>\n",
       "      <td>5</td>\n",
       "      <td>4</td>\n",
       "      <td>D2</td>\n",
       "      <td>工人</td>\n",
       "      <td>10</td>\n",
       "      <td>0</td>\n",
       "      <td>0</td>\n",
       "      <td>1</td>\n",
       "      <td>0</td>\n",
       "      <td>0</td>\n",
       "      <td>2016-08-01</td>\n",
       "      <td>0</td>\n",
       "      <td>20</td>\n",
       "      <td>0</td>\n",
       "      <td>0</td>\n",
       "      <td>0</td>\n",
       "      <td>1996-10-01</td>\n",
       "      <td>0</td>\n",
       "      <td>8</td>\n",
       "      <td>0</td>\n",
       "      <td>10</td>\n",
       "      <td>1996</td>\n",
       "      <td>20000.000</td>\n",
       "      <td>17.990</td>\n",
       "      <td>507.760</td>\n",
       "      <td>164.000</td>\n",
       "      <td>17.380</td>\n",
       "      <td>1.000</td>\n",
       "      <td>675.000</td>\n",
       "      <td>679.000</td>\n",
       "      <td>0.000</td>\n",
       "      <td>0.000</td>\n",
       "      <td>15670.000</td>\n",
       "      <td>72.500</td>\n",
       "      <td>0.000</td>\n",
       "      <td>1.000</td>\n",
       "      <td>6.000</td>\n",
       "      <td>0.000</td>\n",
       "      <td>10.000</td>\n",
       "      <td>8.000</td>\n",
       "      <td>3.000</td>\n",
       "      <td>0.000</td>\n",
       "      <td>0.025</td>\n",
       "      <td>1</td>\n",
       "      <td>0</td>\n",
       "      <td>0</td>\n",
       "      <td>0</td>\n",
       "      <td>0</td>\n",
       "      <td>0</td>\n",
       "      <td>0</td>\n",
       "      <td>0</td>\n",
       "      <td>1</td>\n",
       "      <td>0</td>\n",
       "      <td>0</td>\n",
       "      <td>0</td>\n",
       "      <td>0</td>\n",
       "      <td>0</td>\n",
       "      <td>0</td>\n",
       "      <td>0</td>\n",
       "      <td>0</td>\n",
       "      <td>0</td>\n",
       "      <td>0</td>\n",
       "      <td>0</td>\n",
       "    </tr>\n",
       "    <tr>\n",
       "      <th>3</th>\n",
       "      <td>671675</td>\n",
       "      <td>3</td>\n",
       "      <td>3</td>\n",
       "      <td>2</td>\n",
       "      <td>B1</td>\n",
       "      <td>职员</td>\n",
       "      <td>2</td>\n",
       "      <td>2</td>\n",
       "      <td>0</td>\n",
       "      <td>2</td>\n",
       "      <td>0</td>\n",
       "      <td>0</td>\n",
       "      <td>2013-05-01</td>\n",
       "      <td>4</td>\n",
       "      <td>10</td>\n",
       "      <td>0</td>\n",
       "      <td>0</td>\n",
       "      <td>0</td>\n",
       "      <td>2000-07-01</td>\n",
       "      <td>0</td>\n",
       "      <td>5</td>\n",
       "      <td>2</td>\n",
       "      <td>7</td>\n",
       "      <td>2000</td>\n",
       "      <td>10700.000</td>\n",
       "      <td>10.160</td>\n",
       "      <td>346.070</td>\n",
       "      <td>48.000</td>\n",
       "      <td>27.870</td>\n",
       "      <td>0.000</td>\n",
       "      <td>710.000</td>\n",
       "      <td>714.000</td>\n",
       "      <td>0.000</td>\n",
       "      <td>0.000</td>\n",
       "      <td>18859.000</td>\n",
       "      <td>78.600</td>\n",
       "      <td>41646.000</td>\n",
       "      <td>1.000</td>\n",
       "      <td>3.000</td>\n",
       "      <td>0.000</td>\n",
       "      <td>4.000</td>\n",
       "      <td>11.000</td>\n",
       "      <td>6.000</td>\n",
       "      <td>0.000</td>\n",
       "      <td>0.032</td>\n",
       "      <td>0</td>\n",
       "      <td>0</td>\n",
       "      <td>0</td>\n",
       "      <td>0</td>\n",
       "      <td>1</td>\n",
       "      <td>0</td>\n",
       "      <td>0</td>\n",
       "      <td>0</td>\n",
       "      <td>0</td>\n",
       "      <td>0</td>\n",
       "      <td>0</td>\n",
       "      <td>0</td>\n",
       "      <td>0</td>\n",
       "      <td>0</td>\n",
       "      <td>0</td>\n",
       "      <td>0</td>\n",
       "      <td>0</td>\n",
       "      <td>1</td>\n",
       "      <td>0</td>\n",
       "      <td>0</td>\n",
       "    </tr>\n",
       "    <tr>\n",
       "      <th>4</th>\n",
       "      <td>245160</td>\n",
       "      <td>4</td>\n",
       "      <td>3</td>\n",
       "      <td>2</td>\n",
       "      <td>B1</td>\n",
       "      <td>其他</td>\n",
       "      <td>5</td>\n",
       "      <td>1</td>\n",
       "      <td>2</td>\n",
       "      <td>0</td>\n",
       "      <td>0</td>\n",
       "      <td>0</td>\n",
       "      <td>2017-04-01</td>\n",
       "      <td>4</td>\n",
       "      <td>9</td>\n",
       "      <td>0</td>\n",
       "      <td>0</td>\n",
       "      <td>1</td>\n",
       "      <td>2000-03-01</td>\n",
       "      <td>0</td>\n",
       "      <td>4</td>\n",
       "      <td>5</td>\n",
       "      <td>3</td>\n",
       "      <td>2000</td>\n",
       "      <td>8000.000</td>\n",
       "      <td>8.240</td>\n",
       "      <td>251.580</td>\n",
       "      <td>122.000</td>\n",
       "      <td>3.470</td>\n",
       "      <td>0.000</td>\n",
       "      <td>660.000</td>\n",
       "      <td>664.000</td>\n",
       "      <td>0.000</td>\n",
       "      <td>0.000</td>\n",
       "      <td>8337.000</td>\n",
       "      <td>67.800</td>\n",
       "      <td>4.000</td>\n",
       "      <td>1.000</td>\n",
       "      <td>3.000</td>\n",
       "      <td>0.000</td>\n",
       "      <td>8.000</td>\n",
       "      <td>6.000</td>\n",
       "      <td>4.000</td>\n",
       "      <td>1.000</td>\n",
       "      <td>0.031</td>\n",
       "      <td>0</td>\n",
       "      <td>0</td>\n",
       "      <td>0</td>\n",
       "      <td>1</td>\n",
       "      <td>0</td>\n",
       "      <td>0</td>\n",
       "      <td>0</td>\n",
       "      <td>0</td>\n",
       "      <td>0</td>\n",
       "      <td>0</td>\n",
       "      <td>0</td>\n",
       "      <td>0</td>\n",
       "      <td>0</td>\n",
       "      <td>0</td>\n",
       "      <td>0</td>\n",
       "      <td>0</td>\n",
       "      <td>0</td>\n",
       "      <td>0</td>\n",
       "      <td>0</td>\n",
       "      <td>1</td>\n",
       "    </tr>\n",
       "  </tbody>\n",
       "</table>\n",
       "</div>"
      ],
      "text/plain": [
       "   loan_id  user_id  year_of_loan  class sub_class work_type  work_year  \\\n",
       "0   119262        0             5      2        B5        职员         -1   \n",
       "1   369815        1             3      3        C3        其他         10   \n",
       "2   787833        2             5      4        D2        工人         10   \n",
       "3   671675        3             3      2        B1        职员          2   \n",
       "4   245160        4             3      2        B1        其他          5   \n",
       "\n",
       "   house_exist  house_loan_status  censor_status  marriage  offsprings  \\\n",
       "0            0                  0              2         0           0   \n",
       "1            0                  1              2         1           3   \n",
       "2            0                  0              1         0           0   \n",
       "3            2                  0              2         0           0   \n",
       "4            1                  2              0         0           0   \n",
       "\n",
       "  issue_date  use  region  early_return  early_return_amount  \\\n",
       "0 2015-06-01    0       4             0                    0   \n",
       "1 2010-10-01    2      21             0                    0   \n",
       "2 2016-08-01    0      20             0                    0   \n",
       "3 2013-05-01    4      10             0                    0   \n",
       "4 2017-04-01    4       9             0                    0   \n",
       "\n",
       "   initial_list_status earlies_credit_mon  is_default  issue_date_month  \\\n",
       "0                    0         1984-03-01           1                 6   \n",
       "1                    1         1992-01-01           0                10   \n",
       "2                    0         1996-10-01           0                 8   \n",
       "3                    0         2000-07-01           0                 5   \n",
       "4                    1         2000-03-01           0                 4   \n",
       "\n",
       "   issue_date_dayofweek  earliesCreditMon  earliesCreditYear  total_loan  \\\n",
       "0                     0                 3               1984   12000.000   \n",
       "1                     4                 1               1992    8000.000   \n",
       "2                     0                10               1996   20000.000   \n",
       "3                     2                 7               2000   10700.000   \n",
       "4                     5                 3               2000    8000.000   \n",
       "\n",
       "   interest  monthly_payment  post_code  debt_loan_ratio  del_in_18month  \\\n",
       "0    11.530          264.100    814.000            5.070           1.000   \n",
       "1    13.980          273.350    240.000           15.040           0.000   \n",
       "2    17.990          507.760    164.000           17.380           1.000   \n",
       "3    10.160          346.070     48.000           27.870           0.000   \n",
       "4     8.240          251.580    122.000            3.470           0.000   \n",
       "\n",
       "   scoring_low  scoring_high  pub_dero_bankrup  early_return_amount_3mon  \\\n",
       "0      670.000       674.000             1.000                     0.000   \n",
       "1      725.000       729.000             0.000                     0.000   \n",
       "2      675.000       679.000             0.000                     0.000   \n",
       "3      710.000       714.000             0.000                     0.000   \n",
       "4      660.000       664.000             0.000                     0.000   \n",
       "\n",
       "   recircle_b  recircle_u     title  policy_code    f0    f1     f2     f3  \\\n",
       "0    3855.000      23.100     0.000        1.000 1.000 0.000  8.000 17.000   \n",
       "1  118632.000      99.900    94.000        1.000 5.000 0.000  7.000 13.000   \n",
       "2   15670.000      72.500     0.000        1.000 6.000 0.000 10.000  8.000   \n",
       "3   18859.000      78.600 41646.000        1.000 3.000 0.000  4.000 11.000   \n",
       "4    8337.000      67.800     4.000        1.000 3.000 0.000  8.000  6.000   \n",
       "\n",
       "     f4    f5  ratio_instalment_loan  上市企业  世界五百强  幼教与中小学校  政府机构  普通企业  \\\n",
       "0 8.000 1.000                  0.022     0      0        0     0     1   \n",
       "1 7.000 0.000                  0.034     0      0        0     0     1   \n",
       "2 3.000 0.000                  0.025     1      0        0     0     0   \n",
       "3 6.000 0.000                  0.032     0      0        0     0     1   \n",
       "4 4.000 1.000                  0.031     0      0        0     1     0   \n",
       "\n",
       "   高等教育机构  交通运输、仓储和邮政业  住宿和餐饮业  信息传输、软件和信息技术服务业  公共服务、社会组织  农、林、牧、渔业  制造业  \\\n",
       "0       0            0       0                0          0         0    0   \n",
       "1       0            0       0                0          0         0    0   \n",
       "2       0            0       0                1          0         0    0   \n",
       "3       0            0       0                0          0         0    0   \n",
       "4       0            0       0                0          0         0    0   \n",
       "\n",
       "   国际组织  建筑业  房地产业  批发和零售业  文化和体育业  电力、热力生产供应业  采矿业  金融业  \n",
       "0     0    0     0       0       0           0    1    0  \n",
       "1     1    0     0       0       0           0    0    0  \n",
       "2     0    0     0       0       0           0    0    0  \n",
       "3     0    0     0       0       0           1    0    0  \n",
       "4     0    0     0       0       0           0    0    1  "
      ]
     },
     "execution_count": 37,
     "metadata": {},
     "output_type": "execute_result"
    }
   ],
   "source": [
    "train_inte.head()"
   ]
  },
  {
   "cell_type": "markdown",
   "metadata": {},
   "source": [
    "### 特征聚类"
   ]
  },
  {
   "cell_type": "code",
   "execution_count": 38,
   "metadata": {},
   "outputs": [
    {
     "name": "stdout",
     "output_type": "stream",
     "text": [
      "['B5' 'C3' 'D2' 'B1' 'C5' 'A5' 'C1' 'B4' 'A1' 'D1' 'C4' 'E2' 'C2' 'D4'\n",
      " 'E3' 'D3' 'A4' 'B3' 'A3' 'E5' 'B2' 'G5' 'A2' 'F3' 'D5' 'E1' 'F4' 'F1'\n",
      " 'F5' 'F2' 'G1' 'E4' 'G2' 'G3' 'G4']\n",
      "[3 1 2 4 5 6 7]\n",
      "[2 3 4 1 5 6 7]\n"
     ]
    }
   ],
   "source": [
    "print(train_inte['sub_class'].unique())\n",
    "print(train_data['class'].unique())\n",
    "print(test_public['class'].unique())"
   ]
  },
  {
   "cell_type": "code",
   "execution_count": 39,
   "metadata": {},
   "outputs": [],
   "source": [
    "def cluster_by_class_labels(data, label):\n",
    "    '''\n",
    "    针对不同类标签的数据按标签聚类\n",
    "    '''\n",
    "    from sklearn.preprocessing import MinMaxScaler\n",
    "    from sklearn.cluster import KMeans\n",
    "    mms = MinMaxScaler()\n",
    "    feats = [f for f in data.columns if f not in ['loan_id', 'user_id', 'isDefault']]\n",
    "    datMa = data[feats]\n",
    "    numerical_data = datMa.loc[datMa['class'] == label,datMa.dtypes[(datMa.dtypes == \"int64\") | (datMa.dtypes == \"float64\")].index.values]\n",
    "    mmsModel = mms.fit_transform(numerical_data)\n",
    "    clf = KMeans(5, random_state=2021)\n",
    "    pre = clf.fit(mmsModel)\n",
    "    test = pre.labels_\n",
    "    final_data = pd.Series(test, index=data.loc[data['class'] == label].index)\n",
    "    if label == 1:\n",
    "        final_data = final_data.map({0: 'A1', 1: 'A2', 2: 'A3', 3: 'A4', 4: 'A5'})\n",
    "    elif label == 2:\n",
    "        final_data = final_data.map({0: 'B1', 1: 'B2', 2: 'B3', 3: 'B4', 4: 'B5'})\n",
    "    elif label == 3:\n",
    "        final_data = final_data.map({0: 'C1', 1: 'C2', 2: 'C3', 3: 'C4', 4: 'C5'})\n",
    "    elif label == 4:\n",
    "        final_data = final_data.map({0: 'D1', 1: 'D2', 2: 'D3', 3: 'D4', 4: 'D5'})\n",
    "    elif label == 5:\n",
    "        final_data = final_data.map({0: 'E1', 1: 'E2', 2: 'E3', 3: 'E4', 4: 'E5'})\n",
    "    elif label == 6:\n",
    "        final_data = final_data.map({0: 'F1', 1: 'F2', 2: 'F3', 3: 'F4', 4: 'F5'})\n",
    "    elif label == 7:\n",
    "        final_data = final_data.map({0: 'G1', 1: 'G2', 2: 'G3', 3: 'G4', 4: 'G5'})\n",
    "    return final_data"
   ]
  },
  {
   "cell_type": "code",
   "execution_count": 40,
   "metadata": {},
   "outputs": [],
   "source": [
    "# 训练集合并\n",
    "train_data1 = cluster_by_class_labels(train_data, 1)\n",
    "train_data2 = cluster_by_class_labels(train_data, 2)\n",
    "train_data3 = cluster_by_class_labels(train_data, 3)\n",
    "train_data4 = cluster_by_class_labels(train_data, 4)\n",
    "train_data5 = cluster_by_class_labels(train_data, 5)\n",
    "train_data6 = cluster_by_class_labels(train_data, 6)\n",
    "train_data7 = cluster_by_class_labels(train_data, 7)\n",
    "train_dataall = pd.concat(\n",
    "    [train_data1, train_data2, train_data3, train_data4, train_data5, train_data6, train_data7]).reset_index(drop=True)"
   ]
  },
  {
   "cell_type": "code",
   "execution_count": 104,
   "metadata": {},
   "outputs": [
    {
     "data": {
      "text/plain": [
       "0    A1\n",
       "1    A2\n",
       "2    A2\n",
       "3    A2\n",
       "4    A4\n",
       "dtype: object"
      ]
     },
     "execution_count": 104,
     "metadata": {},
     "output_type": "execute_result"
    }
   ],
   "source": [
    "train_dataall.head()"
   ]
  },
  {
   "cell_type": "code",
   "execution_count": 41,
   "metadata": {},
   "outputs": [],
   "source": [
    "train_data['sub_class'] = train_dataall"
   ]
  },
  {
   "cell_type": "code",
   "execution_count": 42,
   "metadata": {},
   "outputs": [],
   "source": [
    "# 测试集合并\n",
    "test_data1 = cluster_by_class_labels(test_public, 1)\n",
    "test_data2 = cluster_by_class_labels(test_public, 2)\n",
    "test_data3 = cluster_by_class_labels(test_public, 3)\n",
    "test_data4 = cluster_by_class_labels(test_public, 4)\n",
    "test_data5 = cluster_by_class_labels(test_public, 5)\n",
    "test_data6 = cluster_by_class_labels(test_public, 6)\n",
    "test_data7 = cluster_by_class_labels(test_public, 7)\n",
    "test_dataall = pd.concat(\n",
    "    [test_data1, test_data2, test_data3, test_data4, test_data5, test_data6, test_data7]).reset_index(drop=True)\n",
    "test_public['sub_class'] = test_dataall"
   ]
  },
  {
   "cell_type": "code",
   "execution_count": 43,
   "metadata": {},
   "outputs": [],
   "source": [
    "# 将聚类后的subclass特征做自然编码\n",
    "from sklearn.preprocessing import LabelEncoder\n",
    "\n",
    "cat_cols = ['sub_class']\n",
    "for col in cat_cols:\n",
    "    lbl = LabelEncoder().fit(train_data[col])\n",
    "    train_data[col] = lbl.transform(train_data[col])\n",
    "    test_public[col] = lbl.transform(test_public[col])\n",
    "    train_inte[col] = lbl.transform(train_inte[col])"
   ]
  },
  {
   "cell_type": "markdown",
   "metadata": {},
   "source": [
    "### 去掉不重要的特征"
   ]
  },
  {
   "cell_type": "code",
   "execution_count": 44,
   "metadata": {},
   "outputs": [],
   "source": [
    "# col_to_drop = ['issue_date', 'earlies_credit_mon', 'policy_code','post_code','region']\n",
    "col_to_drop = ['issue_date', 'earlies_credit_mon', 'policy_code','region']\n",
    "\n",
    "train_data = train_data.drop(col_to_drop, axis=1)\n",
    "test_public = test_public.drop(col_to_drop, axis=1 )\n",
    "\n",
    "##internet处理\n",
    "train_inte = train_inte.drop(col_to_drop, axis=1 )"
   ]
  },
  {
   "cell_type": "code",
   "execution_count": 45,
   "metadata": {},
   "outputs": [],
   "source": [
    "# 暂时不变\n",
    "# train_inte = train_inte.rename(columns={'is_default':'isDefault'})\n",
    "# data = pd.concat( [train_data,test_public] )\n",
    "tr_cols = set(train_data.columns)\n",
    "same_col = list(tr_cols.intersection(set(train_inte.columns)))\n",
    "\n",
    "# train_public与train_internet里相同名称的列\n",
    "data_cols_train_inte_public_same = train_inte[same_col].copy()\n",
    "\n",
    "# train_public里有但train_internet和train_public的共有列里没有的列\n",
    "Inte_add_cos = list(tr_cols.difference(set(same_col)))\n",
    "\n",
    "for col in Inte_add_cos:\n",
    "    data_cols_train_inte_public_same[col] = np.nan"
   ]
  },
  {
   "cell_type": "code",
   "execution_count": 110,
   "metadata": {},
   "outputs": [
    {
     "data": {
      "text/html": [
       "<div>\n",
       "<style scoped>\n",
       "    .dataframe tbody tr th:only-of-type {\n",
       "        vertical-align: middle;\n",
       "    }\n",
       "\n",
       "    .dataframe tbody tr th {\n",
       "        vertical-align: top;\n",
       "    }\n",
       "\n",
       "    .dataframe thead th {\n",
       "        text-align: right;\n",
       "    }\n",
       "</style>\n",
       "<table border=\"1\" class=\"dataframe\">\n",
       "  <thead>\n",
       "    <tr style=\"text-align: right;\">\n",
       "      <th></th>\n",
       "      <th>early_return_amount</th>\n",
       "      <th>industry_to_mean_f1</th>\n",
       "      <th>industry_to_mean_f4</th>\n",
       "      <th>year_of_loan</th>\n",
       "      <th>del_in_18month</th>\n",
       "      <th>recircle_u</th>\n",
       "      <th>scoring_low</th>\n",
       "      <th>pub_dero_bankrup</th>\n",
       "      <th>initial_list_status</th>\n",
       "      <th>title</th>\n",
       "      <th>debt_loan_ratio</th>\n",
       "      <th>use</th>\n",
       "      <th>recircle_b</th>\n",
       "      <th>industry</th>\n",
       "      <th>earliesCreditYear</th>\n",
       "      <th>f3</th>\n",
       "      <th>f2</th>\n",
       "      <th>total_loan</th>\n",
       "      <th>industry_to_mean_f2</th>\n",
       "      <th>issue_date_month</th>\n",
       "      <th>early_return_amount_3mon</th>\n",
       "      <th>scoring_high</th>\n",
       "      <th>house_exist</th>\n",
       "      <th>industry_to_mean_f0</th>\n",
       "      <th>monthly_payment</th>\n",
       "      <th>interest</th>\n",
       "      <th>sub_class</th>\n",
       "      <th>user_id</th>\n",
       "      <th>class</th>\n",
       "      <th>issue_date_dayofweek</th>\n",
       "      <th>industry_to_mean_f3</th>\n",
       "      <th>early_return</th>\n",
       "      <th>f1</th>\n",
       "      <th>loan_id</th>\n",
       "      <th>censor_status</th>\n",
       "      <th>f0</th>\n",
       "      <th>work_year</th>\n",
       "      <th>earliesCreditMon</th>\n",
       "      <th>ratio_instalment_loan</th>\n",
       "      <th>f4</th>\n",
       "      <th>employer_type</th>\n",
       "      <th>post_code</th>\n",
       "      <th>app_type</th>\n",
       "      <th>isDefault</th>\n",
       "      <th>known_outstanding_loan</th>\n",
       "      <th>known_dero</th>\n",
       "    </tr>\n",
       "  </thead>\n",
       "  <tbody>\n",
       "    <tr>\n",
       "      <th>0</th>\n",
       "      <td>0</td>\n",
       "      <td>0.001</td>\n",
       "      <td>8.113</td>\n",
       "      <td>5</td>\n",
       "      <td>1.000</td>\n",
       "      <td>23.100</td>\n",
       "      <td>670.000</td>\n",
       "      <td>1.000</td>\n",
       "      <td>0</td>\n",
       "      <td>0.000</td>\n",
       "      <td>5.070</td>\n",
       "      <td>0</td>\n",
       "      <td>3855.000</td>\n",
       "      <td>12</td>\n",
       "      <td>1984</td>\n",
       "      <td>17.000</td>\n",
       "      <td>8.000</td>\n",
       "      <td>12000.000</td>\n",
       "      <td>8.616</td>\n",
       "      <td>6</td>\n",
       "      <td>0.000</td>\n",
       "      <td>674.000</td>\n",
       "      <td>0</td>\n",
       "      <td>5.593</td>\n",
       "      <td>264.100</td>\n",
       "      <td>11.530</td>\n",
       "      <td>9</td>\n",
       "      <td>0</td>\n",
       "      <td>2</td>\n",
       "      <td>0</td>\n",
       "      <td>14.627</td>\n",
       "      <td>0</td>\n",
       "      <td>0.000</td>\n",
       "      <td>119262</td>\n",
       "      <td>2</td>\n",
       "      <td>1.000</td>\n",
       "      <td>-1</td>\n",
       "      <td>3</td>\n",
       "      <td>0.022</td>\n",
       "      <td>8.000</td>\n",
       "      <td>4</td>\n",
       "      <td>814.000</td>\n",
       "      <td>NaN</td>\n",
       "      <td>NaN</td>\n",
       "      <td>NaN</td>\n",
       "      <td>NaN</td>\n",
       "    </tr>\n",
       "    <tr>\n",
       "      <th>1</th>\n",
       "      <td>0</td>\n",
       "      <td>0.001</td>\n",
       "      <td>8.096</td>\n",
       "      <td>3</td>\n",
       "      <td>0.000</td>\n",
       "      <td>99.900</td>\n",
       "      <td>725.000</td>\n",
       "      <td>0.000</td>\n",
       "      <td>1</td>\n",
       "      <td>94.000</td>\n",
       "      <td>15.040</td>\n",
       "      <td>2</td>\n",
       "      <td>118632.000</td>\n",
       "      <td>6</td>\n",
       "      <td>1992</td>\n",
       "      <td>13.000</td>\n",
       "      <td>7.000</td>\n",
       "      <td>8000.000</td>\n",
       "      <td>8.600</td>\n",
       "      <td>10</td>\n",
       "      <td>0.000</td>\n",
       "      <td>729.000</td>\n",
       "      <td>0</td>\n",
       "      <td>5.570</td>\n",
       "      <td>273.350</td>\n",
       "      <td>13.980</td>\n",
       "      <td>12</td>\n",
       "      <td>1</td>\n",
       "      <td>3</td>\n",
       "      <td>4</td>\n",
       "      <td>14.579</td>\n",
       "      <td>0</td>\n",
       "      <td>0.000</td>\n",
       "      <td>369815</td>\n",
       "      <td>2</td>\n",
       "      <td>5.000</td>\n",
       "      <td>10</td>\n",
       "      <td>1</td>\n",
       "      <td>0.034</td>\n",
       "      <td>7.000</td>\n",
       "      <td>4</td>\n",
       "      <td>240.000</td>\n",
       "      <td>NaN</td>\n",
       "      <td>NaN</td>\n",
       "      <td>NaN</td>\n",
       "      <td>NaN</td>\n",
       "    </tr>\n",
       "    <tr>\n",
       "      <th>2</th>\n",
       "      <td>0</td>\n",
       "      <td>0.001</td>\n",
       "      <td>8.134</td>\n",
       "      <td>5</td>\n",
       "      <td>1.000</td>\n",
       "      <td>72.500</td>\n",
       "      <td>675.000</td>\n",
       "      <td>0.000</td>\n",
       "      <td>0</td>\n",
       "      <td>0.000</td>\n",
       "      <td>17.380</td>\n",
       "      <td>0</td>\n",
       "      <td>15670.000</td>\n",
       "      <td>2</td>\n",
       "      <td>1996</td>\n",
       "      <td>8.000</td>\n",
       "      <td>10.000</td>\n",
       "      <td>20000.000</td>\n",
       "      <td>8.627</td>\n",
       "      <td>8</td>\n",
       "      <td>0.000</td>\n",
       "      <td>679.000</td>\n",
       "      <td>0</td>\n",
       "      <td>5.586</td>\n",
       "      <td>507.760</td>\n",
       "      <td>17.990</td>\n",
       "      <td>16</td>\n",
       "      <td>2</td>\n",
       "      <td>4</td>\n",
       "      <td>0</td>\n",
       "      <td>14.641</td>\n",
       "      <td>0</td>\n",
       "      <td>0.000</td>\n",
       "      <td>787833</td>\n",
       "      <td>1</td>\n",
       "      <td>6.000</td>\n",
       "      <td>10</td>\n",
       "      <td>10</td>\n",
       "      <td>0.025</td>\n",
       "      <td>3.000</td>\n",
       "      <td>0</td>\n",
       "      <td>164.000</td>\n",
       "      <td>NaN</td>\n",
       "      <td>NaN</td>\n",
       "      <td>NaN</td>\n",
       "      <td>NaN</td>\n",
       "    </tr>\n",
       "    <tr>\n",
       "      <th>3</th>\n",
       "      <td>0</td>\n",
       "      <td>0.001</td>\n",
       "      <td>8.114</td>\n",
       "      <td>3</td>\n",
       "      <td>0.000</td>\n",
       "      <td>78.600</td>\n",
       "      <td>710.000</td>\n",
       "      <td>0.000</td>\n",
       "      <td>0</td>\n",
       "      <td>41646.000</td>\n",
       "      <td>27.870</td>\n",
       "      <td>4</td>\n",
       "      <td>18859.000</td>\n",
       "      <td>11</td>\n",
       "      <td>2000</td>\n",
       "      <td>11.000</td>\n",
       "      <td>4.000</td>\n",
       "      <td>10700.000</td>\n",
       "      <td>8.587</td>\n",
       "      <td>5</td>\n",
       "      <td>0.000</td>\n",
       "      <td>714.000</td>\n",
       "      <td>2</td>\n",
       "      <td>5.584</td>\n",
       "      <td>346.070</td>\n",
       "      <td>10.160</td>\n",
       "      <td>5</td>\n",
       "      <td>3</td>\n",
       "      <td>2</td>\n",
       "      <td>2</td>\n",
       "      <td>14.637</td>\n",
       "      <td>0</td>\n",
       "      <td>0.000</td>\n",
       "      <td>671675</td>\n",
       "      <td>2</td>\n",
       "      <td>3.000</td>\n",
       "      <td>2</td>\n",
       "      <td>7</td>\n",
       "      <td>0.032</td>\n",
       "      <td>6.000</td>\n",
       "      <td>4</td>\n",
       "      <td>48.000</td>\n",
       "      <td>NaN</td>\n",
       "      <td>NaN</td>\n",
       "      <td>NaN</td>\n",
       "      <td>NaN</td>\n",
       "    </tr>\n",
       "    <tr>\n",
       "      <th>4</th>\n",
       "      <td>0</td>\n",
       "      <td>0.001</td>\n",
       "      <td>8.114</td>\n",
       "      <td>3</td>\n",
       "      <td>0.000</td>\n",
       "      <td>67.800</td>\n",
       "      <td>660.000</td>\n",
       "      <td>0.000</td>\n",
       "      <td>1</td>\n",
       "      <td>4.000</td>\n",
       "      <td>3.470</td>\n",
       "      <td>4</td>\n",
       "      <td>8337.000</td>\n",
       "      <td>13</td>\n",
       "      <td>2000</td>\n",
       "      <td>6.000</td>\n",
       "      <td>8.000</td>\n",
       "      <td>8000.000</td>\n",
       "      <td>8.545</td>\n",
       "      <td>4</td>\n",
       "      <td>0.000</td>\n",
       "      <td>664.000</td>\n",
       "      <td>1</td>\n",
       "      <td>5.604</td>\n",
       "      <td>251.580</td>\n",
       "      <td>8.240</td>\n",
       "      <td>5</td>\n",
       "      <td>4</td>\n",
       "      <td>2</td>\n",
       "      <td>5</td>\n",
       "      <td>14.635</td>\n",
       "      <td>0</td>\n",
       "      <td>0.000</td>\n",
       "      <td>245160</td>\n",
       "      <td>0</td>\n",
       "      <td>3.000</td>\n",
       "      <td>5</td>\n",
       "      <td>3</td>\n",
       "      <td>0.031</td>\n",
       "      <td>4.000</td>\n",
       "      <td>3</td>\n",
       "      <td>122.000</td>\n",
       "      <td>NaN</td>\n",
       "      <td>NaN</td>\n",
       "      <td>NaN</td>\n",
       "      <td>NaN</td>\n",
       "    </tr>\n",
       "  </tbody>\n",
       "</table>\n",
       "</div>"
      ],
      "text/plain": [
       "   early_return_amount  industry_to_mean_f1  industry_to_mean_f4  \\\n",
       "0                    0                0.001                8.113   \n",
       "1                    0                0.001                8.096   \n",
       "2                    0                0.001                8.134   \n",
       "3                    0                0.001                8.114   \n",
       "4                    0                0.001                8.114   \n",
       "\n",
       "   year_of_loan  del_in_18month  recircle_u  scoring_low  pub_dero_bankrup  \\\n",
       "0             5           1.000      23.100      670.000             1.000   \n",
       "1             3           0.000      99.900      725.000             0.000   \n",
       "2             5           1.000      72.500      675.000             0.000   \n",
       "3             3           0.000      78.600      710.000             0.000   \n",
       "4             3           0.000      67.800      660.000             0.000   \n",
       "\n",
       "   initial_list_status     title  debt_loan_ratio  use  recircle_b  industry  \\\n",
       "0                    0     0.000            5.070    0    3855.000        12   \n",
       "1                    1    94.000           15.040    2  118632.000         6   \n",
       "2                    0     0.000           17.380    0   15670.000         2   \n",
       "3                    0 41646.000           27.870    4   18859.000        11   \n",
       "4                    1     4.000            3.470    4    8337.000        13   \n",
       "\n",
       "   earliesCreditYear     f3     f2  total_loan  industry_to_mean_f2  \\\n",
       "0               1984 17.000  8.000   12000.000                8.616   \n",
       "1               1992 13.000  7.000    8000.000                8.600   \n",
       "2               1996  8.000 10.000   20000.000                8.627   \n",
       "3               2000 11.000  4.000   10700.000                8.587   \n",
       "4               2000  6.000  8.000    8000.000                8.545   \n",
       "\n",
       "   issue_date_month  early_return_amount_3mon  scoring_high  house_exist  \\\n",
       "0                 6                     0.000       674.000            0   \n",
       "1                10                     0.000       729.000            0   \n",
       "2                 8                     0.000       679.000            0   \n",
       "3                 5                     0.000       714.000            2   \n",
       "4                 4                     0.000       664.000            1   \n",
       "\n",
       "   industry_to_mean_f0  monthly_payment  interest  sub_class  user_id  class  \\\n",
       "0                5.593          264.100    11.530          9        0      2   \n",
       "1                5.570          273.350    13.980         12        1      3   \n",
       "2                5.586          507.760    17.990         16        2      4   \n",
       "3                5.584          346.070    10.160          5        3      2   \n",
       "4                5.604          251.580     8.240          5        4      2   \n",
       "\n",
       "   issue_date_dayofweek  industry_to_mean_f3  early_return    f1  loan_id  \\\n",
       "0                     0               14.627             0 0.000   119262   \n",
       "1                     4               14.579             0 0.000   369815   \n",
       "2                     0               14.641             0 0.000   787833   \n",
       "3                     2               14.637             0 0.000   671675   \n",
       "4                     5               14.635             0 0.000   245160   \n",
       "\n",
       "   censor_status    f0  work_year  earliesCreditMon  ratio_instalment_loan  \\\n",
       "0              2 1.000         -1                 3                  0.022   \n",
       "1              2 5.000         10                 1                  0.034   \n",
       "2              1 6.000         10                10                  0.025   \n",
       "3              2 3.000          2                 7                  0.032   \n",
       "4              0 3.000          5                 3                  0.031   \n",
       "\n",
       "     f4  employer_type  post_code  app_type  isDefault  \\\n",
       "0 8.000              4    814.000       NaN        NaN   \n",
       "1 7.000              4    240.000       NaN        NaN   \n",
       "2 3.000              0    164.000       NaN        NaN   \n",
       "3 6.000              4     48.000       NaN        NaN   \n",
       "4 4.000              3    122.000       NaN        NaN   \n",
       "\n",
       "   known_outstanding_loan  known_dero  \n",
       "0                     NaN         NaN  \n",
       "1                     NaN         NaN  \n",
       "2                     NaN         NaN  \n",
       "3                     NaN         NaN  \n",
       "4                     NaN         NaN  "
      ]
     },
     "execution_count": 110,
     "metadata": {},
     "output_type": "execute_result"
    }
   ],
   "source": [
    "data_cols_train_inte_public_same.head()"
   ]
  },
  {
   "cell_type": "code",
   "execution_count": 46,
   "metadata": {},
   "outputs": [],
   "source": [
    "data_cols_train_inte_public_same.to_pickle(\"../processed_data/data_intersect_train_inte.pkl\")"
   ]
  },
  {
   "cell_type": "markdown",
   "metadata": {},
   "source": [
    "## train 预测 Internet"
   ]
  },
  {
   "cell_type": "code",
   "execution_count": 2,
   "metadata": {},
   "outputs": [],
   "source": [
    "data_cols_train_inte_public_same = pd.read_pickle(\"../processed_data/data_intersect_train_inte.pkl\")"
   ]
  },
  {
   "cell_type": "code",
   "execution_count": 47,
   "metadata": {},
   "outputs": [
    {
     "name": "stdout",
     "output_type": "stream",
     "text": [
      "[0]\tvalidation_0-auc:0.89073\tvalidation_1-auc:0.88991\n",
      "[94]\tvalidation_0-auc:0.96433\tvalidation_1-auc:0.90899\n",
      "Fold  1 AUC : 0.910705\n",
      "[0]\tvalidation_0-auc:0.89599\tvalidation_1-auc:0.89447\n",
      "[82]\tvalidation_0-auc:0.96057\tvalidation_1-auc:0.90944\n",
      "Fold  2 AUC : 0.911512\n",
      "[0]\tvalidation_0-auc:0.89321\tvalidation_1-auc:0.87342\n",
      "[85]\tvalidation_0-auc:0.96464\tvalidation_1-auc:0.89521\n",
      "Fold  3 AUC : 0.898556\n",
      "[0]\tvalidation_0-auc:0.89806\tvalidation_1-auc:0.86559\n",
      "[85]\tvalidation_0-auc:0.96291\tvalidation_1-auc:0.88772\n",
      "Fold  4 AUC : 0.892259\n",
      "[0]\tvalidation_0-auc:0.89698\tvalidation_1-auc:0.87336\n",
      "[100]\tvalidation_0-auc:0.96870\tvalidation_1-auc:0.89470\n",
      "[110]\tvalidation_0-auc:0.97232\tvalidation_1-auc:0.89458\n",
      "Fold  5 AUC : 0.895677\n",
      "Full AUC score 0.900612\n"
     ]
    }
   ],
   "source": [
    "# 处理过精度后, 不用分层kFold, 模型xgboost（经过特征聚类后）\n",
    "y = train_data['isDefault']\n",
    "# folds = KFold(n_splits=5, shuffle=True, random_state=546789)\n",
    "folds = KFold(n_splits=5, shuffle=True, random_state=546789) # Need to update train_model()\n",
    "\n",
    "IntePre = train_model_xgb(train_data, data_cols_train_inte_public_same, y, folds)\n",
    "\n",
    "# 训练速度快于catboost\n"
   ]
  },
  {
   "cell_type": "code",
   "execution_count": 48,
   "metadata": {},
   "outputs": [
    {
     "data": {
      "text/plain": [
       "0    1\n",
       "1    0\n",
       "2    0\n",
       "3    0\n",
       "4    0\n",
       "Name: is_default, dtype: int64"
      ]
     },
     "execution_count": 48,
     "metadata": {},
     "output_type": "execute_result"
    }
   ],
   "source": [
    "train_inte.head()['is_default']"
   ]
  },
  {
   "cell_type": "code",
   "execution_count": 49,
   "metadata": {},
   "outputs": [],
   "source": [
    "IntePre['isDefault_actual'] = train_inte['is_default'] # 添加实际值到预测结果，便于后续计算AUC分值"
   ]
  },
  {
   "cell_type": "markdown",
   "metadata": {},
   "source": [
    "### 比较模型预测结果"
   ]
  },
  {
   "cell_type": "code",
   "execution_count": 23,
   "metadata": {},
   "outputs": [
    {
     "data": {
      "text/plain": [
       "0.7297711417801263"
      ]
     },
     "execution_count": 23,
     "metadata": {},
     "output_type": "execute_result"
    }
   ],
   "source": [
    "# 处理过精度 + 去除无关特征后, 模型lgbm (用StratifiedKFold)\n",
    "from sklearn.metrics import roc_auc_score\n",
    "roc_auc_score(IntePre['isDefault_actual'],IntePre.isDefault)"
   ]
  },
  {
   "cell_type": "code",
   "execution_count": 38,
   "metadata": {},
   "outputs": [
    {
     "data": {
      "text/plain": [
       "0.7335334786598459"
      ]
     },
     "execution_count": 38,
     "metadata": {},
     "output_type": "execute_result"
    }
   ],
   "source": [
    "# 处理过精度 + 去除无关特征后, 模型catboost (用StratifiedKFold)\n",
    "from sklearn.metrics import roc_auc_score\n",
    "roc_auc_score(IntePre['isDefault_actual'],IntePre.isDefault)"
   ]
  },
  {
   "cell_type": "code",
   "execution_count": 50,
   "metadata": {},
   "outputs": [
    {
     "data": {
      "text/plain": [
       "0.6929354835923216"
      ]
     },
     "execution_count": 50,
     "metadata": {},
     "output_type": "execute_result"
    }
   ],
   "source": [
    "# 处理过精度 + 去除无关特征后, 模型xgboost (用KFold)\n",
    "from sklearn.metrics import roc_auc_score\n",
    "roc_auc_score(IntePre['isDefault_actual'],IntePre.isDefault)"
   ]
  },
  {
   "cell_type": "code",
   "execution_count": 77,
   "metadata": {},
   "outputs": [
    {
     "data": {
      "image/png": "[encoded data removed]",
      "text/plain": [
       "<Figure size 576x720 with 1 Axes>"
      ]
     },
     "metadata": {},
     "output_type": "display_data"
    }
   ],
   "source": [
    "display_importances(importances, fname='lgbm_importances_1.png')"
   ]
  },
  {
   "cell_type": "code",
   "execution_count": 22,
   "metadata": {},
   "outputs": [
    {
     "data": {
      "image/png": "[encoded data removed]",
      "text/plain": [
       "<Figure size 576x720 with 1 Axes>"
      ]
     },
     "metadata": {},
     "output_type": "display_data"
    }
   ],
   "source": [
    "display_importances(importances, fname='catboost_importances.png')"
   ]
  },
  {
   "cell_type": "code",
   "execution_count": 51,
   "metadata": {},
   "outputs": [],
   "source": [
    "## 选择阈值0.05，从internet表中提取预测小于该概率的样本，并对不同来源的样本赋予来源值\n",
    "InteId = IntePre.loc[IntePre.isDefault<0.05, 'loan_id'].tolist()\n",
    "\n",
    "print(len(InteId))\n",
    "\n",
    "# train_inte = train_inte.rename(columns={'is_default':'isDefault'})\n",
    "\n",
    "# train_data['dataSourse'] = 1\n",
    "# test_public['dataSourse'] = 1\n",
    "# train_inte['dataSourse'] = 0\n",
    "\n",
    "train_data['dataSource'] = 1\n",
    "test_public['dataSource'] = 1\n",
    "data_cols_train_inte_public_same['dataSource'] = 0\n",
    "\n",
    "data_cols_train_inte_public_same['isDefault'] = train_inte['is_default']\n",
    "\n",
    "use_te = data_cols_train_inte_public_same[data_cols_train_inte_public_same.loan_id.isin( InteId )].copy()\n",
    "\n",
    "# 合并各来源的数据集\n",
    "data = pd.concat([ train_data,test_public,use_te]).reset_index(drop=True)\n",
    "\n"
   ]
  },
  {
   "cell_type": "code",
   "execution_count": 44,
   "metadata": {},
   "outputs": [
    {
     "data": {
      "text/html": [
       "<div>\n",
       "<style scoped>\n",
       "    .dataframe tbody tr th:only-of-type {\n",
       "        vertical-align: middle;\n",
       "    }\n",
       "\n",
       "    .dataframe tbody tr th {\n",
       "        vertical-align: top;\n",
       "    }\n",
       "\n",
       "    .dataframe thead th {\n",
       "        text-align: right;\n",
       "    }\n",
       "</style>\n",
       "<table border=\"1\" class=\"dataframe\">\n",
       "  <thead>\n",
       "    <tr style=\"text-align: right;\">\n",
       "      <th></th>\n",
       "      <th>app_type</th>\n",
       "      <th>censor_status</th>\n",
       "      <th>class</th>\n",
       "      <th>dataSource</th>\n",
       "      <th>debt_loan_ratio</th>\n",
       "      <th>del_in_18month</th>\n",
       "      <th>earliesCreditMon</th>\n",
       "      <th>earliesCreditYear</th>\n",
       "      <th>early_return</th>\n",
       "      <th>early_return_amount</th>\n",
       "      <th>early_return_amount_3mon</th>\n",
       "      <th>employer_type</th>\n",
       "      <th>f0</th>\n",
       "      <th>f1</th>\n",
       "      <th>f2</th>\n",
       "      <th>f3</th>\n",
       "      <th>f4</th>\n",
       "      <th>house_exist</th>\n",
       "      <th>industry</th>\n",
       "      <th>initial_list_status</th>\n",
       "      <th>interest</th>\n",
       "      <th>isDefault</th>\n",
       "      <th>issue_date_dayofweek</th>\n",
       "      <th>issue_date_month</th>\n",
       "      <th>known_dero</th>\n",
       "      <th>known_outstanding_loan</th>\n",
       "      <th>loan_id</th>\n",
       "      <th>monthly_payment</th>\n",
       "      <th>policy_code</th>\n",
       "      <th>post_code</th>\n",
       "      <th>pub_dero_bankrup</th>\n",
       "      <th>recircle_b</th>\n",
       "      <th>recircle_u</th>\n",
       "      <th>region</th>\n",
       "      <th>scoring_high</th>\n",
       "      <th>scoring_low</th>\n",
       "      <th>title</th>\n",
       "      <th>total_loan</th>\n",
       "      <th>use</th>\n",
       "      <th>user_id</th>\n",
       "      <th>work_year</th>\n",
       "      <th>year_of_loan</th>\n",
       "    </tr>\n",
       "  </thead>\n",
       "  <tbody>\n",
       "    <tr>\n",
       "      <td>0</td>\n",
       "      <td>0.000</td>\n",
       "      <td>1</td>\n",
       "      <td>3</td>\n",
       "      <td>1</td>\n",
       "      <td>2.430</td>\n",
       "      <td>0.000</td>\n",
       "      <td>12</td>\n",
       "      <td>2001</td>\n",
       "      <td>3</td>\n",
       "      <td>9927</td>\n",
       "      <td>0.000</td>\n",
       "      <td>3</td>\n",
       "      <td>1.000</td>\n",
       "      <td>0.000</td>\n",
       "      <td>4.000</td>\n",
       "      <td>5.000</td>\n",
       "      <td>4.000</td>\n",
       "      <td>0</td>\n",
       "      <td>13</td>\n",
       "      <td>0</td>\n",
       "      <td>11.466</td>\n",
       "      <td>0.000</td>\n",
       "      <td>5</td>\n",
       "      <td>10</td>\n",
       "      <td>0.000</td>\n",
       "      <td>3.000</td>\n",
       "      <td>1040418</td>\n",
       "      <td>1174.910</td>\n",
       "      <td>1.000</td>\n",
       "      <td>193.000</td>\n",
       "      <td>0.000</td>\n",
       "      <td>7734.231</td>\n",
       "      <td>91.800</td>\n",
       "      <td>13</td>\n",
       "      <td>649.091</td>\n",
       "      <td>556.364</td>\n",
       "      <td>5.000</td>\n",
       "      <td>31818.182</td>\n",
       "      <td>2</td>\n",
       "      <td>240418</td>\n",
       "      <td>3</td>\n",
       "      <td>3</td>\n",
       "    </tr>\n",
       "    <tr>\n",
       "      <td>1</td>\n",
       "      <td>0.000</td>\n",
       "      <td>2</td>\n",
       "      <td>3</td>\n",
       "      <td>1</td>\n",
       "      <td>11.005</td>\n",
       "      <td>1.000</td>\n",
       "      <td>4</td>\n",
       "      <td>1990</td>\n",
       "      <td>0</td>\n",
       "      <td>0</td>\n",
       "      <td>0.000</td>\n",
       "      <td>3</td>\n",
       "      <td>7.000</td>\n",
       "      <td>0.000</td>\n",
       "      <td>4.000</td>\n",
       "      <td>45.000</td>\n",
       "      <td>22.000</td>\n",
       "      <td>0</td>\n",
       "      <td>13</td>\n",
       "      <td>1</td>\n",
       "      <td>16.841</td>\n",
       "      <td>0.000</td>\n",
       "      <td>5</td>\n",
       "      <td>6</td>\n",
       "      <td>0.000</td>\n",
       "      <td>3.000</td>\n",
       "      <td>1025197</td>\n",
       "      <td>670.690</td>\n",
       "      <td>1.000</td>\n",
       "      <td>491.000</td>\n",
       "      <td>0.000</td>\n",
       "      <td>31329.000</td>\n",
       "      <td>54.800</td>\n",
       "      <td>30</td>\n",
       "      <td>893.750</td>\n",
       "      <td>715.000</td>\n",
       "      <td>40642.000</td>\n",
       "      <td>28000.000</td>\n",
       "      <td>0</td>\n",
       "      <td>225197</td>\n",
       "      <td>10</td>\n",
       "      <td>5</td>\n",
       "    </tr>\n",
       "    <tr>\n",
       "      <td>2</td>\n",
       "      <td>0.000</td>\n",
       "      <td>0</td>\n",
       "      <td>1</td>\n",
       "      <td>1</td>\n",
       "      <td>6.409</td>\n",
       "      <td>0.000</td>\n",
       "      <td>10</td>\n",
       "      <td>1991</td>\n",
       "      <td>0</td>\n",
       "      <td>0</td>\n",
       "      <td>0.000</td>\n",
       "      <td>3</td>\n",
       "      <td>6.000</td>\n",
       "      <td>0.000</td>\n",
       "      <td>6.000</td>\n",
       "      <td>28.000</td>\n",
       "      <td>19.000</td>\n",
       "      <td>1</td>\n",
       "      <td>3</td>\n",
       "      <td>1</td>\n",
       "      <td>8.900</td>\n",
       "      <td>0.000</td>\n",
       "      <td>2</td>\n",
       "      <td>1</td>\n",
       "      <td>0.000</td>\n",
       "      <td>5.000</td>\n",
       "      <td>1009360</td>\n",
       "      <td>603.320</td>\n",
       "      <td>1.000</td>\n",
       "      <td>459.000</td>\n",
       "      <td>0.000</td>\n",
       "      <td>18514.000</td>\n",
       "      <td>57.692</td>\n",
       "      <td>8</td>\n",
       "      <td>903.636</td>\n",
       "      <td>774.545</td>\n",
       "      <td>154.000</td>\n",
       "      <td>17272.727</td>\n",
       "      <td>4</td>\n",
       "      <td>209360</td>\n",
       "      <td>10</td>\n",
       "      <td>3</td>\n",
       "    </tr>\n",
       "    <tr>\n",
       "      <td>3</td>\n",
       "      <td>0.000</td>\n",
       "      <td>1</td>\n",
       "      <td>1</td>\n",
       "      <td>1</td>\n",
       "      <td>9.205</td>\n",
       "      <td>0.000</td>\n",
       "      <td>6</td>\n",
       "      <td>2001</td>\n",
       "      <td>0</td>\n",
       "      <td>0</td>\n",
       "      <td>0.000</td>\n",
       "      <td>1</td>\n",
       "      <td>5.000</td>\n",
       "      <td>0.000</td>\n",
       "      <td>10.000</td>\n",
       "      <td>15.000</td>\n",
       "      <td>9.000</td>\n",
       "      <td>0</td>\n",
       "      <td>10</td>\n",
       "      <td>0</td>\n",
       "      <td>4.788</td>\n",
       "      <td>0.000</td>\n",
       "      <td>2</td>\n",
       "      <td>7</td>\n",
       "      <td>0.000</td>\n",
       "      <td>3.000</td>\n",
       "      <td>1039708</td>\n",
       "      <td>602.300</td>\n",
       "      <td>1.000</td>\n",
       "      <td>157.000</td>\n",
       "      <td>0.000</td>\n",
       "      <td>20707.000</td>\n",
       "      <td>42.600</td>\n",
       "      <td>8</td>\n",
       "      <td>875.000</td>\n",
       "      <td>750.000</td>\n",
       "      <td>0.000</td>\n",
       "      <td>20000.000</td>\n",
       "      <td>0</td>\n",
       "      <td>239708</td>\n",
       "      <td>6</td>\n",
       "      <td>3</td>\n",
       "    </tr>\n",
       "    <tr>\n",
       "      <td>4</td>\n",
       "      <td>0.000</td>\n",
       "      <td>1</td>\n",
       "      <td>3</td>\n",
       "      <td>1</td>\n",
       "      <td>15.578</td>\n",
       "      <td>0.000</td>\n",
       "      <td>5</td>\n",
       "      <td>2001</td>\n",
       "      <td>0</td>\n",
       "      <td>0</td>\n",
       "      <td>0.000</td>\n",
       "      <td>3</td>\n",
       "      <td>10.000</td>\n",
       "      <td>0.000</td>\n",
       "      <td>6.000</td>\n",
       "      <td>15.000</td>\n",
       "      <td>4.000</td>\n",
       "      <td>2</td>\n",
       "      <td>2</td>\n",
       "      <td>0</td>\n",
       "      <td>12.790</td>\n",
       "      <td>0.000</td>\n",
       "      <td>4</td>\n",
       "      <td>7</td>\n",
       "      <td>0.000</td>\n",
       "      <td>15.000</td>\n",
       "      <td>1027483</td>\n",
       "      <td>470.310</td>\n",
       "      <td>1.000</td>\n",
       "      <td>38.000</td>\n",
       "      <td>0.000</td>\n",
       "      <td>14016.154</td>\n",
       "      <td>30.462</td>\n",
       "      <td>21</td>\n",
       "      <td>710.606</td>\n",
       "      <td>609.091</td>\n",
       "      <td>0.000</td>\n",
       "      <td>15272.727</td>\n",
       "      <td>0</td>\n",
       "      <td>227483</td>\n",
       "      <td>0</td>\n",
       "      <td>3</td>\n",
       "    </tr>\n",
       "  </tbody>\n",
       "</table>\n",
       "</div>"
      ],
      "text/plain": [
       "   app_type  censor_status  class  dataSource  debt_loan_ratio  \\\n",
       "0     0.000              1      3           1            2.430   \n",
       "1     0.000              2      3           1           11.005   \n",
       "2     0.000              0      1           1            6.409   \n",
       "3     0.000              1      1           1            9.205   \n",
       "4     0.000              1      3           1           15.578   \n",
       "\n",
       "   del_in_18month  earliesCreditMon  earliesCreditYear  early_return  \\\n",
       "0           0.000                12               2001             3   \n",
       "1           1.000                 4               1990             0   \n",
       "2           0.000                10               1991             0   \n",
       "3           0.000                 6               2001             0   \n",
       "4           0.000                 5               2001             0   \n",
       "\n",
       "   early_return_amount  early_return_amount_3mon  employer_type     f0    f1  \\\n",
       "0                 9927                     0.000              3  1.000 0.000   \n",
       "1                    0                     0.000              3  7.000 0.000   \n",
       "2                    0                     0.000              3  6.000 0.000   \n",
       "3                    0                     0.000              1  5.000 0.000   \n",
       "4                    0                     0.000              3 10.000 0.000   \n",
       "\n",
       "      f2     f3     f4  house_exist  industry  initial_list_status  interest  \\\n",
       "0  4.000  5.000  4.000            0        13                    0    11.466   \n",
       "1  4.000 45.000 22.000            0        13                    1    16.841   \n",
       "2  6.000 28.000 19.000            1         3                    1     8.900   \n",
       "3 10.000 15.000  9.000            0        10                    0     4.788   \n",
       "4  6.000 15.000  4.000            2         2                    0    12.790   \n",
       "\n",
       "   isDefault  issue_date_dayofweek  issue_date_month  known_dero  \\\n",
       "0      0.000                     5                10       0.000   \n",
       "1      0.000                     5                 6       0.000   \n",
       "2      0.000                     2                 1       0.000   \n",
       "3      0.000                     2                 7       0.000   \n",
       "4      0.000                     4                 7       0.000   \n",
       "\n",
       "   known_outstanding_loan  loan_id  monthly_payment  policy_code  post_code  \\\n",
       "0                   3.000  1040418         1174.910        1.000    193.000   \n",
       "1                   3.000  1025197          670.690        1.000    491.000   \n",
       "2                   5.000  1009360          603.320        1.000    459.000   \n",
       "3                   3.000  1039708          602.300        1.000    157.000   \n",
       "4                  15.000  1027483          470.310        1.000     38.000   \n",
       "\n",
       "   pub_dero_bankrup  recircle_b  recircle_u  region  scoring_high  \\\n",
       "0             0.000    7734.231      91.800      13       649.091   \n",
       "1             0.000   31329.000      54.800      30       893.750   \n",
       "2             0.000   18514.000      57.692       8       903.636   \n",
       "3             0.000   20707.000      42.600       8       875.000   \n",
       "4             0.000   14016.154      30.462      21       710.606   \n",
       "\n",
       "   scoring_low     title  total_loan  use  user_id  work_year  year_of_loan  \n",
       "0      556.364     5.000   31818.182    2   240418          3             3  \n",
       "1      715.000 40642.000   28000.000    0   225197         10             5  \n",
       "2      774.545   154.000   17272.727    4   209360         10             3  \n",
       "3      750.000     0.000   20000.000    0   239708          6             3  \n",
       "4      609.091     0.000   15272.727    0   227483          0             3  "
      ]
     },
     "execution_count": 44,
     "metadata": {},
     "output_type": "execute_result"
    }
   ],
   "source": [
    "data.head()"
   ]
  },
  {
   "cell_type": "code",
   "execution_count": 38,
   "metadata": {},
   "outputs": [
    {
     "data": {
      "text/plain": [
       "0    59829\n",
       "1    15000\n",
       "Name: dataSource, dtype: int64"
      ]
     },
     "execution_count": 38,
     "metadata": {},
     "output_type": "execute_result"
    }
   ],
   "source": [
    "data['dataSource'].value_counts() # 0: public, 1: internet"
   ]
  },
  {
   "cell_type": "markdown",
   "metadata": {},
   "source": [
    "## 模型训练与评估"
   ]
  },
  {
   "cell_type": "markdown",
   "metadata": {},
   "source": [
    "### 用将train_internet的预测结果和原训练集整合后的数据训练模型，捕捉不同业务当中客户背景信息和违约行为的关联"
   ]
  },
  {
   "cell_type": "code",
   "execution_count": 53,
   "metadata": {},
   "outputs": [
    {
     "name": "stdout",
     "output_type": "stream",
     "text": [
      "Size of training set: 11532\n",
      "Size of testing set: 5000\n",
      "train/test ratio = 2.31\n"
     ]
    }
   ],
   "source": [
    "from sklearn.model_selection import train_test_split\n",
    "\n",
    "# 定义新的训练和测试集\n",
    "\n",
    "train = data[data['isDefault'].notna()]\n",
    "\n",
    "print(f'Size of training set: {len(train)}')\n",
    "\n",
    "test  = data[data['isDefault'].isna()]\n",
    "\n",
    "print(f'Size of testing set: {len(test)}')\n",
    "\n",
    "print(\"train/test ratio = {:.2f}\".format(len(train)/len(test)))\n",
    "\n",
    "del data\n",
    "del train_data,test_public"
   ]
  },
  {
   "cell_type": "code",
   "execution_count": 54,
   "metadata": {},
   "outputs": [
    {
     "name": "stdout",
     "output_type": "stream",
     "text": [
      "0:\ttest: 0.8512112\ttest1: 0.8617023\tbest: 0.8617023 (0)\ttotal: 61.2ms\tremaining: 3m 3s\n",
      "50:\ttest: 0.9088145\ttest1: 0.9194934\tbest: 0.9194934 (50)\ttotal: 261ms\tremaining: 15.1s\n",
      "100:\ttest: 0.9088686\ttest1: 0.9194540\tbest: 0.9194934 (50)\ttotal: 437ms\tremaining: 12.5s\n",
      "150:\ttest: 0.9084712\ttest1: 0.9190145\tbest: 0.9194934 (50)\ttotal: 624ms\tremaining: 11.8s\n",
      "200:\ttest: 0.9087397\ttest1: 0.9193270\tbest: 0.9194934 (50)\ttotal: 854ms\tremaining: 11.9s\n",
      "250:\ttest: 0.9091765\ttest1: 0.9198934\tbest: 0.9198934 (250)\ttotal: 1.1s\tremaining: 12s\n",
      "300:\ttest: 0.9099567\ttest1: 0.9203285\tbest: 0.9203285 (300)\ttotal: 1.42s\tremaining: 12.7s\n",
      "350:\ttest: 0.9105997\ttest1: 0.9209037\tbest: 0.9209037 (350)\ttotal: 1.74s\tremaining: 13.1s\n",
      "400:\ttest: 0.9115653\ttest1: 0.9219155\tbest: 0.9219155 (400)\ttotal: 2s\tremaining: 13s\n",
      "450:\ttest: 0.9121083\ttest1: 0.9223695\tbest: 0.9223695 (450)\ttotal: 2.23s\tremaining: 12.6s\n",
      "500:\ttest: 0.9128883\ttest1: 0.9231667\tbest: 0.9231667 (500)\ttotal: 2.42s\tremaining: 12.1s\n",
      "550:\ttest: 0.9132259\ttest1: 0.9235535\tbest: 0.9235535 (550)\ttotal: 2.6s\tremaining: 11.6s\n",
      "600:\ttest: 0.9138824\ttest1: 0.9242689\tbest: 0.9242689 (600)\ttotal: 2.77s\tremaining: 11.1s\n",
      "650:\ttest: 0.9145716\ttest1: 0.9251726\tbest: 0.9251726 (650)\ttotal: 2.95s\tremaining: 10.7s\n",
      "700:\ttest: 0.9151543\ttest1: 0.9257741\tbest: 0.9257741 (700)\ttotal: 3.13s\tremaining: 10.3s\n",
      "750:\ttest: 0.9158303\ttest1: 0.9265129\tbest: 0.9265129 (750)\ttotal: 3.31s\tremaining: 9.9s\n",
      "800:\ttest: 0.9162970\ttest1: 0.9269991\tbest: 0.9269991 (800)\ttotal: 3.49s\tremaining: 9.57s\n",
      "850:\ttest: 0.9169567\ttest1: 0.9276487\tbest: 0.9276487 (850)\ttotal: 3.66s\tremaining: 9.25s\n",
      "900:\ttest: 0.9174780\ttest1: 0.9283276\tbest: 0.9283276 (900)\ttotal: 3.83s\tremaining: 8.93s\n",
      "950:\ttest: 0.9180001\ttest1: 0.9290094\tbest: 0.9290094 (950)\ttotal: 4.01s\tremaining: 8.63s\n",
      "1000:\ttest: 0.9185028\ttest1: 0.9296284\tbest: 0.9296284 (1000)\ttotal: 4.18s\tremaining: 8.35s\n",
      "1050:\ttest: 0.9191616\ttest1: 0.9302153\tbest: 0.9302153 (1050)\ttotal: 4.36s\tremaining: 8.09s\n",
      "1100:\ttest: 0.9196296\ttest1: 0.9306154\tbest: 0.9306154 (1100)\ttotal: 4.54s\tremaining: 7.83s\n",
      "1150:\ttest: 0.9202225\ttest1: 0.9311234\tbest: 0.9311234 (1150)\ttotal: 4.72s\tremaining: 7.58s\n",
      "1200:\ttest: 0.9206469\ttest1: 0.9315454\tbest: 0.9315454 (1200)\ttotal: 4.89s\tremaining: 7.32s\n",
      "1250:\ttest: 0.9211680\ttest1: 0.9319323\tbest: 0.9319323 (1250)\ttotal: 5.06s\tremaining: 7.08s\n",
      "1300:\ttest: 0.9217616\ttest1: 0.9323177\tbest: 0.9323177 (1300)\ttotal: 5.24s\tremaining: 6.85s\n",
      "1350:\ttest: 0.9221061\ttest1: 0.9326009\tbest: 0.9326009 (1350)\ttotal: 5.42s\tremaining: 6.61s\n",
      "1400:\ttest: 0.9224912\ttest1: 0.9328739\tbest: 0.9328739 (1400)\ttotal: 5.59s\tremaining: 6.38s\n",
      "1450:\ttest: 0.9228855\ttest1: 0.9332491\tbest: 0.9332491 (1450)\ttotal: 5.77s\tremaining: 6.16s\n",
      "1500:\ttest: 0.9233553\ttest1: 0.9336696\tbest: 0.9336696 (1500)\ttotal: 5.95s\tremaining: 5.94s\n",
      "1550:\ttest: 0.9237692\ttest1: 0.9338886\tbest: 0.9338886 (1550)\ttotal: 6.13s\tremaining: 5.72s\n",
      "1600:\ttest: 0.9241534\ttest1: 0.9340726\tbest: 0.9340726 (1600)\ttotal: 6.3s\tremaining: 5.5s\n",
      "1650:\ttest: 0.9245395\ttest1: 0.9343339\tbest: 0.9343339 (1650)\ttotal: 6.48s\tremaining: 5.29s\n",
      "1700:\ttest: 0.9249408\ttest1: 0.9345894\tbest: 0.9345894 (1700)\ttotal: 6.65s\tremaining: 5.08s\n",
      "1750:\ttest: 0.9253116\ttest1: 0.9347208\tbest: 0.9347208 (1750)\ttotal: 6.82s\tremaining: 4.87s\n",
      "1800:\ttest: 0.9256679\ttest1: 0.9348916\tbest: 0.9348916 (1800)\ttotal: 7s\tremaining: 4.66s\n",
      "1850:\ttest: 0.9259996\ttest1: 0.9350391\tbest: 0.9350391 (1850)\ttotal: 7.17s\tremaining: 4.45s\n",
      "1900:\ttest: 0.9263562\ttest1: 0.9352391\tbest: 0.9352391 (1900)\ttotal: 7.34s\tremaining: 4.25s\n",
      "1950:\ttest: 0.9267093\ttest1: 0.9354055\tbest: 0.9354055 (1950)\ttotal: 7.52s\tremaining: 4.04s\n",
      "2000:\ttest: 0.9270831\ttest1: 0.9356245\tbest: 0.9356245 (2000)\ttotal: 7.69s\tremaining: 3.84s\n",
      "2050:\ttest: 0.9274262\ttest1: 0.9357063\tbest: 0.9357063 (2050)\ttotal: 7.86s\tremaining: 3.64s\n",
      "2100:\ttest: 0.9278298\ttest1: 0.9358012\tbest: 0.9358012 (2100)\ttotal: 8.03s\tremaining: 3.44s\n",
      "2150:\ttest: 0.9281522\ttest1: 0.9358669\tbest: 0.9358669 (2150)\ttotal: 8.2s\tremaining: 3.24s\n",
      "2200:\ttest: 0.9285524\ttest1: 0.9359749\tbest: 0.9359749 (2200)\ttotal: 8.38s\tremaining: 3.04s\n",
      "2250:\ttest: 0.9289024\ttest1: 0.9360858\tbest: 0.9360858 (2250)\ttotal: 8.57s\tremaining: 2.85s\n",
      "2300:\ttest: 0.9292405\ttest1: 0.9362348\tbest: 0.9362348 (2300)\ttotal: 8.76s\tremaining: 2.66s\n",
      "2350:\ttest: 0.9296354\ttest1: 0.9363224\tbest: 0.9363224 (2350)\ttotal: 8.94s\tremaining: 2.47s\n",
      "2400:\ttest: 0.9299707\ttest1: 0.9363603\tbest: 0.9363603 (2400)\ttotal: 9.11s\tremaining: 2.27s\n",
      "2450:\ttest: 0.9302851\ttest1: 0.9364421\tbest: 0.9364421 (2450)\ttotal: 9.3s\tremaining: 2.08s\n",
      "2500:\ttest: 0.9305740\ttest1: 0.9364202\tbest: 0.9364421 (2450)\ttotal: 9.47s\tremaining: 1.89s\n",
      "2550:\ttest: 0.9309101\ttest1: 0.9364800\tbest: 0.9364800 (2550)\ttotal: 9.64s\tremaining: 1.7s\n",
      "2600:\ttest: 0.9312378\ttest1: 0.9365282\tbest: 0.9365282 (2600)\ttotal: 9.82s\tremaining: 1.51s\n",
      "2650:\ttest: 0.9315729\ttest1: 0.9366012\tbest: 0.9366012 (2650)\ttotal: 10s\tremaining: 1.32s\n",
      "2700:\ttest: 0.9319118\ttest1: 0.9366873\tbest: 0.9366873 (2700)\ttotal: 10.2s\tremaining: 1.13s\n",
      "2750:\ttest: 0.9322800\ttest1: 0.9367516\tbest: 0.9367516 (2750)\ttotal: 10.4s\tremaining: 943ms\n",
      "2800:\ttest: 0.9326289\ttest1: 0.9368275\tbest: 0.9368275 (2800)\ttotal: 10.6s\tremaining: 754ms\n",
      "2850:\ttest: 0.9329252\ttest1: 0.9369180\tbest: 0.9369180 (2850)\ttotal: 10.8s\tremaining: 564ms\n",
      "2900:\ttest: 0.9332393\ttest1: 0.9370042\tbest: 0.9370042 (2900)\ttotal: 11s\tremaining: 374ms\n",
      "2950:\ttest: 0.9335865\ttest1: 0.9369983\tbest: 0.9370042 (2900)\ttotal: 11.2s\tremaining: 185ms\n",
      "2999:\ttest: 0.9339310\ttest1: 0.9370728\tbest: 0.9370728 (2999)\ttotal: 11.3s\tremaining: 0us\n",
      "\n",
      "bestTest = 0.937072779\n",
      "bestIteration = 2999\n",
      "\n",
      "Fold  1 AUC : 0.937073\n",
      "0:\ttest: 0.8568456\ttest1: 0.8503713\tbest: 0.8503713 (0)\ttotal: 3.54ms\tremaining: 10.6s\n",
      "50:\ttest: 0.9130288\ttest1: 0.8952236\tbest: 0.8952236 (50)\ttotal: 179ms\tremaining: 10.3s\n",
      "100:\ttest: 0.9138323\ttest1: 0.8955972\tbest: 0.8955972 (100)\ttotal: 363ms\tremaining: 10.4s\n",
      "150:\ttest: 0.9141562\ttest1: 0.8963955\tbest: 0.8963955 (150)\ttotal: 537ms\tremaining: 10.1s\n",
      "200:\ttest: 0.9143966\ttest1: 0.8965943\tbest: 0.8965943 (200)\ttotal: 719ms\tremaining: 10s\n",
      "250:\ttest: 0.9148166\ttest1: 0.8977541\tbest: 0.8977541 (250)\ttotal: 908ms\tremaining: 9.94s\n",
      "300:\ttest: 0.9154288\ttest1: 0.8983085\tbest: 0.8983085 (300)\ttotal: 1.08s\tremaining: 9.73s\n",
      "350:\ttest: 0.9160561\ttest1: 0.8992228\tbest: 0.8992228 (350)\ttotal: 1.26s\tremaining: 9.55s\n",
      "400:\ttest: 0.9167396\ttest1: 0.8999518\tbest: 0.8999518 (400)\ttotal: 1.44s\tremaining: 9.33s\n",
      "450:\ttest: 0.9176488\ttest1: 0.9005151\tbest: 0.9005151 (450)\ttotal: 1.63s\tremaining: 9.22s\n",
      "500:\ttest: 0.9183801\ttest1: 0.9013903\tbest: 0.9013903 (500)\ttotal: 1.8s\tremaining: 9s\n",
      "550:\ttest: 0.9193300\ttest1: 0.9026013\tbest: 0.9026013 (550)\ttotal: 1.98s\tremaining: 8.81s\n",
      "600:\ttest: 0.9201371\ttest1: 0.9034900\tbest: 0.9034900 (600)\ttotal: 2.16s\tremaining: 8.62s\n",
      "650:\ttest: 0.9207173\ttest1: 0.9040805\tbest: 0.9040805 (650)\ttotal: 2.36s\tremaining: 8.53s\n",
      "700:\ttest: 0.9213522\ttest1: 0.9046920\tbest: 0.9046920 (700)\ttotal: 2.55s\tremaining: 8.36s\n",
      "750:\ttest: 0.9222156\ttest1: 0.9058428\tbest: 0.9058428 (750)\ttotal: 2.73s\tremaining: 8.16s\n",
      "800:\ttest: 0.9226696\ttest1: 0.9063038\tbest: 0.9063038 (800)\ttotal: 2.92s\tremaining: 8.02s\n",
      "850:\ttest: 0.9233027\ttest1: 0.9066879\tbest: 0.9066879 (850)\ttotal: 3.11s\tremaining: 7.85s\n",
      "900:\ttest: 0.9239952\ttest1: 0.9074079\tbest: 0.9074079 (900)\ttotal: 3.3s\tremaining: 7.68s\n",
      "950:\ttest: 0.9245156\ttest1: 0.9076730\tbest: 0.9076730 (950)\ttotal: 3.48s\tremaining: 7.51s\n",
      "1000:\ttest: 0.9251361\ttest1: 0.9080239\tbest: 0.9080239 (1000)\ttotal: 3.66s\tremaining: 7.31s\n",
      "1050:\ttest: 0.9256254\ttest1: 0.9083207\tbest: 0.9083207 (1050)\ttotal: 3.84s\tremaining: 7.12s\n",
      "1100:\ttest: 0.9260209\ttest1: 0.9085466\tbest: 0.9085466 (1100)\ttotal: 4.02s\tremaining: 6.94s\n",
      "1150:\ttest: 0.9266291\ttest1: 0.9090512\tbest: 0.9090512 (1150)\ttotal: 4.2s\tremaining: 6.75s\n",
      "1200:\ttest: 0.9271160\ttest1: 0.9094549\tbest: 0.9094549 (1200)\ttotal: 4.38s\tremaining: 6.56s\n",
      "1250:\ttest: 0.9275696\ttest1: 0.9099354\tbest: 0.9099354 (1250)\ttotal: 4.57s\tremaining: 6.39s\n",
      "1300:\ttest: 0.9279019\ttest1: 0.9100619\tbest: 0.9100619 (1300)\ttotal: 4.77s\tremaining: 6.23s\n",
      "1350:\ttest: 0.9282324\ttest1: 0.9102140\tbest: 0.9102140 (1350)\ttotal: 4.95s\tremaining: 6.04s\n",
      "1400:\ttest: 0.9286192\ttest1: 0.9104596\tbest: 0.9104596 (1400)\ttotal: 5.12s\tremaining: 5.84s\n",
      "1450:\ttest: 0.9289991\ttest1: 0.9105996\tbest: 0.9105996 (1450)\ttotal: 5.32s\tremaining: 5.67s\n",
      "1500:\ttest: 0.9293482\ttest1: 0.9106855\tbest: 0.9106855 (1500)\ttotal: 5.53s\tremaining: 5.52s\n",
      "1550:\ttest: 0.9297205\ttest1: 0.9107668\tbest: 0.9107668 (1550)\ttotal: 5.73s\tremaining: 5.35s\n",
      "1600:\ttest: 0.9301515\ttest1: 0.9108693\tbest: 0.9108693 (1600)\ttotal: 5.94s\tremaining: 5.19s\n",
      "1650:\ttest: 0.9304684\ttest1: 0.9109386\tbest: 0.9109386 (1650)\ttotal: 6.12s\tremaining: 5s\n",
      "1700:\ttest: 0.9307894\ttest1: 0.9110154\tbest: 0.9110154 (1700)\ttotal: 6.3s\tremaining: 4.81s\n",
      "1750:\ttest: 0.9310795\ttest1: 0.9110741\tbest: 0.9110741 (1750)\ttotal: 6.49s\tremaining: 4.63s\n",
      "1800:\ttest: 0.9314100\ttest1: 0.9110741\tbest: 0.9110741 (1750)\ttotal: 6.67s\tremaining: 4.44s\n",
      "1850:\ttest: 0.9317836\ttest1: 0.9111253\tbest: 0.9111253 (1850)\ttotal: 6.85s\tremaining: 4.25s\n",
      "1900:\ttest: 0.9320924\ttest1: 0.9112217\tbest: 0.9112217 (1900)\ttotal: 7.04s\tremaining: 4.07s\n",
      "1950:\ttest: 0.9324537\ttest1: 0.9112489\tbest: 0.9112489 (1950)\ttotal: 7.22s\tremaining: 3.88s\n",
      "2000:\ttest: 0.9328488\ttest1: 0.9112986\tbest: 0.9112986 (2000)\ttotal: 7.39s\tremaining: 3.69s\n",
      "2050:\ttest: 0.9331727\ttest1: 0.9112955\tbest: 0.9112986 (2000)\ttotal: 7.58s\tremaining: 3.51s\n",
      "2100:\ttest: 0.9335513\ttest1: 0.9113603\tbest: 0.9113603 (2100)\ttotal: 7.78s\tremaining: 3.33s\n",
      "2150:\ttest: 0.9339168\ttest1: 0.9113242\tbest: 0.9113603 (2100)\ttotal: 7.95s\tremaining: 3.14s\n",
      "2200:\ttest: 0.9343016\ttest1: 0.9113799\tbest: 0.9113799 (2200)\ttotal: 8.16s\tremaining: 2.96s\n",
      "2250:\ttest: 0.9346359\ttest1: 0.9114326\tbest: 0.9114326 (2250)\ttotal: 8.33s\tremaining: 2.77s\n",
      "2300:\ttest: 0.9349623\ttest1: 0.9114658\tbest: 0.9114658 (2300)\ttotal: 8.54s\tremaining: 2.59s\n",
      "2350:\ttest: 0.9353190\ttest1: 0.9114733\tbest: 0.9114733 (2350)\ttotal: 8.72s\tremaining: 2.41s\n",
      "2400:\ttest: 0.9356775\ttest1: 0.9114733\tbest: 0.9114733 (2350)\ttotal: 8.89s\tremaining: 2.22s\n",
      "2450:\ttest: 0.9360289\ttest1: 0.9114929\tbest: 0.9114929 (2450)\ttotal: 9.06s\tremaining: 2.03s\n",
      "2500:\ttest: 0.9363954\ttest1: 0.9114853\tbest: 0.9114929 (2450)\ttotal: 9.24s\tremaining: 1.84s\n",
      "2550:\ttest: 0.9367719\ttest1: 0.9115305\tbest: 0.9115305 (2550)\ttotal: 9.42s\tremaining: 1.66s\n",
      "2600:\ttest: 0.9371357\ttest1: 0.9116555\tbest: 0.9116555 (2600)\ttotal: 9.6s\tremaining: 1.47s\n",
      "2650:\ttest: 0.9374875\ttest1: 0.9116736\tbest: 0.9116736 (2650)\ttotal: 9.78s\tremaining: 1.29s\n",
      "2700:\ttest: 0.9378315\ttest1: 0.9117098\tbest: 0.9117098 (2700)\ttotal: 9.95s\tremaining: 1.1s\n",
      "2750:\ttest: 0.9381844\ttest1: 0.9117610\tbest: 0.9117610 (2750)\ttotal: 10.1s\tremaining: 916ms\n",
      "2800:\ttest: 0.9385486\ttest1: 0.9117806\tbest: 0.9117806 (2800)\ttotal: 10.3s\tremaining: 731ms\n",
      "2850:\ttest: 0.9388678\ttest1: 0.9117836\tbest: 0.9117836 (2850)\ttotal: 10.5s\tremaining: 547ms\n",
      "2900:\ttest: 0.9392181\ttest1: 0.9117941\tbest: 0.9117941 (2900)\ttotal: 10.6s\tremaining: 363ms\n",
      "2950:\ttest: 0.9395532\ttest1: 0.9118092\tbest: 0.9118092 (2950)\ttotal: 10.8s\tremaining: 180ms\n",
      "2999:\ttest: 0.9398574\ttest1: 0.9118212\tbest: 0.9118212 (2999)\ttotal: 11s\tremaining: 0us\n",
      "\n",
      "bestTest = 0.9118212354\n",
      "bestIteration = 2999\n",
      "\n",
      "Fold  2 AUC : 0.911821\n",
      "0:\ttest: 0.8613648\ttest1: 0.8294039\tbest: 0.8294039 (0)\ttotal: 3.42ms\tremaining: 10.3s\n",
      "50:\ttest: 0.9148114\ttest1: 0.8875296\tbest: 0.8875296 (50)\ttotal: 175ms\tremaining: 10.1s\n",
      "100:\ttest: 0.9159515\ttest1: 0.8867774\tbest: 0.8875296 (50)\ttotal: 357ms\tremaining: 10.2s\n",
      "150:\ttest: 0.9162950\ttest1: 0.8875681\tbest: 0.8875681 (150)\ttotal: 538ms\tremaining: 10.1s\n",
      "200:\ttest: 0.9170535\ttest1: 0.8886717\tbest: 0.8886717 (200)\ttotal: 717ms\tremaining: 9.99s\n",
      "250:\ttest: 0.9181212\ttest1: 0.8893176\tbest: 0.8893176 (250)\ttotal: 899ms\tremaining: 9.85s\n",
      "300:\ttest: 0.9190904\ttest1: 0.8897414\tbest: 0.8897414 (300)\ttotal: 1.07s\tremaining: 9.61s\n",
      "350:\ttest: 0.9200243\ttest1: 0.8908342\tbest: 0.8908342 (350)\ttotal: 1.25s\tremaining: 9.44s\n",
      "400:\ttest: 0.9201099\ttest1: 0.8909005\tbest: 0.8909005 (400)\ttotal: 1.44s\tremaining: 9.36s\n",
      "450:\ttest: 0.9211702\ttest1: 0.8922292\tbest: 0.8922292 (450)\ttotal: 1.62s\tremaining: 9.18s\n",
      "500:\ttest: 0.9220489\ttest1: 0.8932480\tbest: 0.8932480 (500)\ttotal: 1.8s\tremaining: 8.99s\n",
      "550:\ttest: 0.9224818\ttest1: 0.8938969\tbest: 0.8938969 (550)\ttotal: 1.98s\tremaining: 8.8s\n",
      "600:\ttest: 0.9232311\ttest1: 0.8947616\tbest: 0.8947616 (600)\ttotal: 2.15s\tremaining: 8.61s\n",
      "650:\ttest: 0.9239084\ttest1: 0.8953118\tbest: 0.8953118 (650)\ttotal: 2.34s\tremaining: 8.44s\n",
      "700:\ttest: 0.9244707\ttest1: 0.8958868\tbest: 0.8958868 (700)\ttotal: 2.52s\tremaining: 8.28s\n",
      "750:\ttest: 0.9249367\ttest1: 0.8961426\tbest: 0.8961426 (750)\ttotal: 2.71s\tremaining: 8.1s\n",
      "800:\ttest: 0.9252775\ttest1: 0.8962706\tbest: 0.8962706 (800)\ttotal: 2.88s\tremaining: 7.92s\n",
      "850:\ttest: 0.9257003\ttest1: 0.8966420\tbest: 0.8966420 (850)\ttotal: 3.08s\tremaining: 7.77s\n",
      "900:\ttest: 0.9261539\ttest1: 0.8971121\tbest: 0.8971121 (900)\ttotal: 3.28s\tremaining: 7.64s\n",
      "950:\ttest: 0.9266631\ttest1: 0.8975961\tbest: 0.8975961 (950)\ttotal: 3.49s\tremaining: 7.51s\n",
      "1000:\ttest: 0.9271008\ttest1: 0.8980277\tbest: 0.8980277 (1000)\ttotal: 3.69s\tremaining: 7.37s\n",
      "1050:\ttest: 0.9275628\ttest1: 0.8985286\tbest: 0.8985286 (1050)\ttotal: 3.88s\tremaining: 7.2s\n",
      "1100:\ttest: 0.9279867\ttest1: 0.8989325\tbest: 0.8989325 (1100)\ttotal: 4.09s\tremaining: 7.05s\n",
      "1150:\ttest: 0.9284784\ttest1: 0.8995213\tbest: 0.8995213 (1150)\ttotal: 4.27s\tremaining: 6.85s\n",
      "1200:\ttest: 0.9287705\ttest1: 0.8998079\tbest: 0.8998079 (1200)\ttotal: 4.45s\tremaining: 6.67s\n",
      "1250:\ttest: 0.9291530\ttest1: 0.9000792\tbest: 0.9000792 (1250)\ttotal: 4.63s\tremaining: 6.47s\n",
      "1300:\ttest: 0.9294763\ttest1: 0.9004060\tbest: 0.9004060 (1300)\ttotal: 4.8s\tremaining: 6.27s\n",
      "1350:\ttest: 0.9298198\ttest1: 0.9005540\tbest: 0.9005540 (1350)\ttotal: 4.98s\tremaining: 6.08s\n",
      "1400:\ttest: 0.9301648\ttest1: 0.9006480\tbest: 0.9006480 (1400)\ttotal: 5.16s\tremaining: 5.89s\n",
      "1450:\ttest: 0.9304867\ttest1: 0.9009054\tbest: 0.9009054 (1450)\ttotal: 5.37s\tremaining: 5.73s\n",
      "1500:\ttest: 0.9308987\ttest1: 0.9012337\tbest: 0.9012337 (1500)\ttotal: 5.58s\tremaining: 5.58s\n",
      "1550:\ttest: 0.9312234\ttest1: 0.9013462\tbest: 0.9013462 (1550)\ttotal: 5.78s\tremaining: 5.4s\n",
      "1600:\ttest: 0.9315692\ttest1: 0.9015481\tbest: 0.9015481 (1600)\ttotal: 5.96s\tremaining: 5.2s\n",
      "1650:\ttest: 0.9318960\ttest1: 0.9016005\tbest: 0.9016005 (1650)\ttotal: 6.16s\tremaining: 5.03s\n",
      "1700:\ttest: 0.9322233\ttest1: 0.9017454\tbest: 0.9017454 (1700)\ttotal: 6.33s\tremaining: 4.84s\n",
      "1750:\ttest: 0.9325140\ttest1: 0.9017608\tbest: 0.9017608 (1750)\ttotal: 6.51s\tremaining: 4.65s\n",
      "1800:\ttest: 0.9328440\ttest1: 0.9018487\tbest: 0.9018487 (1800)\ttotal: 6.69s\tremaining: 4.45s\n",
      "1850:\ttest: 0.9331943\ttest1: 0.9020830\tbest: 0.9020830 (1850)\ttotal: 6.89s\tremaining: 4.28s\n",
      "1900:\ttest: 0.9335124\ttest1: 0.9021940\tbest: 0.9021940 (1900)\ttotal: 7.06s\tremaining: 4.08s\n",
      "1950:\ttest: 0.9338643\ttest1: 0.9022818\tbest: 0.9022818 (1950)\ttotal: 7.23s\tremaining: 3.89s\n",
      "2000:\ttest: 0.9341621\ttest1: 0.9023419\tbest: 0.9023419 (2000)\ttotal: 7.41s\tremaining: 3.7s\n",
      "2050:\ttest: 0.9344871\ttest1: 0.9024945\tbest: 0.9024945 (2050)\ttotal: 7.62s\tremaining: 3.52s\n",
      "2100:\ttest: 0.9348191\ttest1: 0.9025084\tbest: 0.9025084 (2100)\ttotal: 7.8s\tremaining: 3.34s\n",
      "2150:\ttest: 0.9351143\ttest1: 0.9026486\tbest: 0.9026486 (2150)\ttotal: 7.97s\tremaining: 3.15s\n",
      "2200:\ttest: 0.9354768\ttest1: 0.9027072\tbest: 0.9027072 (2200)\ttotal: 8.14s\tremaining: 2.96s\n",
      "2250:\ttest: 0.9358216\ttest1: 0.9027889\tbest: 0.9027889 (2250)\ttotal: 8.33s\tremaining: 2.77s\n",
      "2300:\ttest: 0.9361655\ttest1: 0.9028444\tbest: 0.9028444 (2300)\ttotal: 8.52s\tremaining: 2.59s\n",
      "2350:\ttest: 0.9365353\ttest1: 0.9029061\tbest: 0.9029061 (2350)\ttotal: 8.73s\tremaining: 2.41s\n",
      "2400:\ttest: 0.9368986\ttest1: 0.9029292\tbest: 0.9029292 (2400)\ttotal: 8.9s\tremaining: 2.22s\n",
      "2450:\ttest: 0.9372764\ttest1: 0.9029831\tbest: 0.9029831 (2450)\ttotal: 9.08s\tremaining: 2.03s\n",
      "2500:\ttest: 0.9376360\ttest1: 0.9030247\tbest: 0.9030247 (2500)\ttotal: 9.26s\tremaining: 1.85s\n",
      "2550:\ttest: 0.9379955\ttest1: 0.9031095\tbest: 0.9031095 (2550)\ttotal: 9.43s\tremaining: 1.66s\n",
      "2600:\ttest: 0.9383363\ttest1: 0.9031912\tbest: 0.9031912 (2600)\ttotal: 9.61s\tremaining: 1.47s\n",
      "2650:\ttest: 0.9386637\ttest1: 0.9032174\tbest: 0.9032174 (2650)\ttotal: 9.79s\tremaining: 1.29s\n",
      "2700:\ttest: 0.9390102\ttest1: 0.9032868\tbest: 0.9032868 (2700)\ttotal: 9.97s\tremaining: 1.1s\n",
      "2750:\ttest: 0.9393781\ttest1: 0.9032760\tbest: 0.9032868 (2700)\ttotal: 10.2s\tremaining: 922ms\n",
      "2800:\ttest: 0.9397171\ttest1: 0.9033469\tbest: 0.9033469 (2800)\ttotal: 10.4s\tremaining: 738ms\n",
      "2850:\ttest: 0.9400535\ttest1: 0.9033931\tbest: 0.9033931 (2850)\ttotal: 10.6s\tremaining: 552ms\n",
      "2900:\ttest: 0.9403861\ttest1: 0.9034101\tbest: 0.9034101 (2900)\ttotal: 10.7s\tremaining: 367ms\n",
      "2950:\ttest: 0.9407490\ttest1: 0.9034455\tbest: 0.9034455 (2950)\ttotal: 10.9s\tremaining: 181ms\n",
      "2999:\ttest: 0.9410831\ttest1: 0.9035596\tbest: 0.9035596 (2999)\ttotal: 11.1s\tremaining: 0us\n",
      "\n",
      "bestTest = 0.9035595822\n",
      "bestIteration = 2999\n",
      "\n",
      "Fold  3 AUC : 0.903560\n",
      "0:\ttest: 0.8611515\ttest1: 0.8380315\tbest: 0.8380315 (0)\ttotal: 4.78ms\tremaining: 14.3s\n",
      "50:\ttest: 0.9129948\ttest1: 0.8889694\tbest: 0.8889694 (50)\ttotal: 191ms\tremaining: 11s\n",
      "100:\ttest: 0.9147468\ttest1: 0.8907639\tbest: 0.8907639 (100)\ttotal: 368ms\tremaining: 10.6s\n",
      "150:\ttest: 0.9151105\ttest1: 0.8920041\tbest: 0.8920041 (150)\ttotal: 544ms\tremaining: 10.3s\n",
      "200:\ttest: 0.9160565\ttest1: 0.8922125\tbest: 0.8922125 (200)\ttotal: 727ms\tremaining: 10.1s\n",
      "250:\ttest: 0.9159136\ttest1: 0.8918435\tbest: 0.8922125 (200)\ttotal: 902ms\tremaining: 9.88s\n",
      "300:\ttest: 0.9163631\ttest1: 0.8925960\tbest: 0.8925960 (300)\ttotal: 1.08s\tremaining: 9.69s\n",
      "350:\ttest: 0.9171464\ttest1: 0.8936467\tbest: 0.8936467 (350)\ttotal: 1.27s\tremaining: 9.57s\n",
      "400:\ttest: 0.9185725\ttest1: 0.8955381\tbest: 0.8955381 (400)\ttotal: 1.49s\tremaining: 9.66s\n",
      "450:\ttest: 0.9192586\ttest1: 0.8963008\tbest: 0.8963008 (450)\ttotal: 1.67s\tremaining: 9.45s\n",
      "500:\ttest: 0.9201041\ttest1: 0.8975135\tbest: 0.8975135 (500)\ttotal: 1.85s\tremaining: 9.22s\n",
      "550:\ttest: 0.9205746\ttest1: 0.8980388\tbest: 0.8980388 (550)\ttotal: 2.03s\tremaining: 9.02s\n",
      "600:\ttest: 0.9209764\ttest1: 0.8983036\tbest: 0.8983036 (600)\ttotal: 2.21s\tremaining: 8.83s\n",
      "650:\ttest: 0.9216464\ttest1: 0.8989635\tbest: 0.8989635 (650)\ttotal: 2.4s\tremaining: 8.64s\n",
      "700:\ttest: 0.9220956\ttest1: 0.8993094\tbest: 0.8993094 (700)\ttotal: 2.57s\tremaining: 8.44s\n",
      "750:\ttest: 0.9225492\ttest1: 0.8997667\tbest: 0.8997667 (750)\ttotal: 2.75s\tremaining: 8.24s\n",
      "800:\ttest: 0.9231400\ttest1: 0.9004802\tbest: 0.9004802 (800)\ttotal: 2.93s\tremaining: 8.04s\n",
      "850:\ttest: 0.9236434\ttest1: 0.9012168\tbest: 0.9012168 (850)\ttotal: 3.1s\tremaining: 7.84s\n",
      "900:\ttest: 0.9241290\ttest1: 0.9016654\tbest: 0.9016654 (900)\ttotal: 3.29s\tremaining: 7.67s\n",
      "950:\ttest: 0.9245624\ttest1: 0.9021111\tbest: 0.9021111 (950)\ttotal: 3.47s\tremaining: 7.48s\n",
      "1000:\ttest: 0.9251522\ttest1: 0.9025322\tbest: 0.9025322 (1000)\ttotal: 3.65s\tremaining: 7.29s\n",
      "1050:\ttest: 0.9256186\ttest1: 0.9029505\tbest: 0.9029505 (1050)\ttotal: 3.83s\tremaining: 7.1s\n",
      "1100:\ttest: 0.9260604\ttest1: 0.9031950\tbest: 0.9031950 (1100)\ttotal: 4s\tremaining: 6.91s\n",
      "1150:\ttest: 0.9265237\ttest1: 0.9036914\tbest: 0.9036914 (1150)\ttotal: 4.18s\tremaining: 6.71s\n",
      "1200:\ttest: 0.9270955\ttest1: 0.9041863\tbest: 0.9041863 (1200)\ttotal: 4.35s\tremaining: 6.52s\n",
      "1250:\ttest: 0.9274966\ttest1: 0.9044599\tbest: 0.9044599 (1250)\ttotal: 4.56s\tremaining: 6.38s\n",
      "1300:\ttest: 0.9279456\ttest1: 0.9046089\tbest: 0.9046089 (1300)\ttotal: 4.75s\tremaining: 6.2s\n",
      "1350:\ttest: 0.9283931\ttest1: 0.9050011\tbest: 0.9050011 (1350)\ttotal: 4.93s\tremaining: 6.01s\n",
      "1400:\ttest: 0.9288140\ttest1: 0.9051965\tbest: 0.9051965 (1400)\ttotal: 5.1s\tremaining: 5.82s\n",
      "1450:\ttest: 0.9292093\ttest1: 0.9053730\tbest: 0.9053730 (1450)\ttotal: 5.28s\tremaining: 5.64s\n",
      "1500:\ttest: 0.9295784\ttest1: 0.9056176\tbest: 0.9056176 (1500)\ttotal: 5.48s\tremaining: 5.47s\n",
      "1550:\ttest: 0.9299816\ttest1: 0.9059432\tbest: 0.9059432 (1550)\ttotal: 5.7s\tremaining: 5.32s\n",
      "1600:\ttest: 0.9302805\ttest1: 0.9061198\tbest: 0.9061198 (1600)\ttotal: 5.89s\tremaining: 5.15s\n",
      "1650:\ttest: 0.9307058\ttest1: 0.9064179\tbest: 0.9064179 (1650)\ttotal: 6.08s\tremaining: 4.97s\n",
      "1700:\ttest: 0.9310765\ttest1: 0.9066074\tbest: 0.9066074 (1700)\ttotal: 6.28s\tremaining: 4.8s\n",
      "1750:\ttest: 0.9314231\ttest1: 0.9067261\tbest: 0.9067261 (1750)\ttotal: 6.46s\tremaining: 4.61s\n",
      "1800:\ttest: 0.9317548\ttest1: 0.9068202\tbest: 0.9068202 (1800)\ttotal: 6.64s\tremaining: 4.42s\n",
      "1850:\ttest: 0.9321189\ttest1: 0.9070228\tbest: 0.9070228 (1850)\ttotal: 6.83s\tremaining: 4.24s\n",
      "1900:\ttest: 0.9324389\ttest1: 0.9071964\tbest: 0.9071964 (1900)\ttotal: 7.04s\tremaining: 4.07s\n",
      "1950:\ttest: 0.9327948\ttest1: 0.9072949\tbest: 0.9072949 (1950)\ttotal: 7.22s\tremaining: 3.88s\n",
      "2000:\ttest: 0.9331419\ttest1: 0.9074193\tbest: 0.9074193 (2000)\ttotal: 7.41s\tremaining: 3.7s\n",
      "2050:\ttest: 0.9334254\ttest1: 0.9074902\tbest: 0.9074902 (2050)\ttotal: 7.59s\tremaining: 3.51s\n",
      "2100:\ttest: 0.9337598\ttest1: 0.9075713\tbest: 0.9075713 (2100)\ttotal: 7.82s\tremaining: 3.35s\n",
      "2150:\ttest: 0.9341347\ttest1: 0.9076494\tbest: 0.9076494 (2150)\ttotal: 8.01s\tremaining: 3.16s\n",
      "2200:\ttest: 0.9344970\ttest1: 0.9078043\tbest: 0.9078043 (2200)\ttotal: 8.19s\tremaining: 2.97s\n",
      "2250:\ttest: 0.9348793\ttest1: 0.9078317\tbest: 0.9078317 (2250)\ttotal: 8.37s\tremaining: 2.78s\n",
      "2300:\ttest: 0.9352291\ttest1: 0.9078838\tbest: 0.9078838 (2300)\ttotal: 8.55s\tremaining: 2.6s\n",
      "2350:\ttest: 0.9355464\ttest1: 0.9079678\tbest: 0.9079678 (2350)\ttotal: 8.74s\tremaining: 2.41s\n",
      "2400:\ttest: 0.9358601\ttest1: 0.9080213\tbest: 0.9080213 (2400)\ttotal: 8.92s\tremaining: 2.23s\n",
      "2450:\ttest: 0.9362011\ttest1: 0.9081313\tbest: 0.9081313 (2450)\ttotal: 9.1s\tremaining: 2.04s\n",
      "2500:\ttest: 0.9364937\ttest1: 0.9082196\tbest: 0.9082196 (2500)\ttotal: 9.28s\tremaining: 1.85s\n",
      "2550:\ttest: 0.9368450\ttest1: 0.9083846\tbest: 0.9083846 (2550)\ttotal: 9.46s\tremaining: 1.66s\n",
      "2600:\ttest: 0.9371806\ttest1: 0.9085061\tbest: 0.9085061 (2600)\ttotal: 9.64s\tremaining: 1.48s\n",
      "2650:\ttest: 0.9374963\ttest1: 0.9085220\tbest: 0.9085220 (2650)\ttotal: 9.82s\tremaining: 1.29s\n",
      "2700:\ttest: 0.9378602\ttest1: 0.9086233\tbest: 0.9086233 (2700)\ttotal: 10s\tremaining: 1.11s\n",
      "2750:\ttest: 0.9382099\ttest1: 0.9086479\tbest: 0.9086479 (2750)\ttotal: 10.2s\tremaining: 922ms\n",
      "2800:\ttest: 0.9385286\ttest1: 0.9086827\tbest: 0.9086827 (2800)\ttotal: 10.4s\tremaining: 737ms\n",
      "2850:\ttest: 0.9389033\ttest1: 0.9087883\tbest: 0.9087883 (2850)\ttotal: 10.6s\tremaining: 551ms\n",
      "2900:\ttest: 0.9392440\ttest1: 0.9088231\tbest: 0.9088231 (2900)\ttotal: 10.7s\tremaining: 366ms\n",
      "2950:\ttest: 0.9396102\ttest1: 0.9089055\tbest: 0.9089055 (2950)\ttotal: 10.9s\tremaining: 181ms\n",
      "2999:\ttest: 0.9399287\ttest1: 0.9089041\tbest: 0.9089055 (2950)\ttotal: 11.1s\tremaining: 0us\n",
      "\n",
      "bestTest = 0.9089055409\n",
      "bestIteration = 2950\n",
      "\n",
      "Shrink model to first 2951 iterations.\n",
      "Fold  4 AUC : 0.908906\n",
      "0:\ttest: 0.8579199\ttest1: 0.8464087\tbest: 0.8464087 (0)\ttotal: 4.37ms\tremaining: 13.1s\n",
      "50:\ttest: 0.9119265\ttest1: 0.9063595\tbest: 0.9063595 (50)\ttotal: 202ms\tremaining: 11.7s\n",
      "100:\ttest: 0.9121985\ttest1: 0.9073811\tbest: 0.9073811 (100)\ttotal: 392ms\tremaining: 11.3s\n",
      "150:\ttest: 0.9125081\ttest1: 0.9072900\tbest: 0.9073811 (100)\ttotal: 571ms\tremaining: 10.8s\n",
      "200:\ttest: 0.9129603\ttest1: 0.9076385\tbest: 0.9076385 (200)\ttotal: 746ms\tremaining: 10.4s\n",
      "250:\ttest: 0.9131317\ttest1: 0.9080030\tbest: 0.9080030 (250)\ttotal: 940ms\tremaining: 10.3s\n",
      "300:\ttest: 0.9134964\ttest1: 0.9079327\tbest: 0.9080030 (250)\ttotal: 1.12s\tremaining: 10s\n",
      "350:\ttest: 0.9153546\ttest1: 0.9095474\tbest: 0.9095474 (350)\ttotal: 1.31s\tremaining: 9.91s\n",
      "400:\ttest: 0.9164947\ttest1: 0.9100382\tbest: 0.9100382 (400)\ttotal: 1.51s\tremaining: 9.8s\n",
      "450:\ttest: 0.9172836\ttest1: 0.9105882\tbest: 0.9105882 (450)\ttotal: 1.7s\tremaining: 9.63s\n",
      "500:\ttest: 0.9182206\ttest1: 0.9110199\tbest: 0.9110199 (500)\ttotal: 1.89s\tremaining: 9.45s\n",
      "550:\ttest: 0.9188192\ttest1: 0.9112549\tbest: 0.9112549 (550)\ttotal: 2.08s\tremaining: 9.22s\n",
      "600:\ttest: 0.9196580\ttest1: 0.9116738\tbest: 0.9116738 (600)\ttotal: 2.25s\tremaining: 8.99s\n",
      "650:\ttest: 0.9204422\ttest1: 0.9119248\tbest: 0.9119248 (650)\ttotal: 2.43s\tremaining: 8.77s\n",
      "700:\ttest: 0.9210356\ttest1: 0.9121230\tbest: 0.9121230 (700)\ttotal: 2.62s\tremaining: 8.59s\n",
      "750:\ttest: 0.9216692\ttest1: 0.9127417\tbest: 0.9127417 (750)\ttotal: 2.81s\tremaining: 8.41s\n",
      "800:\ttest: 0.9220978\ttest1: 0.9129927\tbest: 0.9129927 (800)\ttotal: 3.03s\tremaining: 8.32s\n",
      "850:\ttest: 0.9227388\ttest1: 0.9134116\tbest: 0.9134116 (850)\ttotal: 3.28s\tremaining: 8.28s\n",
      "900:\ttest: 0.9233263\ttest1: 0.9137681\tbest: 0.9137681 (900)\ttotal: 3.47s\tremaining: 8.09s\n",
      "950:\ttest: 0.9238218\ttest1: 0.9142094\tbest: 0.9142094 (950)\ttotal: 3.67s\tremaining: 7.9s\n",
      "1000:\ttest: 0.9244145\ttest1: 0.9146682\tbest: 0.9146682 (1000)\ttotal: 3.84s\tremaining: 7.68s\n",
      "1050:\ttest: 0.9248580\ttest1: 0.9150279\tbest: 0.9150279 (1050)\ttotal: 4.02s\tremaining: 7.46s\n",
      "1100:\ttest: 0.9252647\ttest1: 0.9152470\tbest: 0.9152470 (1100)\ttotal: 4.2s\tremaining: 7.24s\n",
      "1150:\ttest: 0.9257236\ttest1: 0.9156882\tbest: 0.9156882 (1150)\ttotal: 4.38s\tremaining: 7.03s\n",
      "1200:\ttest: 0.9261001\ttest1: 0.9157969\tbest: 0.9157969 (1200)\ttotal: 4.55s\tremaining: 6.82s\n",
      "1250:\ttest: 0.9264377\ttest1: 0.9159009\tbest: 0.9159009 (1250)\ttotal: 4.73s\tremaining: 6.61s\n",
      "1300:\ttest: 0.9268766\ttest1: 0.9160432\tbest: 0.9160432 (1300)\ttotal: 4.91s\tremaining: 6.42s\n",
      "1350:\ttest: 0.9272312\ttest1: 0.9162542\tbest: 0.9162542 (1350)\ttotal: 5.09s\tremaining: 6.22s\n",
      "1400:\ttest: 0.9275350\ttest1: 0.9164636\tbest: 0.9164636 (1400)\ttotal: 5.28s\tremaining: 6.03s\n",
      "1450:\ttest: 0.9278776\ttest1: 0.9165611\tbest: 0.9165611 (1450)\ttotal: 5.47s\tremaining: 5.84s\n",
      "1500:\ttest: 0.9282745\ttest1: 0.9167402\tbest: 0.9167402 (1500)\ttotal: 5.65s\tremaining: 5.64s\n",
      "1550:\ttest: 0.9286406\ttest1: 0.9168809\tbest: 0.9168809 (1550)\ttotal: 5.83s\tremaining: 5.45s\n",
      "1600:\ttest: 0.9290174\ttest1: 0.9169992\tbest: 0.9169992 (1600)\ttotal: 6.01s\tremaining: 5.25s\n",
      "1650:\ttest: 0.9294172\ttest1: 0.9170664\tbest: 0.9170664 (1650)\ttotal: 6.18s\tremaining: 5.05s\n",
      "1700:\ttest: 0.9297485\ttest1: 0.9171847\tbest: 0.9171847 (1700)\ttotal: 6.38s\tremaining: 4.87s\n",
      "1750:\ttest: 0.9301430\ttest1: 0.9173014\tbest: 0.9173014 (1750)\ttotal: 6.56s\tremaining: 4.68s\n",
      "1800:\ttest: 0.9305207\ttest1: 0.9174181\tbest: 0.9174181 (1800)\ttotal: 6.75s\tremaining: 4.49s\n",
      "1850:\ttest: 0.9308485\ttest1: 0.9174660\tbest: 0.9174660 (1850)\ttotal: 6.94s\tremaining: 4.31s\n",
      "1900:\ttest: 0.9311350\ttest1: 0.9176467\tbest: 0.9176467 (1900)\ttotal: 7.12s\tremaining: 4.12s\n",
      "1950:\ttest: 0.9314699\ttest1: 0.9177170\tbest: 0.9177170 (1950)\ttotal: 7.3s\tremaining: 3.92s\n",
      "2000:\ttest: 0.9318037\ttest1: 0.9178130\tbest: 0.9178130 (2000)\ttotal: 7.49s\tremaining: 3.74s\n",
      "2050:\ttest: 0.9321267\ttest1: 0.9178737\tbest: 0.9178737 (2050)\ttotal: 7.67s\tremaining: 3.55s\n",
      "2100:\ttest: 0.9324741\ttest1: 0.9179505\tbest: 0.9179505 (2100)\ttotal: 7.85s\tremaining: 3.36s\n",
      "2150:\ttest: 0.9328060\ttest1: 0.9180128\tbest: 0.9180128 (2150)\ttotal: 8.03s\tremaining: 3.17s\n",
      "2200:\ttest: 0.9331114\ttest1: 0.9180688\tbest: 0.9180688 (2200)\ttotal: 8.23s\tremaining: 2.99s\n",
      "2250:\ttest: 0.9334200\ttest1: 0.9181055\tbest: 0.9181055 (2250)\ttotal: 8.42s\tremaining: 2.8s\n",
      "2300:\ttest: 0.9337541\ttest1: 0.9181983\tbest: 0.9181983 (2300)\ttotal: 8.61s\tremaining: 2.62s\n",
      "2350:\ttest: 0.9341348\ttest1: 0.9182574\tbest: 0.9182574 (2350)\ttotal: 8.79s\tremaining: 2.43s\n",
      "2400:\ttest: 0.9344468\ttest1: 0.9182894\tbest: 0.9182894 (2400)\ttotal: 8.98s\tremaining: 2.24s\n",
      "2450:\ttest: 0.9347869\ttest1: 0.9183422\tbest: 0.9183422 (2450)\ttotal: 9.17s\tremaining: 2.05s\n",
      "2500:\ttest: 0.9351506\ttest1: 0.9184157\tbest: 0.9184157 (2500)\ttotal: 9.35s\tremaining: 1.87s\n",
      "2550:\ttest: 0.9355006\ttest1: 0.9185004\tbest: 0.9185004 (2550)\ttotal: 9.54s\tremaining: 1.68s\n",
      "2600:\ttest: 0.9357910\ttest1: 0.9185388\tbest: 0.9185388 (2600)\ttotal: 9.73s\tremaining: 1.49s\n",
      "2650:\ttest: 0.9361286\ttest1: 0.9185932\tbest: 0.9185932 (2650)\ttotal: 9.91s\tremaining: 1.3s\n",
      "2700:\ttest: 0.9364201\ttest1: 0.9185948\tbest: 0.9185948 (2700)\ttotal: 10.1s\tremaining: 1.12s\n",
      "2750:\ttest: 0.9366819\ttest1: 0.9186315\tbest: 0.9186315 (2750)\ttotal: 10.3s\tremaining: 930ms\n",
      "2800:\ttest: 0.9370071\ttest1: 0.9186827\tbest: 0.9186827 (2800)\ttotal: 10.5s\tremaining: 744ms\n",
      "2850:\ttest: 0.9373357\ttest1: 0.9186923\tbest: 0.9186923 (2850)\ttotal: 10.6s\tremaining: 556ms\n",
      "2900:\ttest: 0.9376852\ttest1: 0.9187067\tbest: 0.9187067 (2900)\ttotal: 10.8s\tremaining: 370ms\n",
      "2950:\ttest: 0.9380759\ttest1: 0.9187418\tbest: 0.9187418 (2950)\ttotal: 11s\tremaining: 183ms\n",
      "2999:\ttest: 0.9384082\ttest1: 0.9187866\tbest: 0.9187866 (2999)\ttotal: 11.2s\tremaining: 0us\n",
      "\n",
      "bestTest = 0.9187866114\n",
      "bestIteration = 2999\n",
      "\n",
      "Fold  5 AUC : 0.918787\n",
      "Full AUC score 0.915668\n"
     ]
    }
   ],
   "source": [
    "# 用catboost训练基于xgboost预训练的模型\n",
    "\n",
    "y = train['isDefault']\n",
    "train = train.drop('isDefault',axis=1)\n",
    "# folds = StratifiedKFold(n_splits=5, shuffle=True, random_state=546789)\n",
    "folds = KFold(n_splits=5, shuffle=True, random_state=546789)\n",
    "oof_preds, test_preds, importances = train_model(train, test, y, folds) # Use the training set to predict the labels in the testing set"
   ]
  },
  {
   "cell_type": "code",
   "execution_count": 61,
   "metadata": {},
   "outputs": [
    {
     "data": {
      "image/png": "[encoded data removed]",
      "text/plain": [
       "<Figure size 576x720 with 1 Axes>"
      ]
     },
     "metadata": {},
     "output_type": "display_data"
    }
   ],
   "source": [
    "display_importances(importances, fname='catboost_importances_xgboost+catboost.png')"
   ]
  },
  {
   "cell_type": "markdown",
   "metadata": {},
   "source": [
    "### 输出结果"
   ]
  },
  {
   "cell_type": "code",
   "execution_count": 55,
   "metadata": {},
   "outputs": [
    {
     "data": {
      "text/html": [
       "<div>\n",
       "<style scoped>\n",
       "    .dataframe tbody tr th:only-of-type {\n",
       "        vertical-align: middle;\n",
       "    }\n",
       "\n",
       "    .dataframe tbody tr th {\n",
       "        vertical-align: top;\n",
       "    }\n",
       "\n",
       "    .dataframe thead th {\n",
       "        text-align: right;\n",
       "    }\n",
       "</style>\n",
       "<table border=\"1\" class=\"dataframe\">\n",
       "  <thead>\n",
       "    <tr style=\"text-align: right;\">\n",
       "      <th></th>\n",
       "      <th>loan_id</th>\n",
       "      <th>isDefault</th>\n",
       "    </tr>\n",
       "  </thead>\n",
       "  <tbody>\n",
       "    <tr>\n",
       "      <th>10000</th>\n",
       "      <td>1000575</td>\n",
       "      <td>0.039</td>\n",
       "    </tr>\n",
       "    <tr>\n",
       "      <th>10001</th>\n",
       "      <td>1028125</td>\n",
       "      <td>0.067</td>\n",
       "    </tr>\n",
       "    <tr>\n",
       "      <th>10002</th>\n",
       "      <td>1010694</td>\n",
       "      <td>0.022</td>\n",
       "    </tr>\n",
       "    <tr>\n",
       "      <th>10003</th>\n",
       "      <td>1026712</td>\n",
       "      <td>0.018</td>\n",
       "    </tr>\n",
       "    <tr>\n",
       "      <th>10004</th>\n",
       "      <td>1002895</td>\n",
       "      <td>0.030</td>\n",
       "    </tr>\n",
       "  </tbody>\n",
       "</table>\n",
       "</div>"
      ],
      "text/plain": [
       "       loan_id  isDefault\n",
       "10000  1000575      0.039\n",
       "10001  1028125      0.067\n",
       "10002  1010694      0.022\n",
       "10003  1026712      0.018\n",
       "10004  1002895      0.030"
      ]
     },
     "execution_count": 55,
     "metadata": {},
     "output_type": "execute_result"
    }
   ],
   "source": [
    "test_preds.head()"
   ]
  },
  {
   "cell_type": "code",
   "execution_count": 58,
   "metadata": {},
   "outputs": [],
   "source": [
    "submission_date = '211118'\n",
    "process(test_preds.rename({'loan_id': 'id'}, axis=1)[['id','isDefault']],3).to_csv(f'./submit/submission_{submission_date}.csv', index=False)"
   ]
  }
 ],
 "metadata": {
  "kernelspec": {
   "display_name": "Python 3",
   "language": "python",
   "name": "python3"
  },
  "language_info": {
   "codemirror_mode": {
    "name": "ipython",
    "version": 3
   },
   "file_extension": ".py",
   "mimetype": "text/x-python",
   "name": "python",
   "nbconvert_exporter": "python",
   "pygments_lexer": "ipython3",
   "version": "3.9.7"
  }
 },
 "nbformat": 4,
 "nbformat_minor": 2
}
